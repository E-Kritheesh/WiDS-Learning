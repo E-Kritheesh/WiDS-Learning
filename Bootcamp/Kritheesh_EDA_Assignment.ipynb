{
  "nbformat": 4,
  "nbformat_minor": 0,
  "metadata": {
    "colab": {
      "name": "Kritheesh_EDA_Assignment.ipynb",
      "provenance": [],
      "collapsed_sections": []
    },
    "kernelspec": {
      "display_name": "Python 3",
      "language": "python",
      "name": "python3"
    },
    "language_info": {
      "codemirror_mode": {
        "name": "ipython",
        "version": 3
      },
      "file_extension": ".py",
      "mimetype": "text/x-python",
      "name": "python",
      "nbconvert_exporter": "python",
      "pygments_lexer": "ipython3",
      "version": "3.7.6"
    }
  },
  "cells": [
    {
      "cell_type": "markdown",
      "metadata": {
        "id": "mYvIEECTOJwc"
      },
      "source": [
        "# WiDS Assignment\n"
      ]
    },
    {
      "cell_type": "markdown",
      "metadata": {
        "id": "rLK_mGZlJ_Y_"
      },
      "source": [
        "**Welcome to your EDA assignment ! We hope you are excited to implement and test everything you have learnt up until now. The dataset which you'll use includes information about Pokemons.**\n",
        "\n",
        "**We've got an interesting set of questions for you to get a basic understanding of pandas and data visualization libraries. GOOD LUCK!**\n",
        "\n",
        "This assignment is expected to be completed in Jupyter notebooks or Google Colab and submitted as an ipynb file.\n"
      ]
    },
    {
      "cell_type": "markdown",
      "metadata": {
        "id": "3urmJxE7KKVj"
      },
      "source": [
        "### 1) Start by importing all important libraries\n",
        "For eg, \"import numpy as np\"\n",
        "\n",
        "Import numpy, matplotlib, seaborn, pandas and any others that you require."
      ]
    },
    {
      "cell_type": "code",
      "metadata": {
        "id": "2kLDKA3bKGMD",
        "colab": {
          "base_uri": "https://localhost:8080/"
        },
        "outputId": "5f297533-cf3f-40a7-f9e4-b78eec5e6d3a"
      },
      "source": [
        "import numpy as np\n",
        "import pandas as pd\n",
        "import matplotlib.pyplot as plt\n",
        "\n",
        "# to access dataset from drive\n",
        "from google.colab import drive\n",
        "drive.mount('/content/drive')"
      ],
      "execution_count": null,
      "outputs": [
        {
          "output_type": "stream",
          "name": "stdout",
          "text": [
            "Mounted at /content/drive\n"
          ]
        }
      ]
    },
    {
      "cell_type": "markdown",
      "metadata": {
        "id": "0bpXri-3KVei"
      },
      "source": [
        "### 2) Read the csv file and assign it to a variable . "
      ]
    },
    {
      "cell_type": "code",
      "metadata": {
        "id": "XwzSYh42Kdej",
        "colab": {
          "base_uri": "https://localhost:8080/",
          "height": 206
        },
        "outputId": "ebc13f73-1929-4b5a-b1af-9e5a848a3af5"
      },
      "source": [
        "total_data = pd.read_csv('/content/drive/MyDrive/pokemon_dataset.csv')\n",
        "total_data.head()                          # to display first 5 rows"
      ],
      "execution_count": null,
      "outputs": [
        {
          "output_type": "execute_result",
          "data": {
            "text/html": [
              "<div>\n",
              "<style scoped>\n",
              "    .dataframe tbody tr th:only-of-type {\n",
              "        vertical-align: middle;\n",
              "    }\n",
              "\n",
              "    .dataframe tbody tr th {\n",
              "        vertical-align: top;\n",
              "    }\n",
              "\n",
              "    .dataframe thead th {\n",
              "        text-align: right;\n",
              "    }\n",
              "</style>\n",
              "<table border=\"1\" class=\"dataframe\">\n",
              "  <thead>\n",
              "    <tr style=\"text-align: right;\">\n",
              "      <th></th>\n",
              "      <th>#</th>\n",
              "      <th>Name</th>\n",
              "      <th>Type 1</th>\n",
              "      <th>Type 2</th>\n",
              "      <th>Total</th>\n",
              "      <th>HP</th>\n",
              "      <th>Attack</th>\n",
              "      <th>Defense</th>\n",
              "      <th>Sp. Atk</th>\n",
              "      <th>Sp. Def</th>\n",
              "      <th>Speed</th>\n",
              "      <th>Generation</th>\n",
              "      <th>Legendary</th>\n",
              "    </tr>\n",
              "  </thead>\n",
              "  <tbody>\n",
              "    <tr>\n",
              "      <th>0</th>\n",
              "      <td>1</td>\n",
              "      <td>Bulbasaur</td>\n",
              "      <td>Grass</td>\n",
              "      <td>Poison</td>\n",
              "      <td>318</td>\n",
              "      <td>45</td>\n",
              "      <td>49</td>\n",
              "      <td>49</td>\n",
              "      <td>65</td>\n",
              "      <td>65</td>\n",
              "      <td>45</td>\n",
              "      <td>1</td>\n",
              "      <td>False</td>\n",
              "    </tr>\n",
              "    <tr>\n",
              "      <th>1</th>\n",
              "      <td>2</td>\n",
              "      <td>Ivysaur</td>\n",
              "      <td>Grass</td>\n",
              "      <td>Poison</td>\n",
              "      <td>405</td>\n",
              "      <td>60</td>\n",
              "      <td>62</td>\n",
              "      <td>63</td>\n",
              "      <td>80</td>\n",
              "      <td>80</td>\n",
              "      <td>60</td>\n",
              "      <td>1</td>\n",
              "      <td>False</td>\n",
              "    </tr>\n",
              "    <tr>\n",
              "      <th>2</th>\n",
              "      <td>3</td>\n",
              "      <td>Venusaur</td>\n",
              "      <td>Grass</td>\n",
              "      <td>Poison</td>\n",
              "      <td>525</td>\n",
              "      <td>80</td>\n",
              "      <td>82</td>\n",
              "      <td>83</td>\n",
              "      <td>100</td>\n",
              "      <td>100</td>\n",
              "      <td>80</td>\n",
              "      <td>1</td>\n",
              "      <td>False</td>\n",
              "    </tr>\n",
              "    <tr>\n",
              "      <th>3</th>\n",
              "      <td>3</td>\n",
              "      <td>VenusaurMega Venusaur</td>\n",
              "      <td>Grass</td>\n",
              "      <td>Poison</td>\n",
              "      <td>625</td>\n",
              "      <td>80</td>\n",
              "      <td>100</td>\n",
              "      <td>123</td>\n",
              "      <td>122</td>\n",
              "      <td>120</td>\n",
              "      <td>80</td>\n",
              "      <td>1</td>\n",
              "      <td>False</td>\n",
              "    </tr>\n",
              "    <tr>\n",
              "      <th>4</th>\n",
              "      <td>4</td>\n",
              "      <td>Charmander</td>\n",
              "      <td>Fire</td>\n",
              "      <td>NaN</td>\n",
              "      <td>309</td>\n",
              "      <td>39</td>\n",
              "      <td>52</td>\n",
              "      <td>43</td>\n",
              "      <td>60</td>\n",
              "      <td>50</td>\n",
              "      <td>65</td>\n",
              "      <td>1</td>\n",
              "      <td>False</td>\n",
              "    </tr>\n",
              "  </tbody>\n",
              "</table>\n",
              "</div>"
            ],
            "text/plain": [
              "   #                   Name Type 1  ... Speed  Generation  Legendary\n",
              "0  1              Bulbasaur  Grass  ...    45           1      False\n",
              "1  2                Ivysaur  Grass  ...    60           1      False\n",
              "2  3               Venusaur  Grass  ...    80           1      False\n",
              "3  3  VenusaurMega Venusaur  Grass  ...    80           1      False\n",
              "4  4             Charmander   Fire  ...    65           1      False\n",
              "\n",
              "[5 rows x 13 columns]"
            ]
          },
          "metadata": {},
          "execution_count": 2
        }
      ]
    },
    {
      "cell_type": "markdown",
      "metadata": {
        "id": "K72xx38QKeRU"
      },
      "source": [
        "### 3) Display shape of dataframe\n",
        "Expected Output - (800, 13)"
      ]
    },
    {
      "cell_type": "code",
      "metadata": {
        "id": "YPqY3euIKoCk",
        "colab": {
          "base_uri": "https://localhost:8080/"
        },
        "outputId": "ead35b61-0d33-46bf-a9ac-997a01c45748"
      },
      "source": [
        "total_data.shape"
      ],
      "execution_count": null,
      "outputs": [
        {
          "output_type": "execute_result",
          "data": {
            "text/plain": [
              "(800, 13)"
            ]
          },
          "metadata": {},
          "execution_count": 3
        }
      ]
    },
    {
      "cell_type": "markdown",
      "metadata": {
        "id": "qJm2x6TMKolc"
      },
      "source": [
        "### 4) Print all columns of dataframe\n",
        "Return an array containing names of all the columns."
      ]
    },
    {
      "cell_type": "code",
      "metadata": {
        "id": "ocVSOb3kKvQV",
        "colab": {
          "base_uri": "https://localhost:8080/"
        },
        "outputId": "03ba2cef-0dbe-499e-8280-22d3ec3b9227"
      },
      "source": [
        "total_data.columns"
      ],
      "execution_count": null,
      "outputs": [
        {
          "output_type": "execute_result",
          "data": {
            "text/plain": [
              "Index(['#', 'Name', 'Type 1', 'Type 2', 'Total', 'HP', 'Attack', 'Defense',\n",
              "       'Sp. Atk', 'Sp. Def', 'Speed', 'Generation', 'Legendary'],\n",
              "      dtype='object')"
            ]
          },
          "metadata": {},
          "execution_count": 4
        }
      ]
    },
    {
      "cell_type": "markdown",
      "metadata": {
        "id": "HE0-ugnfKvl9"
      },
      "source": [
        "### 5) Remove the column '#' and update the dataframe."
      ]
    },
    {
      "cell_type": "code",
      "metadata": {
        "id": "xU-1sxGCK7UF",
        "colab": {
          "base_uri": "https://localhost:8080/",
          "height": 206
        },
        "outputId": "850acc7a-381d-41f1-c66a-ba52d89b03a0"
      },
      "source": [
        "# axis is 1 for specifying to drop a column\n",
        "# inplace value is true to update the dataframe\n",
        "total_data.drop('#', axis=1, inplace=True)\n",
        "total_data.head()"
      ],
      "execution_count": null,
      "outputs": [
        {
          "output_type": "execute_result",
          "data": {
            "text/html": [
              "<div>\n",
              "<style scoped>\n",
              "    .dataframe tbody tr th:only-of-type {\n",
              "        vertical-align: middle;\n",
              "    }\n",
              "\n",
              "    .dataframe tbody tr th {\n",
              "        vertical-align: top;\n",
              "    }\n",
              "\n",
              "    .dataframe thead th {\n",
              "        text-align: right;\n",
              "    }\n",
              "</style>\n",
              "<table border=\"1\" class=\"dataframe\">\n",
              "  <thead>\n",
              "    <tr style=\"text-align: right;\">\n",
              "      <th></th>\n",
              "      <th>Name</th>\n",
              "      <th>Type 1</th>\n",
              "      <th>Type 2</th>\n",
              "      <th>Total</th>\n",
              "      <th>HP</th>\n",
              "      <th>Attack</th>\n",
              "      <th>Defense</th>\n",
              "      <th>Sp. Atk</th>\n",
              "      <th>Sp. Def</th>\n",
              "      <th>Speed</th>\n",
              "      <th>Generation</th>\n",
              "      <th>Legendary</th>\n",
              "    </tr>\n",
              "  </thead>\n",
              "  <tbody>\n",
              "    <tr>\n",
              "      <th>0</th>\n",
              "      <td>Bulbasaur</td>\n",
              "      <td>Grass</td>\n",
              "      <td>Poison</td>\n",
              "      <td>318</td>\n",
              "      <td>45</td>\n",
              "      <td>49</td>\n",
              "      <td>49</td>\n",
              "      <td>65</td>\n",
              "      <td>65</td>\n",
              "      <td>45</td>\n",
              "      <td>1</td>\n",
              "      <td>False</td>\n",
              "    </tr>\n",
              "    <tr>\n",
              "      <th>1</th>\n",
              "      <td>Ivysaur</td>\n",
              "      <td>Grass</td>\n",
              "      <td>Poison</td>\n",
              "      <td>405</td>\n",
              "      <td>60</td>\n",
              "      <td>62</td>\n",
              "      <td>63</td>\n",
              "      <td>80</td>\n",
              "      <td>80</td>\n",
              "      <td>60</td>\n",
              "      <td>1</td>\n",
              "      <td>False</td>\n",
              "    </tr>\n",
              "    <tr>\n",
              "      <th>2</th>\n",
              "      <td>Venusaur</td>\n",
              "      <td>Grass</td>\n",
              "      <td>Poison</td>\n",
              "      <td>525</td>\n",
              "      <td>80</td>\n",
              "      <td>82</td>\n",
              "      <td>83</td>\n",
              "      <td>100</td>\n",
              "      <td>100</td>\n",
              "      <td>80</td>\n",
              "      <td>1</td>\n",
              "      <td>False</td>\n",
              "    </tr>\n",
              "    <tr>\n",
              "      <th>3</th>\n",
              "      <td>VenusaurMega Venusaur</td>\n",
              "      <td>Grass</td>\n",
              "      <td>Poison</td>\n",
              "      <td>625</td>\n",
              "      <td>80</td>\n",
              "      <td>100</td>\n",
              "      <td>123</td>\n",
              "      <td>122</td>\n",
              "      <td>120</td>\n",
              "      <td>80</td>\n",
              "      <td>1</td>\n",
              "      <td>False</td>\n",
              "    </tr>\n",
              "    <tr>\n",
              "      <th>4</th>\n",
              "      <td>Charmander</td>\n",
              "      <td>Fire</td>\n",
              "      <td>NaN</td>\n",
              "      <td>309</td>\n",
              "      <td>39</td>\n",
              "      <td>52</td>\n",
              "      <td>43</td>\n",
              "      <td>60</td>\n",
              "      <td>50</td>\n",
              "      <td>65</td>\n",
              "      <td>1</td>\n",
              "      <td>False</td>\n",
              "    </tr>\n",
              "  </tbody>\n",
              "</table>\n",
              "</div>"
            ],
            "text/plain": [
              "                    Name Type 1  Type 2  ...  Speed  Generation  Legendary\n",
              "0              Bulbasaur  Grass  Poison  ...     45           1      False\n",
              "1                Ivysaur  Grass  Poison  ...     60           1      False\n",
              "2               Venusaur  Grass  Poison  ...     80           1      False\n",
              "3  VenusaurMega Venusaur  Grass  Poison  ...     80           1      False\n",
              "4             Charmander   Fire     NaN  ...     65           1      False\n",
              "\n",
              "[5 rows x 12 columns]"
            ]
          },
          "metadata": {},
          "execution_count": 5
        }
      ]
    },
    {
      "cell_type": "markdown",
      "metadata": {
        "id": "04L2giwTLElt"
      },
      "source": [
        "###  7) Print a list of all the unique Type-1 powers"
      ]
    },
    {
      "cell_type": "code",
      "metadata": {
        "id": "Svgs2agDLYxt",
        "colab": {
          "base_uri": "https://localhost:8080/"
        },
        "outputId": "1b9dfb4b-2566-4a95-a932-69b67ef823cb"
      },
      "source": [
        "total_data['Type 1'].drop_duplicates()"
      ],
      "execution_count": null,
      "outputs": [
        {
          "output_type": "execute_result",
          "data": {
            "text/plain": [
              "0         Grass\n",
              "4          Fire\n",
              "9         Water\n",
              "13          Bug\n",
              "20       Normal\n",
              "28       Poison\n",
              "30     Electric\n",
              "32       Ground\n",
              "40        Fairy\n",
              "61     Fighting\n",
              "68      Psychic\n",
              "80         Rock\n",
              "99        Ghost\n",
              "133         Ice\n",
              "159      Dragon\n",
              "212        Dark\n",
              "223       Steel\n",
              "702      Flying\n",
              "Name: Type 1, dtype: object"
            ]
          },
          "metadata": {},
          "execution_count": 6
        }
      ]
    },
    {
      "cell_type": "markdown",
      "metadata": {
        "id": "SR7p7NhNU2vy"
      },
      "source": [
        "### 1. How many pokemons have 'Mega' in their name?"
      ]
    },
    {
      "cell_type": "code",
      "metadata": {
        "id": "Jj4cUag7WZYB",
        "colab": {
          "base_uri": "https://localhost:8080/"
        },
        "outputId": "5df94198-0d7d-42c2-9fb8-d32d8db606bc"
      },
      "source": [
        "len(total_data[ total_data['Name'].str.contains('Mega') == True ])\n",
        "\n",
        "# total_data['Name'].str.contains('Mega') == True to check if the name contains 'Mega'\n",
        "# total_data[ total_data['Name'].str.contains('Mega') == True ] to find all such rows of total_data\n",
        "# len() to return its length which is same as the number of pokemons having 'Mega' in their name"
      ],
      "execution_count": null,
      "outputs": [
        {
          "output_type": "execute_result",
          "data": {
            "text/plain": [
              "49"
            ]
          },
          "metadata": {},
          "execution_count": 7
        }
      ]
    },
    {
      "cell_type": "markdown",
      "metadata": {
        "id": "yL9loV4IWZwp"
      },
      "source": [
        "### 2. What is the standard deviation of Sp. Def. in the dataset ?"
      ]
    },
    {
      "cell_type": "code",
      "metadata": {
        "id": "WjOwyU89WlwR",
        "colab": {
          "base_uri": "https://localhost:8080/"
        },
        "outputId": "cf4178b3-6ed3-40a1-8379-eb428eaff47d"
      },
      "source": [
        "total_data['Sp. Def'].std()"
      ],
      "execution_count": null,
      "outputs": [
        {
          "output_type": "execute_result",
          "data": {
            "text/plain": [
              "27.82891579711745"
            ]
          },
          "metadata": {},
          "execution_count": 8
        }
      ]
    },
    {
      "cell_type": "markdown",
      "metadata": {
        "id": "PfUPj9e7Wmkx"
      },
      "source": [
        "### 3. What percentage (upto 3 decimal places) of pokemons are legendary ? "
      ]
    },
    {
      "cell_type": "code",
      "metadata": {
        "id": "Qoy0rPpUW2lp",
        "colab": {
          "base_uri": "https://localhost:8080/"
        },
        "outputId": "2be172b1-57e1-4c93-d8ec-65a8f2f18d2c"
      },
      "source": [
        "len(total_data[total_data.Legendary == True])/ len(total_data)*100\n",
        "\n",
        "# total_data.Legendary == True to check if 'Legendary' column is True\n",
        "# total_data[total_data.Legendary == True] to find all such rows of total_data\n",
        "# len() to return its length which is same as the number of pokemons that are legendary\n",
        "# / len(total_data)*100 for percentage calculation"
      ],
      "execution_count": null,
      "outputs": [
        {
          "output_type": "execute_result",
          "data": {
            "text/plain": [
              "8.125"
            ]
          },
          "metadata": {},
          "execution_count": 9
        }
      ]
    },
    {
      "cell_type": "markdown",
      "metadata": {
        "id": "WlVG6ZpxQzfD"
      },
      "source": [
        "**Now that you have imported the dataset and libraries, and answered some basic questions, you can move on to the visualizations and some intermediate statistics !**"
      ]
    },
    {
      "cell_type": "markdown",
      "metadata": {
        "id": "OTNPHWvhRfM1"
      },
      "source": [
        "### Discrete variables:\n",
        "a. For each variable, plot the frequency of each unique value (histogram).\n",
        "\n",
        "b. For each variable, identify the mode value."
      ]
    },
    {
      "cell_type": "code",
      "source": [
        "# printing all unique values of each column to find the discrete variables\n",
        "# the columns with relatively lesser unique values are discrete\n",
        "\n",
        "for column in total_data.columns:\n",
        "  print(total_data[column].drop_duplicates())"
      ],
      "metadata": {
        "colab": {
          "base_uri": "https://localhost:8080/"
        },
        "id": "oAnr96ES6Wv7",
        "outputId": "35a2d9a8-49a4-4657-db4a-b0ec540035b2"
      },
      "execution_count": null,
      "outputs": [
        {
          "output_type": "stream",
          "name": "stdout",
          "text": [
            "0                  Bulbasaur\n",
            "1                    Ivysaur\n",
            "2                   Venusaur\n",
            "3      VenusaurMega Venusaur\n",
            "4                 Charmander\n",
            "               ...          \n",
            "795                  Diancie\n",
            "796      DiancieMega Diancie\n",
            "797      HoopaHoopa Confined\n",
            "798       HoopaHoopa Unbound\n",
            "799                Volcanion\n",
            "Name: Name, Length: 800, dtype: object\n",
            "0         Grass\n",
            "4          Fire\n",
            "9         Water\n",
            "13          Bug\n",
            "20       Normal\n",
            "28       Poison\n",
            "30     Electric\n",
            "32       Ground\n",
            "40        Fairy\n",
            "61     Fighting\n",
            "68      Psychic\n",
            "80         Rock\n",
            "99        Ghost\n",
            "133         Ice\n",
            "159      Dragon\n",
            "212        Dark\n",
            "223       Steel\n",
            "702      Flying\n",
            "Name: Type 1, dtype: object\n",
            "0        Poison\n",
            "4           NaN\n",
            "6        Flying\n",
            "7        Dragon\n",
            "36       Ground\n",
            "44        Fairy\n",
            "51        Grass\n",
            "67     Fighting\n",
            "85      Psychic\n",
            "88        Steel\n",
            "94          Ice\n",
            "119        Rock\n",
            "141        Dark\n",
            "149       Water\n",
            "184    Electric\n",
            "246        Fire\n",
            "316       Ghost\n",
            "379         Bug\n",
            "735      Normal\n",
            "Name: Type 2, dtype: object\n",
            "0      318\n",
            "1      405\n",
            "2      525\n",
            "3      625\n",
            "4      309\n",
            "      ... \n",
            "766    362\n",
            "767    521\n",
            "772    431\n",
            "788    304\n",
            "789    514\n",
            "Name: Total, Length: 200, dtype: int64\n",
            "0       45\n",
            "1       60\n",
            "2       80\n",
            "4       39\n",
            "5       58\n",
            "      ... \n",
            "741    123\n",
            "753    101\n",
            "755     82\n",
            "758     42\n",
            "792    126\n",
            "Name: HP, Length: 94, dtype: int64\n",
            "0       49\n",
            "1       62\n",
            "2       82\n",
            "3      100\n",
            "4       52\n",
            "      ... \n",
            "727     36\n",
            "733     22\n",
            "756     54\n",
            "767    121\n",
            "792    131\n",
            "Name: Attack, Length: 111, dtype: int64\n",
            "0       49\n",
            "1       63\n",
            "2       83\n",
            "3      123\n",
            "4       43\n",
            "      ... \n",
            "745     54\n",
            "764     33\n",
            "767    119\n",
            "789    184\n",
            "794    121\n",
            "Name: Defense, Length: 103, dtype: int64\n",
            "0       65\n",
            "1       80\n",
            "2      100\n",
            "3      122\n",
            "4       60\n",
            "      ... \n",
            "727     32\n",
            "732     27\n",
            "753     99\n",
            "758     39\n",
            "792    131\n",
            "Name: Sp. Atk, Length: 105, dtype: int64\n",
            "0       65\n",
            "1       80\n",
            "2      100\n",
            "3      120\n",
            "4       50\n",
            "      ... \n",
            "756     46\n",
            "761    123\n",
            "765     94\n",
            "769     92\n",
            "775    113\n",
            "Name: Sp. Def, Length: 92, dtype: int64\n",
            "0       45\n",
            "1       60\n",
            "2       80\n",
            "4       65\n",
            "6      100\n",
            "      ... \n",
            "734     89\n",
            "754     49\n",
            "771    118\n",
            "787     54\n",
            "791    123\n",
            "Name: Speed, Length: 108, dtype: int64\n",
            "0      1\n",
            "166    2\n",
            "272    3\n",
            "432    4\n",
            "553    5\n",
            "718    6\n",
            "Name: Generation, dtype: int64\n",
            "0      False\n",
            "156     True\n",
            "Name: Legendary, dtype: bool\n"
          ]
        }
      ]
    },
    {
      "cell_type": "markdown",
      "source": [
        "**I used bar plots instead of histograms.** The reason is because some of the column entries are words and were easier to interpret horizontally. Also since the plots are for 'discrete' columns, histograms don't add any difference in information than the bar plots."
      ],
      "metadata": {
        "id": "ndpcRptG-6hq"
      }
    },
    {
      "cell_type": "code",
      "source": [
        "discrete_col = ['Type 1', 'Type 2', 'Generation', 'Legendary']   # obtained from the output of the previous code cell\n",
        "\n",
        "plt.style.use('seaborn-deep')\n",
        "\n",
        "# Type-1\n",
        "total_data.groupby('Type 1').size().plot(kind='barh')    # part a\n",
        "print('Mode: %s' %total_data['Type 1'].mode()[0])    # part b"
      ],
      "metadata": {
        "colab": {
          "base_uri": "https://localhost:8080/",
          "height": 282
        },
        "id": "rG5o6uSIfoM3",
        "outputId": "86b1f347-bbdc-42a2-ddbb-0f5db2a84842"
      },
      "execution_count": null,
      "outputs": [
        {
          "output_type": "stream",
          "name": "stdout",
          "text": [
            "Mode: Water\n"
          ]
        },
        {
          "output_type": "display_data",
          "data": {
            "image/png": "[encoded data removed]",
            "text/plain": [
              "<Figure size 432x288 with 1 Axes>"
            ]
          },
          "metadata": {
            "needs_background": "light"
          }
        }
      ]
    },
    {
      "cell_type": "code",
      "source": [
        "plt.style.use('ggplot')\n",
        "\n",
        "# Type-2\n",
        "total_data.groupby('Type 2').size().plot(kind='barh')    # part a\n",
        "print('Mode: %s' %total_data['Type 2'].mode()[0])    # part b"
      ],
      "metadata": {
        "id": "GQnjH3hz5Vzd",
        "colab": {
          "base_uri": "https://localhost:8080/",
          "height": 282
        },
        "outputId": "d3366419-ee3f-4886-ef8f-ce0719a7643c"
      },
      "execution_count": null,
      "outputs": [
        {
          "output_type": "stream",
          "name": "stdout",
          "text": [
            "Mode: Flying\n"
          ]
        },
        {
          "output_type": "display_data",
          "data": {
            "image/png": "[encoded data removed]",
            "text/plain": [
              "<Figure size 432x288 with 1 Axes>"
            ]
          },
          "metadata": {}
        }
      ]
    },
    {
      "cell_type": "code",
      "source": [
        "plt.style.use('seaborn-dark-palette')\n",
        "\n",
        "# Generation\n",
        "total_data.groupby('Generation').size().plot(kind='bar')\n",
        "plt.xticks(rotation=0)    # part a\n",
        "print('Mode: %s' %total_data['Generation'].mode()[0])    # part b"
      ],
      "metadata": {
        "colab": {
          "base_uri": "https://localhost:8080/",
          "height": 299
        },
        "id": "pau6sDxu7JSw",
        "outputId": "05f87722-ad9a-4386-f9a1-4ede6fef4720"
      },
      "execution_count": null,
      "outputs": [
        {
          "output_type": "stream",
          "name": "stdout",
          "text": [
            "Mode: 1\n"
          ]
        },
        {
          "output_type": "display_data",
          "data": {
            "image/png": "[encoded data removed]",
            "text/plain": [
              "<Figure size 432x288 with 1 Axes>"
            ]
          },
          "metadata": {}
        }
      ]
    },
    {
      "cell_type": "code",
      "source": [
        "plt.style.use('seaborn-pastel')\n",
        "\n",
        "# Legendary\n",
        "total_data.groupby('Legendary').size().plot(kind='bar')\n",
        "plt.xticks(rotation=0)    # part a\n",
        "print('Mode: %s' %total_data['Legendary'].mode()[0])    # part b"
      ],
      "metadata": {
        "colab": {
          "base_uri": "https://localhost:8080/",
          "height": 299
        },
        "id": "LUn0FN-46ncs",
        "outputId": "050312f9-b694-4fee-a18e-6a3abe55d94a"
      },
      "execution_count": null,
      "outputs": [
        {
          "output_type": "stream",
          "name": "stdout",
          "text": [
            "Mode: False\n"
          ]
        },
        {
          "output_type": "display_data",
          "data": {
            "image/png": "[encoded data removed]",
            "text/plain": [
              "<Figure size 432x288 with 1 Axes>"
            ]
          },
          "metadata": {}
        }
      ]
    },
    {
      "cell_type": "markdown",
      "metadata": {
        "id": "run5MX-tRw9W"
      },
      "source": [
        "### Continuous variables:\n",
        "\n",
        "(Define a function for parts 'a' and 'b' which will accept feature name as input and print/plot required quantities as output. This will save time)\n",
        "\n",
        "a. For each variable, print mean, variance, skew, min, max, median, 25th percentile, 75th percentile, and inter-quartile range.\n",
        "\n",
        "b. For each variable, plot box-and-whiskers plots.\n",
        "\n",
        "c. For each variable, plot the histogram. (do this manually for each feature and adjust the number of bins)\n",
        "\n",
        "d. For any 2 continuous variables, plot the QQ plot. Read online about how it is interpreted.\n",
        "\n"
      ]
    },
    {
      "cell_type": "code",
      "source": [
        "def func_ab(col):     # function a and b parts\n",
        "  print('Column         :%s'%col)\n",
        "  print('Mean           :%s'%total_data[col].mean())\n",
        "  print('Variance       :%s'%total_data[col].var())\n",
        "  print('Skew           :%s'%total_data[col].skew())\n",
        "  print('Min            :%s'%min(total_data[col]))\n",
        "  print('Max            :%s'%max(total_data[col]))\n",
        "  print('Median         :%s'%total_data[col].median())\n",
        "  print('25th percentile:%s'%total_data[col].quantile(0.25))\n",
        "  print('75th percentile:%s'%total_data[col].quantile(0.75))\n",
        "  print('Inter-quartile :%s'%(total_data[col].quantile(0.75)-total_data[col].quantile(0.25)))\n",
        "  plt.style.use('ggplot')\n",
        "  total_data.boxplot(column = col)\n",
        "  plt.show()\n",
        "  print('\\n')"
      ],
      "metadata": {
        "id": "RCURxfeDAHIH"
      },
      "execution_count": null,
      "outputs": []
    },
    {
      "cell_type": "code",
      "source": [
        "for column in total_data.columns:\n",
        "  if column in discrete_col:    # all columns except the discrete ones are continuous\n",
        "    continue\n",
        "  elif column == 'Name':        # ignoring the Name column\n",
        "    continue\n",
        "  func_ab(column)"
      ],
      "metadata": {
        "colab": {
          "base_uri": "https://localhost:8080/",
          "height": 1000
        },
        "id": "3Cg5EMhFA6EU",
        "outputId": "9859ad0d-2887-4ce4-bc09-e1c84ea69603"
      },
      "execution_count": null,
      "outputs": [
        {
          "output_type": "stream",
          "name": "stdout",
          "text": [
            "Column         :Total\n",
            "Mean           :435.1025\n",
            "Variance       :14391.130907384233\n",
            "Skew           :0.1525299233953993\n",
            "Min            :180\n",
            "Max            :780\n",
            "Median         :450.0\n",
            "25th percentile:330.0\n",
            "75th percentile:515.0\n",
            "Inter-quartile :185.0\n"
          ]
        },
        {
          "output_type": "display_data",
          "data": {
            "image/png": "[encoded data removed]",
            "text/plain": [
              "<Figure size 432x288 with 1 Axes>"
            ]
          },
          "metadata": {}
        },
        {
          "output_type": "stream",
          "name": "stdout",
          "text": [
            "\n",
            "\n",
            "Column         :HP\n",
            "Mean           :69.25875\n",
            "Variance       :652.0193225907373\n",
            "Skew           :1.5682243758418617\n",
            "Min            :1\n",
            "Max            :255\n",
            "Median         :65.0\n",
            "25th percentile:50.0\n",
            "75th percentile:80.0\n",
            "Inter-quartile :30.0\n"
          ]
        },
        {
          "output_type": "display_data",
          "data": {
            "image/png": "[encoded data removed]",
            "text/plain": [
              "<Figure size 432x288 with 1 Axes>"
            ]
          },
          "metadata": {}
        },
        {
          "output_type": "stream",
          "name": "stdout",
          "text": [
            "\n",
            "\n",
            "Column         :Attack\n",
            "Mean           :79.00125\n",
            "Variance       :1053.4805991864816\n",
            "Skew           :0.5516137480269772\n",
            "Min            :5\n",
            "Max            :190\n",
            "Median         :75.0\n",
            "25th percentile:55.0\n",
            "75th percentile:100.0\n",
            "Inter-quartile :45.0\n"
          ]
        },
        {
          "output_type": "display_data",
          "data": {
            "image/png": "[encoded data removed]",
            "text/plain": [
              "<Figure size 432x288 with 1 Axes>"
            ]
          },
          "metadata": {}
        },
        {
          "output_type": "stream",
          "name": "stdout",
          "text": [
            "\n",
            "\n",
            "Column         :Defense\n",
            "Mean           :73.8425\n",
            "Variance       :972.410707133917\n",
            "Skew           :1.1559123029560856\n",
            "Min            :5\n",
            "Max            :230\n",
            "Median         :70.0\n",
            "25th percentile:50.0\n",
            "75th percentile:90.0\n",
            "Inter-quartile :40.0\n"
          ]
        },
        {
          "output_type": "display_data",
          "data": {
            "image/png": "[encoded data removed]",
            "text/plain": [
              "<Figure size 432x288 with 1 Axes>"
            ]
          },
          "metadata": {}
        },
        {
          "output_type": "stream",
          "name": "stdout",
          "text": [
            "\n",
            "\n",
            "Column         :Sp. Atk\n",
            "Mean           :72.82\n",
            "Variance       :1070.748535669585\n",
            "Skew           :0.7446624978300574\n",
            "Min            :10\n",
            "Max            :194\n",
            "Median         :65.0\n",
            "25th percentile:49.75\n",
            "75th percentile:95.0\n",
            "Inter-quartile :45.25\n"
          ]
        },
        {
          "output_type": "display_data",
          "data": {
            "image/png": "[encoded data removed]",
            "text/plain": [
              "<Figure size 432x288 with 1 Axes>"
            ]
          },
          "metadata": {}
        },
        {
          "output_type": "stream",
          "name": "stdout",
          "text": [
            "\n",
            "\n",
            "Column         :Sp. Def\n",
            "Mean           :71.9025\n",
            "Variance       :774.4485544430531\n",
            "Skew           :0.8540186115468782\n",
            "Min            :20\n",
            "Max            :230\n",
            "Median         :70.0\n",
            "25th percentile:50.0\n",
            "75th percentile:90.0\n",
            "Inter-quartile :40.0\n"
          ]
        },
        {
          "output_type": "display_data",
          "data": {
            "image/png": "[encoded data removed]",
            "text/plain": [
              "<Figure size 432x288 with 1 Axes>"
            ]
          },
          "metadata": {}
        },
        {
          "output_type": "stream",
          "name": "stdout",
          "text": [
            "\n",
            "\n",
            "Column         :Speed\n",
            "Mean           :68.2775\n",
            "Variance       :844.5111326658338\n",
            "Skew           :0.35793329506082994\n",
            "Min            :5\n",
            "Max            :180\n",
            "Median         :65.0\n",
            "25th percentile:45.0\n",
            "75th percentile:90.0\n",
            "Inter-quartile :45.0\n"
          ]
        },
        {
          "output_type": "display_data",
          "data": {
            "image/png": "[encoded data removed]",
            "text/plain": [
              "<Figure size 432x288 with 1 Axes>"
            ]
          },
          "metadata": {}
        },
        {
          "output_type": "stream",
          "name": "stdout",
          "text": [
            "\n",
            "\n"
          ]
        }
      ]
    },
    {
      "cell_type": "code",
      "source": [
        "# c part\n",
        "# Total                        \n",
        "plt.style.use('seaborn-pastel')\n",
        "bins = [100,200,300,400,500,600,700,800]\n",
        "total_data['Total'].hist(edgecolor='black', xlabelsize=15, ylabelsize=15, bins=bins)\n",
        "plt.title('Total')"
      ],
      "metadata": {
        "id": "S5WC-MANIxDD",
        "colab": {
          "base_uri": "https://localhost:8080/",
          "height": 304
        },
        "outputId": "1f05843e-c1cb-4361-cb39-5db2d0acecca"
      },
      "execution_count": null,
      "outputs": [
        {
          "output_type": "execute_result",
          "data": {
            "text/plain": [
              "Text(0.5, 1.0, 'Total')"
            ]
          },
          "metadata": {},
          "execution_count": 17
        },
        {
          "output_type": "display_data",
          "data": {
            "image/png": "[encoded data removed]",
            "text/plain": [
              "<Figure size 432x288 with 1 Axes>"
            ]
          },
          "metadata": {}
        }
      ]
    },
    {
      "cell_type": "code",
      "source": [
        "# c part\n",
        "# HP                        \n",
        "plt.style.use('seaborn-pastel')\n",
        "bins = [0,25,50,75,100,125,300]       # irregular bins to show the 'densely' centered values\n",
        "total_data['HP'].hist(edgecolor='black', xlabelsize=15, ylabelsize=15, bins= bins)\n",
        "plt.title('HP')"
      ],
      "metadata": {
        "colab": {
          "base_uri": "https://localhost:8080/",
          "height": 304
        },
        "id": "dARgJfYAO-xB",
        "outputId": "e92b17f2-375d-4db1-8a7b-4f78f94dd176"
      },
      "execution_count": null,
      "outputs": [
        {
          "output_type": "execute_result",
          "data": {
            "text/plain": [
              "Text(0.5, 1.0, 'HP')"
            ]
          },
          "metadata": {},
          "execution_count": 18
        },
        {
          "output_type": "display_data",
          "data": {
            "image/png": "[encoded data removed]",
            "text/plain": [
              "<Figure size 432x288 with 1 Axes>"
            ]
          },
          "metadata": {}
        }
      ]
    },
    {
      "cell_type": "code",
      "source": [
        "# c part\n",
        "# Attack                        \n",
        "plt.style.use('seaborn-pastel')\n",
        "total_data['Attack'].hist(edgecolor='black', xlabelsize=15, ylabelsize=15, bins=10)\n",
        "plt.title('Attack')"
      ],
      "metadata": {
        "colab": {
          "base_uri": "https://localhost:8080/",
          "height": 304
        },
        "id": "6IoV1pq6QenY",
        "outputId": "f416c162-5291-4d33-e1ed-59b13f29d6d5"
      },
      "execution_count": null,
      "outputs": [
        {
          "output_type": "execute_result",
          "data": {
            "text/plain": [
              "Text(0.5, 1.0, 'Attack')"
            ]
          },
          "metadata": {},
          "execution_count": 19
        },
        {
          "output_type": "display_data",
          "data": {
            "image/png": "[encoded data removed]",
            "text/plain": [
              "<Figure size 432x288 with 1 Axes>"
            ]
          },
          "metadata": {}
        }
      ]
    },
    {
      "cell_type": "code",
      "source": [
        "# c part\n",
        "# Defense                        \n",
        "plt.style.use('seaborn-pastel')\n",
        "bins = [0,25,50,75,100,125,150,300]       # irregular bins to show the 'densely' centered values\n",
        "total_data['Defense'].hist(edgecolor='black', xlabelsize=15, ylabelsize=15, bins=bins)\n",
        "plt.title('Defense')"
      ],
      "metadata": {
        "colab": {
          "base_uri": "https://localhost:8080/",
          "height": 304
        },
        "id": "fRrezMadRKUN",
        "outputId": "f9b50437-c51f-404a-9ad8-3144378345cc"
      },
      "execution_count": null,
      "outputs": [
        {
          "output_type": "execute_result",
          "data": {
            "text/plain": [
              "Text(0.5, 1.0, 'Defense')"
            ]
          },
          "metadata": {},
          "execution_count": 20
        },
        {
          "output_type": "display_data",
          "data": {
            "image/png": "[encoded data removed]",
            "text/plain": [
              "<Figure size 432x288 with 1 Axes>"
            ]
          },
          "metadata": {}
        }
      ]
    },
    {
      "cell_type": "code",
      "source": [
        "# c part\n",
        "# Sp. Atk                        \n",
        "plt.style.use('seaborn-pastel')\n",
        "total_data['Sp. Atk'].hist(edgecolor='black', xlabelsize=15, ylabelsize=15, bins=10)\n",
        "plt.title('Sp. Atk')"
      ],
      "metadata": {
        "colab": {
          "base_uri": "https://localhost:8080/",
          "height": 304
        },
        "id": "DUgijEUKRQmO",
        "outputId": "0241f74e-d120-476f-ba6d-4c7c6b488260"
      },
      "execution_count": null,
      "outputs": [
        {
          "output_type": "execute_result",
          "data": {
            "text/plain": [
              "Text(0.5, 1.0, 'Sp. Atk')"
            ]
          },
          "metadata": {},
          "execution_count": 21
        },
        {
          "output_type": "display_data",
          "data": {
            "image/png": "[encoded data removed]",
            "text/plain": [
              "<Figure size 432x288 with 1 Axes>"
            ]
          },
          "metadata": {}
        }
      ]
    },
    {
      "cell_type": "code",
      "source": [
        "# c part\n",
        "# Sp. Def                        \n",
        "plt.style.use('seaborn-pastel')\n",
        "bins = [0,25,50,75,100,125,150,300]       # irregular bins to show the 'densely' centered values\n",
        "total_data['Sp. Def'].hist(edgecolor='black', xlabelsize=15, ylabelsize=15, bins=bins)\n",
        "plt.title('Sp. Def')"
      ],
      "metadata": {
        "colab": {
          "base_uri": "https://localhost:8080/",
          "height": 304
        },
        "id": "vM-njeVKRRf7",
        "outputId": "9f920d5b-c561-40e9-ca43-b9fb707c6b2e"
      },
      "execution_count": null,
      "outputs": [
        {
          "output_type": "execute_result",
          "data": {
            "text/plain": [
              "Text(0.5, 1.0, 'Sp. Def')"
            ]
          },
          "metadata": {},
          "execution_count": 22
        },
        {
          "output_type": "display_data",
          "data": {
            "image/png": "[encoded data removed]",
            "text/plain": [
              "<Figure size 432x288 with 1 Axes>"
            ]
          },
          "metadata": {}
        }
      ]
    },
    {
      "cell_type": "code",
      "source": [
        "# c part\n",
        "# Speed                        \n",
        "plt.style.use('seaborn-pastel')\n",
        "total_data['Speed'].hist(edgecolor='black', xlabelsize=15, ylabelsize=15, bins=10)\n",
        "plt.title('Speed')"
      ],
      "metadata": {
        "colab": {
          "base_uri": "https://localhost:8080/",
          "height": 304
        },
        "id": "AqabevaFRR_6",
        "outputId": "3aa41db0-d151-4d64-a6e3-bda3c0e94bf2"
      },
      "execution_count": null,
      "outputs": [
        {
          "output_type": "execute_result",
          "data": {
            "text/plain": [
              "Text(0.5, 1.0, 'Speed')"
            ]
          },
          "metadata": {},
          "execution_count": 23
        },
        {
          "output_type": "display_data",
          "data": {
            "image/png": "[encoded data removed]",
            "text/plain": [
              "<Figure size 432x288 with 1 Axes>"
            ]
          },
          "metadata": {}
        }
      ]
    },
    {
      "cell_type": "markdown",
      "source": [
        "The most fundamental question answered by Q-Q plot is:\n",
        "*Is this curve Normally Distributed?*"
      ],
      "metadata": {
        "id": "3iSB4My0TRvy"
      }
    },
    {
      "cell_type": "code",
      "source": [
        "import statsmodels.api as sm          # for qq plot (d part)\n",
        "import pylab as py\n",
        "\n",
        "sm.qqplot(total_data['Speed'], line ='s')  # question says for any two columns, 1st chosen column is 'Speed'\n",
        "py.show()\n",
        "\n",
        "# line = “s” - standardized line, the expected order statistics are scaled by the standard deviation of the given sample and have the mean added to them"
      ],
      "metadata": {
        "colab": {
          "base_uri": "https://localhost:8080/",
          "height": 337
        },
        "id": "rSCU25CNTUt5",
        "outputId": "a6644213-6857-48c6-e7d5-1c16ed6d0e89"
      },
      "execution_count": null,
      "outputs": [
        {
          "output_type": "stream",
          "name": "stderr",
          "text": [
            "/usr/local/lib/python3.7/dist-packages/statsmodels/tools/_testing.py:19: FutureWarning: pandas.util.testing is deprecated. Use the functions in the public API at pandas.testing instead.\n",
            "  import pandas.util.testing as tm\n"
          ]
        },
        {
          "output_type": "display_data",
          "data": {
            "image/png": "[encoded data removed]",
            "text/plain": [
              "<Figure size 432x288 with 1 Axes>"
            ]
          },
          "metadata": {}
        }
      ]
    },
    {
      "cell_type": "code",
      "source": [
        "sm.qqplot(total_data['HP'], line ='s')  # question says for any two columns, 2nd chosen column is 'HP'\n",
        "py.show()"
      ],
      "metadata": {
        "colab": {
          "base_uri": "https://localhost:8080/",
          "height": 282
        },
        "id": "_IrZpdTeU1bN",
        "outputId": "d6d0129d-1c8c-4c17-bcad-35734ce3df5d"
      },
      "execution_count": null,
      "outputs": [
        {
          "output_type": "display_data",
          "data": {
            "image/png": "[encoded data removed]",
            "text/plain": [
              "<Figure size 432x288 with 1 Axes>"
            ]
          },
          "metadata": {}
        }
      ]
    },
    {
      "cell_type": "markdown",
      "metadata": {
        "id": "aKFKHlr5TbKO"
      },
      "source": [
        "### Pairwise interactions\n",
        "\n",
        "a. Pick any two discrete-continuous pairs, and plot box-and-whiskers plot for the continuous variable side-by-side for each value of the discrete variable.\n",
        "\n",
        "b. Plot a heatmap of correlation between all pairs of continuous variables. Use seaborn for this."
      ]
    },
    {
      "cell_type": "code",
      "source": [
        "import seaborn as sns\n",
        "sns.set_style(\"whitegrid\")\n",
        "        \n",
        "sns.boxplot('Generation', 'Attack', data=total_data) # part a, discrete column = 'Generation', continuous = 'Attack'\n",
        "plt.xlabel('Generation')     # Set text for the x axis\n",
        "plt.ylabel('Attack')   # Set text for y axis\n",
        "plt.show()"
      ],
      "metadata": {
        "colab": {
          "base_uri": "https://localhost:8080/",
          "height": 337
        },
        "id": "O_iI6icqxzR2",
        "outputId": "11d2fc45-ccef-4cbc-9405-b9116d03a310"
      },
      "execution_count": null,
      "outputs": [
        {
          "output_type": "stream",
          "name": "stderr",
          "text": [
            "/usr/local/lib/python3.7/dist-packages/seaborn/_decorators.py:43: FutureWarning: Pass the following variables as keyword args: x, y. From version 0.12, the only valid positional argument will be `data`, and passing other arguments without an explicit keyword will result in an error or misinterpretation.\n",
            "  FutureWarning\n"
          ]
        },
        {
          "output_type": "display_data",
          "data": {
            "image/png": "[encoded data removed]",
            "text/plain": [
              "<Figure size 432x288 with 1 Axes>"
            ]
          },
          "metadata": {}
        }
      ]
    },
    {
      "cell_type": "code",
      "source": [
        "df = total_data.drop(['Name','Type 1','Type 2','Generation','Legendary'],axis=1)      # Creating a dataframe containing only the continuous columns\n",
        "sns.heatmap(df.corr(),annot=True)                # part b, annot = True for displaying the correlation values"
      ],
      "metadata": {
        "colab": {
          "base_uri": "https://localhost:8080/",
          "height": 318
        },
        "id": "wrzS4rAvwC8W",
        "outputId": "cebe132a-df53-4882-b1d3-195a2c08f391"
      },
      "execution_count": null,
      "outputs": [
        {
          "output_type": "execute_result",
          "data": {
            "text/plain": [
              "<matplotlib.axes._subplots.AxesSubplot at 0x7f713f9a17d0>"
            ]
          },
          "metadata": {},
          "execution_count": 44
        },
        {
          "output_type": "display_data",
          "data": {
            "image/png": "[encoded data removed]",
            "text/plain": [
              "<Figure size 432x288 with 2 Axes>"
            ]
          },
          "metadata": {}
        }
      ]
    }
  ]
}