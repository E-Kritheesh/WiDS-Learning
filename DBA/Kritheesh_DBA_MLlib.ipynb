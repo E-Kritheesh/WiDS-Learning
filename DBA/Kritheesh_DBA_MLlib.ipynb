{
  "nbformat": 4,
  "nbformat_minor": 0,
  "metadata": {
    "colab": {
      "name": "Kritheesh_DBA_MLlib.ipynb",
      "provenance": [],
      "collapsed_sections": []
    },
    "kernelspec": {
      "name": "python3",
      "display_name": "Python 3"
    },
    "language_info": {
      "name": "python"
    }
  },
  "cells": [
    {
      "cell_type": "markdown",
      "source": [
        "# raw_gps data prediction"
      ],
      "metadata": {
        "id": "JTCvAMPFZUKx"
      }
    },
    {
      "cell_type": "code",
      "execution_count": null,
      "metadata": {
        "colab": {
          "base_uri": "https://localhost:8080/"
        },
        "id": "VY82LDNnIsCm",
        "outputId": "71fa7dbb-7ed1-4cb4-bde4-45907ec292c7"
      },
      "outputs": [
        {
          "output_type": "stream",
          "name": "stdout",
          "text": [
            "Drive already mounted at /content/drive; to attempt to forcibly remount, call drive.mount(\"/content/drive\", force_remount=True).\n"
          ]
        }
      ],
      "source": [
        "import numpy as np\n",
        "import pandas as pd\n",
        "import matplotlib.pyplot as plt\n",
        "\n",
        "# to access dataset from drive\n",
        "from google.colab import drive\n",
        "drive.mount('/content/drive')"
      ]
    },
    {
      "cell_type": "code",
      "source": [
        "raw_gps_1d1 = pd.read_csv('/content/drive/MyDrive/UAH-DRIVESET-v1/D1/20151110175712-16km-D1-NORMAL1-SECONDARY/RAW_GPS.txt',header=None,delimiter=\" \")\n",
        "raw_gps_2d1 = pd.read_csv('/content/drive/MyDrive/UAH-DRIVESET-v1/D1/20151110180824-16km-D1-NORMAL2-SECONDARY/RAW_GPS.txt',header=None,delimiter=\" \")\n",
        "raw_gps_3d1 = pd.read_csv('/content/drive/MyDrive/UAH-DRIVESET-v1/D1/20151111123124-25km-D1-NORMAL-MOTORWAY/RAW_GPS.txt',header=None,delimiter=\" \")\n",
        "raw_gps_4d1 = pd.read_csv('/content/drive/MyDrive/UAH-DRIVESET-v1/D1/20151111125233-24km-D1-AGGRESSIVE-MOTORWAY/RAW_GPS.txt',header=None,delimiter=\" \")\n",
        "raw_gps_5d1 = pd.read_csv('/content/drive/MyDrive/UAH-DRIVESET-v1/D1/20151111132348-25km-D1-DROWSY-MOTORWAY/RAW_GPS.txt',header=None,delimiter=\" \")\n",
        "raw_gps_6d1 = pd.read_csv('/content/drive/MyDrive/UAH-DRIVESET-v1/D1/20151111134545-16km-D1-AGGRESSIVE-SECONDARY/RAW_GPS.txt',header=None,delimiter=\" \")\n",
        "raw_gps_7d1 = pd.read_csv('/content/drive/MyDrive/UAH-DRIVESET-v1/D1/20151111135612-13km-D1-DROWSY-SECONDARY/RAW_GPS.txt',header=None,delimiter=\" \")"
      ],
      "metadata": {
        "id": "kpPW5eRfyh5Y"
      },
      "execution_count": null,
      "outputs": []
    },
    {
      "cell_type": "code",
      "source": [
        "raw_gps_1d2 = pd.read_csv('/content/drive/MyDrive/UAH-DRIVESET-v1/D2/20151120131714-26km-D2-NORMAL-MOTORWAY/RAW_GPS.txt',header=None,delimiter=\" \")\n",
        "raw_gps_2d2 = pd.read_csv('/content/drive/MyDrive/UAH-DRIVESET-v1/D2/20151120133502-26km-D2-AGGRESSIVE-MOTORWAY/RAW_GPS.txt',header=None,delimiter=\" \")\n",
        "raw_gps_3d2 = pd.read_csv('/content/drive/MyDrive/UAH-DRIVESET-v1/D2/20151120135152-25km-D2-DROWSY-MOTORWAY/RAW_GPS.txt',header=None,delimiter=\" \")\n",
        "raw_gps_4d2 = pd.read_csv('/content/drive/MyDrive/UAH-DRIVESET-v1/D2/20151120160904-16km-D2-NORMAL1-SECONDARY/RAW_GPS.txt',header=None,delimiter=\" \")\n",
        "raw_gps_5d2 = pd.read_csv('/content/drive/MyDrive/UAH-DRIVESET-v1/D2/20151120162105-17km-D2-NORMAL2-SECONDARY/RAW_GPS.txt',header=None,delimiter=\" \")\n",
        "raw_gps_6d2 = pd.read_csv('/content/drive/MyDrive/UAH-DRIVESET-v1/D2/20151120163350-16km-D2-AGGRESSIVE-SECONDARY/RAW_GPS.txt',header=None,delimiter=\" \")\n",
        "raw_gps_7d2 = pd.read_csv('/content/drive/MyDrive/UAH-DRIVESET-v1/D2/20151120164606-16km-D2-DROWSY-SECONDARY/RAW_GPS.txt',header=None,delimiter=\" \")"
      ],
      "metadata": {
        "id": "EI9vnS5RzcP2"
      },
      "execution_count": null,
      "outputs": []
    },
    {
      "cell_type": "code",
      "source": [
        "raw_gps_1d3 = pd.read_csv('/content/drive/MyDrive/UAH-DRIVESET-v1/D3/20151126110502-26km-D3-NORMAL-MOTORWAY/RAW_GPS.txt',header=None,delimiter=\" \")\n",
        "raw_gps_2d3 = pd.read_csv('/content/drive/MyDrive/UAH-DRIVESET-v1/D3/20151126113754-26km-D3-DROWSY-MOTORWAY/RAW_GPS.txt',header=None,delimiter=\" \")\n",
        "raw_gps_3d3 = pd.read_csv('/content/drive/MyDrive/UAH-DRIVESET-v1/D3/20151126124208-16km-D3-NORMAL1-SECONDARY/RAW_GPS.txt',header=None,delimiter=\" \")\n",
        "raw_gps_4d3 = pd.read_csv('/content/drive/MyDrive/UAH-DRIVESET-v1/D3/20151126125458-16km-D3-NORMAL2-SECONDARY/RAW_GPS.txt',header=None,delimiter=\" \")\n",
        "raw_gps_5d3 = pd.read_csv('/content/drive/MyDrive/UAH-DRIVESET-v1/D3/20151126130707-16km-D3-AGGRESSIVE-SECONDARY/RAW_GPS.txt',header=None,delimiter=\" \")\n",
        "raw_gps_6d3 = pd.read_csv('/content/drive/MyDrive/UAH-DRIVESET-v1/D3/20151126132013-17km-D3-DROWSY-SECONDARY/RAW_GPS.txt',header=None,delimiter=\" \")\n",
        "raw_gps_7d3 = pd.read_csv('/content/drive/MyDrive/UAH-DRIVESET-v1/D3/20151126134736-26km-D3-AGGRESSIVE-MOTORWAY/RAW_GPS.txt',header=None,delimiter=\" \")"
      ],
      "metadata": {
        "id": "ILEBoI7p0SNK"
      },
      "execution_count": null,
      "outputs": []
    },
    {
      "cell_type": "code",
      "source": [
        "raw_gps_1d4 = pd.read_csv('/content/drive/MyDrive/UAH-DRIVESET-v1/D4/20151203171800-16km-D4-NORMAL1-SECONDARY/RAW_GPS.txt',header=None,delimiter=\" \")\n",
        "raw_gps_2d4 = pd.read_csv('/content/drive/MyDrive/UAH-DRIVESET-v1/D4/20151203173103-17km-D4-NORMAL2-SECONDARY/RAW_GPS.txt',header=None,delimiter=\" \")\n",
        "raw_gps_3d4 = pd.read_csv('/content/drive/MyDrive/UAH-DRIVESET-v1/D4/20151203174324-16km-D4-AGGRESSIVE-SECONDARY/RAW_GPS.txt',header=None,delimiter=\" \")\n",
        "raw_gps_4d4 = pd.read_csv('/content/drive/MyDrive/UAH-DRIVESET-v1/D4/20151203175637-17km-D4-DROWSY-SECONDARY/RAW_GPS.txt',header=None,delimiter=\" \")\n",
        "raw_gps_5d4 = pd.read_csv('/content/drive/MyDrive/UAH-DRIVESET-v1/D4/20151204152848-25km-D4-NORMAL-MOTORWAY/RAW_GPS.txt',header=None,delimiter=\" \")\n",
        "raw_gps_6d4 = pd.read_csv('/content/drive/MyDrive/UAH-DRIVESET-v1/D4/20151204154908-25km-D4-AGGRESSIVE-MOTORWAY/RAW_GPS.txt',header=None,delimiter=\" \")\n",
        "raw_gps_7d4 = pd.read_csv('/content/drive/MyDrive/UAH-DRIVESET-v1/D4/20151204160823-25km-D4-DROWSY-MOTORWAY/RAW_GPS.txt',header=None,delimiter=\" \")"
      ],
      "metadata": {
        "id": "5b2GeAQCw_fb"
      },
      "execution_count": null,
      "outputs": []
    },
    {
      "cell_type": "code",
      "source": [
        "raw_gps_1d6 = pd.read_csv('/content/drive/MyDrive/UAH-DRIVESET-v1/D6/20151217162714-26km-D6-NORMAL-MOTORWAY/RAW_GPS.txt',header=None,delimiter=\" \")\n",
        "raw_gps_2d6 = pd.read_csv('/content/drive/MyDrive/UAH-DRIVESET-v1/D6/20151217164730-25km-D6-DROWSY-MOTORWAY/RAW_GPS.txt',header=None,delimiter=\" \")\n",
        "raw_gps_3d6 = pd.read_csv('/content/drive/MyDrive/UAH-DRIVESET-v1/D6/20151221112434-17km-D6-NORMAL-SECONDARY/RAW_GPS.txt',header=None,delimiter=\" \")\n",
        "raw_gps_4d6 = pd.read_csv('/content/drive/MyDrive/UAH-DRIVESET-v1/D6/20151221113846-16km-D6-DROWSY-SECONDARY/RAW_GPS.txt',header=None,delimiter=\" \")\n",
        "raw_gps_5d6 = pd.read_csv('/content/drive/MyDrive/UAH-DRIVESET-v1/D6/20151221120051-26km-D6-AGGRESSIVE-MOTORWAY/RAW_GPS.txt',header=None,delimiter=\" \")"
      ],
      "metadata": {
        "id": "c2P1IbLyxANQ"
      },
      "execution_count": null,
      "outputs": []
    },
    {
      "cell_type": "code",
      "source": [
        "raw_gps_1d1.head()"
      ],
      "metadata": {
        "colab": {
          "base_uri": "https://localhost:8080/",
          "height": 206
        },
        "id": "5ViN-Gie02_I",
        "outputId": "1818e4f1-fb90-4a46-f446-367e9fb088ec"
      },
      "execution_count": null,
      "outputs": [
        {
          "output_type": "execute_result",
          "data": {
            "text/html": [
              "\n",
              "  <div id=\"df-e9e6f38e-9e84-4d53-bf54-a9a4512d5506\">\n",
              "    <div class=\"colab-df-container\">\n",
              "      <div>\n",
              "<style scoped>\n",
              "    .dataframe tbody tr th:only-of-type {\n",
              "        vertical-align: middle;\n",
              "    }\n",
              "\n",
              "    .dataframe tbody tr th {\n",
              "        vertical-align: top;\n",
              "    }\n",
              "\n",
              "    .dataframe thead th {\n",
              "        text-align: right;\n",
              "    }\n",
              "</style>\n",
              "<table border=\"1\" class=\"dataframe\">\n",
              "  <thead>\n",
              "    <tr style=\"text-align: right;\">\n",
              "      <th></th>\n",
              "      <th>0</th>\n",
              "      <th>1</th>\n",
              "      <th>2</th>\n",
              "      <th>3</th>\n",
              "      <th>4</th>\n",
              "      <th>5</th>\n",
              "      <th>6</th>\n",
              "      <th>7</th>\n",
              "      <th>8</th>\n",
              "      <th>9</th>\n",
              "      <th>10</th>\n",
              "      <th>11</th>\n",
              "      <th>12</th>\n",
              "    </tr>\n",
              "  </thead>\n",
              "  <tbody>\n",
              "    <tr>\n",
              "      <th>0</th>\n",
              "      <td>7.85</td>\n",
              "      <td>65.2</td>\n",
              "      <td>40.512787</td>\n",
              "      <td>-3.404477</td>\n",
              "      <td>612.7</td>\n",
              "      <td>4</td>\n",
              "      <td>5</td>\n",
              "      <td>331.9</td>\n",
              "      <td>0.000</td>\n",
              "      <td>0</td>\n",
              "      <td>0</td>\n",
              "      <td>0</td>\n",
              "      <td>NaN</td>\n",
              "    </tr>\n",
              "    <tr>\n",
              "      <th>1</th>\n",
              "      <td>8.83</td>\n",
              "      <td>64.5</td>\n",
              "      <td>40.512924</td>\n",
              "      <td>-3.404577</td>\n",
              "      <td>612.5</td>\n",
              "      <td>4</td>\n",
              "      <td>5</td>\n",
              "      <td>331.9</td>\n",
              "      <td>0.000</td>\n",
              "      <td>0</td>\n",
              "      <td>0</td>\n",
              "      <td>0</td>\n",
              "      <td>NaN</td>\n",
              "    </tr>\n",
              "    <tr>\n",
              "      <th>2</th>\n",
              "      <td>9.82</td>\n",
              "      <td>63.6</td>\n",
              "      <td>40.513065</td>\n",
              "      <td>-3.404680</td>\n",
              "      <td>612.9</td>\n",
              "      <td>4</td>\n",
              "      <td>5</td>\n",
              "      <td>330.8</td>\n",
              "      <td>1.055</td>\n",
              "      <td>0</td>\n",
              "      <td>0</td>\n",
              "      <td>0</td>\n",
              "      <td>NaN</td>\n",
              "    </tr>\n",
              "    <tr>\n",
              "      <th>3</th>\n",
              "      <td>10.80</td>\n",
              "      <td>62.2</td>\n",
              "      <td>40.513210</td>\n",
              "      <td>-3.404772</td>\n",
              "      <td>613.3</td>\n",
              "      <td>4</td>\n",
              "      <td>5</td>\n",
              "      <td>330.8</td>\n",
              "      <td>1.055</td>\n",
              "      <td>0</td>\n",
              "      <td>0</td>\n",
              "      <td>0</td>\n",
              "      <td>NaN</td>\n",
              "    </tr>\n",
              "    <tr>\n",
              "      <th>4</th>\n",
              "      <td>11.80</td>\n",
              "      <td>60.9</td>\n",
              "      <td>40.513348</td>\n",
              "      <td>-3.404868</td>\n",
              "      <td>613.5</td>\n",
              "      <td>3</td>\n",
              "      <td>5</td>\n",
              "      <td>330.1</td>\n",
              "      <td>0.703</td>\n",
              "      <td>0</td>\n",
              "      <td>0</td>\n",
              "      <td>0</td>\n",
              "      <td>NaN</td>\n",
              "    </tr>\n",
              "  </tbody>\n",
              "</table>\n",
              "</div>\n",
              "      <button class=\"colab-df-convert\" onclick=\"convertToInteractive('df-e9e6f38e-9e84-4d53-bf54-a9a4512d5506')\"\n",
              "              title=\"Convert this dataframe to an interactive table.\"\n",
              "              style=\"display:none;\">\n",
              "        \n",
              "  <svg xmlns=\"http://www.w3.org/2000/svg\" height=\"24px\"viewBox=\"0 0 24 24\"\n",
              "       width=\"24px\">\n",
              "    <path d=\"M0 0h24v24H0V0z\" fill=\"none\"/>\n",
              "    <path d=\"M18.56 5.44l.94 2.06.94-2.06 2.06-.94-2.06-.94-.94-2.06-.94 2.06-2.06.94zm-11 1L8.5 8.5l.94-2.06 2.06-.94-2.06-.94L8.5 2.5l-.94 2.06-2.06.94zm10 10l.94 2.06.94-2.06 2.06-.94-2.06-.94-.94-2.06-.94 2.06-2.06.94z\"/><path d=\"M17.41 7.96l-1.37-1.37c-.4-.4-.92-.59-1.43-.59-.52 0-1.04.2-1.43.59L10.3 9.45l-7.72 7.72c-.78.78-.78 2.05 0 2.83L4 21.41c.39.39.9.59 1.41.59.51 0 1.02-.2 1.41-.59l7.78-7.78 2.81-2.81c.8-.78.8-2.07 0-2.86zM5.41 20L4 18.59l7.72-7.72 1.47 1.35L5.41 20z\"/>\n",
              "  </svg>\n",
              "      </button>\n",
              "      \n",
              "  <style>\n",
              "    .colab-df-container {\n",
              "      display:flex;\n",
              "      flex-wrap:wrap;\n",
              "      gap: 12px;\n",
              "    }\n",
              "\n",
              "    .colab-df-convert {\n",
              "      background-color: #E8F0FE;\n",
              "      border: none;\n",
              "      border-radius: 50%;\n",
              "      cursor: pointer;\n",
              "      display: none;\n",
              "      fill: #1967D2;\n",
              "      height: 32px;\n",
              "      padding: 0 0 0 0;\n",
              "      width: 32px;\n",
              "    }\n",
              "\n",
              "    .colab-df-convert:hover {\n",
              "      background-color: #E2EBFA;\n",
              "      box-shadow: 0px 1px 2px rgba(60, 64, 67, 0.3), 0px 1px 3px 1px rgba(60, 64, 67, 0.15);\n",
              "      fill: #174EA6;\n",
              "    }\n",
              "\n",
              "    [theme=dark] .colab-df-convert {\n",
              "      background-color: #3B4455;\n",
              "      fill: #D2E3FC;\n",
              "    }\n",
              "\n",
              "    [theme=dark] .colab-df-convert:hover {\n",
              "      background-color: #434B5C;\n",
              "      box-shadow: 0px 1px 3px 1px rgba(0, 0, 0, 0.15);\n",
              "      filter: drop-shadow(0px 1px 2px rgba(0, 0, 0, 0.3));\n",
              "      fill: #FFFFFF;\n",
              "    }\n",
              "  </style>\n",
              "\n",
              "      <script>\n",
              "        const buttonEl =\n",
              "          document.querySelector('#df-e9e6f38e-9e84-4d53-bf54-a9a4512d5506 button.colab-df-convert');\n",
              "        buttonEl.style.display =\n",
              "          google.colab.kernel.accessAllowed ? 'block' : 'none';\n",
              "\n",
              "        async function convertToInteractive(key) {\n",
              "          const element = document.querySelector('#df-e9e6f38e-9e84-4d53-bf54-a9a4512d5506');\n",
              "          const dataTable =\n",
              "            await google.colab.kernel.invokeFunction('convertToInteractive',\n",
              "                                                     [key], {});\n",
              "          if (!dataTable) return;\n",
              "\n",
              "          const docLinkHtml = 'Like what you see? Visit the ' +\n",
              "            '<a target=\"_blank\" href=https://colab.research.google.com/notebooks/data_table.ipynb>data table notebook</a>'\n",
              "            + ' to learn more about interactive tables.';\n",
              "          element.innerHTML = '';\n",
              "          dataTable['output_type'] = 'display_data';\n",
              "          await google.colab.output.renderOutput(dataTable, element);\n",
              "          const docLink = document.createElement('div');\n",
              "          docLink.innerHTML = docLinkHtml;\n",
              "          element.appendChild(docLink);\n",
              "        }\n",
              "      </script>\n",
              "    </div>\n",
              "  </div>\n",
              "  "
            ],
            "text/plain": [
              "      0     1          2         3      4   5   ...     7      8   9   10  11  12\n",
              "0   7.85  65.2  40.512787 -3.404477  612.7   4  ...  331.9  0.000   0   0   0 NaN\n",
              "1   8.83  64.5  40.512924 -3.404577  612.5   4  ...  331.9  0.000   0   0   0 NaN\n",
              "2   9.82  63.6  40.513065 -3.404680  612.9   4  ...  330.8  1.055   0   0   0 NaN\n",
              "3  10.80  62.2  40.513210 -3.404772  613.3   4  ...  330.8  1.055   0   0   0 NaN\n",
              "4  11.80  60.9  40.513348 -3.404868  613.5   3  ...  330.1  0.703   0   0   0 NaN\n",
              "\n",
              "[5 rows x 13 columns]"
            ]
          },
          "metadata": {},
          "execution_count": 7
        }
      ]
    },
    {
      "cell_type": "code",
      "source": [
        "for i in range(4):\n",
        "  raw_gps_1d1.drop(12-i, axis=1, inplace=True)\n",
        "  raw_gps_2d1.drop(12-i, axis=1, inplace=True)\n",
        "  raw_gps_3d1.drop(12-i, axis=1, inplace=True)\n",
        "  raw_gps_4d1.drop(12-i, axis=1, inplace=True)\n",
        "  raw_gps_5d1.drop(12-i, axis=1, inplace=True)\n",
        "  raw_gps_6d1.drop(12-i, axis=1, inplace=True)\n",
        "  raw_gps_7d1.drop(12-i, axis=1, inplace=True)\n",
        "  raw_gps_1d2.drop(12-i, axis=1, inplace=True)\n",
        "  raw_gps_2d2.drop(12-i, axis=1, inplace=True)\n",
        "  raw_gps_3d2.drop(12-i, axis=1, inplace=True)\n",
        "  raw_gps_4d2.drop(12-i, axis=1, inplace=True)\n",
        "  raw_gps_5d2.drop(12-i, axis=1, inplace=True)\n",
        "  raw_gps_6d2.drop(12-i, axis=1, inplace=True)\n",
        "  raw_gps_7d2.drop(12-i, axis=1, inplace=True)\n",
        "  raw_gps_1d3.drop(12-i, axis=1, inplace=True)\n",
        "  raw_gps_2d3.drop(12-i, axis=1, inplace=True)\n",
        "  raw_gps_3d3.drop(12-i, axis=1, inplace=True)\n",
        "  raw_gps_4d3.drop(12-i, axis=1, inplace=True)\n",
        "  raw_gps_5d3.drop(12-i, axis=1, inplace=True)\n",
        "  raw_gps_6d3.drop(12-i, axis=1, inplace=True)\n",
        "  raw_gps_7d3.drop(12-i, axis=1, inplace=True)\n",
        "  raw_gps_1d4.drop(12-i, axis=1, inplace=True)\n",
        "  raw_gps_2d4.drop(12-i, axis=1, inplace=True)\n",
        "  raw_gps_3d4.drop(12-i, axis=1, inplace=True)\n",
        "  raw_gps_4d4.drop(12-i, axis=1, inplace=True)\n",
        "  raw_gps_5d4.drop(12-i, axis=1, inplace=True)\n",
        "  raw_gps_6d4.drop(12-i, axis=1, inplace=True)\n",
        "  raw_gps_7d4.drop(12-i, axis=1, inplace=True)\n",
        "  raw_gps_1d6.drop(12-i, axis=1, inplace=True)\n",
        "  raw_gps_2d6.drop(12-i, axis=1, inplace=True)\n",
        "  raw_gps_3d6.drop(12-i, axis=1, inplace=True)\n",
        "  raw_gps_4d6.drop(12-i, axis=1, inplace=True)\n",
        "  raw_gps_5d6.drop(12-i, axis=1, inplace=True)\n",
        "raw_gps_6d3.head()"
      ],
      "metadata": {
        "colab": {
          "base_uri": "https://localhost:8080/",
          "height": 206
        },
        "id": "CT7Q5Rzl1bw_",
        "outputId": "10439447-e25a-4b7a-eee6-273ff39400d2"
      },
      "execution_count": null,
      "outputs": [
        {
          "output_type": "execute_result",
          "data": {
            "text/html": [
              "\n",
              "  <div id=\"df-def0a5ef-8ad8-485e-9a82-7587a58eec94\">\n",
              "    <div class=\"colab-df-container\">\n",
              "      <div>\n",
              "<style scoped>\n",
              "    .dataframe tbody tr th:only-of-type {\n",
              "        vertical-align: middle;\n",
              "    }\n",
              "\n",
              "    .dataframe tbody tr th {\n",
              "        vertical-align: top;\n",
              "    }\n",
              "\n",
              "    .dataframe thead th {\n",
              "        text-align: right;\n",
              "    }\n",
              "</style>\n",
              "<table border=\"1\" class=\"dataframe\">\n",
              "  <thead>\n",
              "    <tr style=\"text-align: right;\">\n",
              "      <th></th>\n",
              "      <th>0</th>\n",
              "      <th>1</th>\n",
              "      <th>2</th>\n",
              "      <th>3</th>\n",
              "      <th>4</th>\n",
              "      <th>5</th>\n",
              "      <th>6</th>\n",
              "      <th>7</th>\n",
              "      <th>8</th>\n",
              "    </tr>\n",
              "  </thead>\n",
              "  <tbody>\n",
              "    <tr>\n",
              "      <th>0</th>\n",
              "      <td>17.43</td>\n",
              "      <td>0.0</td>\n",
              "      <td>40.583706</td>\n",
              "      <td>-3.555486</td>\n",
              "      <td>610.6</td>\n",
              "      <td>20</td>\n",
              "      <td>229</td>\n",
              "      <td>-1.0</td>\n",
              "      <td>-1.000</td>\n",
              "    </tr>\n",
              "    <tr>\n",
              "      <th>1</th>\n",
              "      <td>18.44</td>\n",
              "      <td>70.1</td>\n",
              "      <td>40.584461</td>\n",
              "      <td>-3.554302</td>\n",
              "      <td>607.9</td>\n",
              "      <td>16</td>\n",
              "      <td>10</td>\n",
              "      <td>96.0</td>\n",
              "      <td>176.836</td>\n",
              "    </tr>\n",
              "    <tr>\n",
              "      <th>2</th>\n",
              "      <td>19.45</td>\n",
              "      <td>71.7</td>\n",
              "      <td>40.584423</td>\n",
              "      <td>-3.554038</td>\n",
              "      <td>611.9</td>\n",
              "      <td>4</td>\n",
              "      <td>5</td>\n",
              "      <td>96.7</td>\n",
              "      <td>0.703</td>\n",
              "    </tr>\n",
              "    <tr>\n",
              "      <th>3</th>\n",
              "      <td>20.43</td>\n",
              "      <td>73.4</td>\n",
              "      <td>40.584396</td>\n",
              "      <td>-3.553770</td>\n",
              "      <td>612.0</td>\n",
              "      <td>3</td>\n",
              "      <td>5</td>\n",
              "      <td>97.7</td>\n",
              "      <td>1.758</td>\n",
              "    </tr>\n",
              "    <tr>\n",
              "      <th>4</th>\n",
              "      <td>21.44</td>\n",
              "      <td>75.9</td>\n",
              "      <td>40.584366</td>\n",
              "      <td>-3.553519</td>\n",
              "      <td>612.0</td>\n",
              "      <td>3</td>\n",
              "      <td>5</td>\n",
              "      <td>98.8</td>\n",
              "      <td>2.109</td>\n",
              "    </tr>\n",
              "  </tbody>\n",
              "</table>\n",
              "</div>\n",
              "      <button class=\"colab-df-convert\" onclick=\"convertToInteractive('df-def0a5ef-8ad8-485e-9a82-7587a58eec94')\"\n",
              "              title=\"Convert this dataframe to an interactive table.\"\n",
              "              style=\"display:none;\">\n",
              "        \n",
              "  <svg xmlns=\"http://www.w3.org/2000/svg\" height=\"24px\"viewBox=\"0 0 24 24\"\n",
              "       width=\"24px\">\n",
              "    <path d=\"M0 0h24v24H0V0z\" fill=\"none\"/>\n",
              "    <path d=\"M18.56 5.44l.94 2.06.94-2.06 2.06-.94-2.06-.94-.94-2.06-.94 2.06-2.06.94zm-11 1L8.5 8.5l.94-2.06 2.06-.94-2.06-.94L8.5 2.5l-.94 2.06-2.06.94zm10 10l.94 2.06.94-2.06 2.06-.94-2.06-.94-.94-2.06-.94 2.06-2.06.94z\"/><path d=\"M17.41 7.96l-1.37-1.37c-.4-.4-.92-.59-1.43-.59-.52 0-1.04.2-1.43.59L10.3 9.45l-7.72 7.72c-.78.78-.78 2.05 0 2.83L4 21.41c.39.39.9.59 1.41.59.51 0 1.02-.2 1.41-.59l7.78-7.78 2.81-2.81c.8-.78.8-2.07 0-2.86zM5.41 20L4 18.59l7.72-7.72 1.47 1.35L5.41 20z\"/>\n",
              "  </svg>\n",
              "      </button>\n",
              "      \n",
              "  <style>\n",
              "    .colab-df-container {\n",
              "      display:flex;\n",
              "      flex-wrap:wrap;\n",
              "      gap: 12px;\n",
              "    }\n",
              "\n",
              "    .colab-df-convert {\n",
              "      background-color: #E8F0FE;\n",
              "      border: none;\n",
              "      border-radius: 50%;\n",
              "      cursor: pointer;\n",
              "      display: none;\n",
              "      fill: #1967D2;\n",
              "      height: 32px;\n",
              "      padding: 0 0 0 0;\n",
              "      width: 32px;\n",
              "    }\n",
              "\n",
              "    .colab-df-convert:hover {\n",
              "      background-color: #E2EBFA;\n",
              "      box-shadow: 0px 1px 2px rgba(60, 64, 67, 0.3), 0px 1px 3px 1px rgba(60, 64, 67, 0.15);\n",
              "      fill: #174EA6;\n",
              "    }\n",
              "\n",
              "    [theme=dark] .colab-df-convert {\n",
              "      background-color: #3B4455;\n",
              "      fill: #D2E3FC;\n",
              "    }\n",
              "\n",
              "    [theme=dark] .colab-df-convert:hover {\n",
              "      background-color: #434B5C;\n",
              "      box-shadow: 0px 1px 3px 1px rgba(0, 0, 0, 0.15);\n",
              "      filter: drop-shadow(0px 1px 2px rgba(0, 0, 0, 0.3));\n",
              "      fill: #FFFFFF;\n",
              "    }\n",
              "  </style>\n",
              "\n",
              "      <script>\n",
              "        const buttonEl =\n",
              "          document.querySelector('#df-def0a5ef-8ad8-485e-9a82-7587a58eec94 button.colab-df-convert');\n",
              "        buttonEl.style.display =\n",
              "          google.colab.kernel.accessAllowed ? 'block' : 'none';\n",
              "\n",
              "        async function convertToInteractive(key) {\n",
              "          const element = document.querySelector('#df-def0a5ef-8ad8-485e-9a82-7587a58eec94');\n",
              "          const dataTable =\n",
              "            await google.colab.kernel.invokeFunction('convertToInteractive',\n",
              "                                                     [key], {});\n",
              "          if (!dataTable) return;\n",
              "\n",
              "          const docLinkHtml = 'Like what you see? Visit the ' +\n",
              "            '<a target=\"_blank\" href=https://colab.research.google.com/notebooks/data_table.ipynb>data table notebook</a>'\n",
              "            + ' to learn more about interactive tables.';\n",
              "          element.innerHTML = '';\n",
              "          dataTable['output_type'] = 'display_data';\n",
              "          await google.colab.output.renderOutput(dataTable, element);\n",
              "          const docLink = document.createElement('div');\n",
              "          docLink.innerHTML = docLinkHtml;\n",
              "          element.appendChild(docLink);\n",
              "        }\n",
              "      </script>\n",
              "    </div>\n",
              "  </div>\n",
              "  "
            ],
            "text/plain": [
              "       0     1          2         3      4   5    6     7        8\n",
              "0  17.43   0.0  40.583706 -3.555486  610.6  20  229  -1.0   -1.000\n",
              "1  18.44  70.1  40.584461 -3.554302  607.9  16   10  96.0  176.836\n",
              "2  19.45  71.7  40.584423 -3.554038  611.9   4    5  96.7    0.703\n",
              "3  20.43  73.4  40.584396 -3.553770  612.0   3    5  97.7    1.758\n",
              "4  21.44  75.9  40.584366 -3.553519  612.0   3    5  98.8    2.109"
            ]
          },
          "metadata": {},
          "execution_count": 8
        }
      ]
    },
    {
      "cell_type": "code",
      "source": [
        "df_normal = [raw_gps_1d1, raw_gps_2d1, raw_gps_3d1, raw_gps_1d2, raw_gps_4d2, raw_gps_5d2, raw_gps_1d3, raw_gps_3d3, raw_gps_4d3, raw_gps_1d4, raw_gps_2d4, raw_gps_5d4, raw_gps_1d6, raw_gps_3d6]\n",
        "df_drowsy = [raw_gps_5d1, raw_gps_7d1, raw_gps_3d2, raw_gps_7d2, raw_gps_2d3, raw_gps_6d3, raw_gps_4d4, raw_gps_7d4, raw_gps_2d6, raw_gps_4d6]\n",
        "df_aggressive = [raw_gps_4d1, raw_gps_6d1, raw_gps_2d2, raw_gps_6d2, raw_gps_5d3, raw_gps_7d3, raw_gps_3d4, raw_gps_6d4, raw_gps_5d6]\n",
        "\n",
        "for df in df_normal:\n",
        "  df['Label'] = 1\n",
        "\n",
        "for df in df_drowsy:\n",
        "  df['Label'] = 0\n",
        "\n",
        "for df in df_aggressive:\n",
        "  df['Label'] = 2"
      ],
      "metadata": {
        "id": "orIkSfZP5TA5"
      },
      "execution_count": null,
      "outputs": []
    },
    {
      "cell_type": "code",
      "source": [
        "raw_gps_6d2.tail()"
      ],
      "metadata": {
        "colab": {
          "base_uri": "https://localhost:8080/",
          "height": 206
        },
        "id": "wanaULu280r2",
        "outputId": "e789e665-76d6-4ff1-a1f2-8842c35de8f5"
      },
      "execution_count": null,
      "outputs": [
        {
          "output_type": "execute_result",
          "data": {
            "text/html": [
              "\n",
              "  <div id=\"df-b0ce753d-8050-4287-86f9-4df1de951907\">\n",
              "    <div class=\"colab-df-container\">\n",
              "      <div>\n",
              "<style scoped>\n",
              "    .dataframe tbody tr th:only-of-type {\n",
              "        vertical-align: middle;\n",
              "    }\n",
              "\n",
              "    .dataframe tbody tr th {\n",
              "        vertical-align: top;\n",
              "    }\n",
              "\n",
              "    .dataframe thead th {\n",
              "        text-align: right;\n",
              "    }\n",
              "</style>\n",
              "<table border=\"1\" class=\"dataframe\">\n",
              "  <thead>\n",
              "    <tr style=\"text-align: right;\">\n",
              "      <th></th>\n",
              "      <th>0</th>\n",
              "      <th>1</th>\n",
              "      <th>2</th>\n",
              "      <th>3</th>\n",
              "      <th>4</th>\n",
              "      <th>5</th>\n",
              "      <th>6</th>\n",
              "      <th>7</th>\n",
              "      <th>8</th>\n",
              "      <th>Label</th>\n",
              "    </tr>\n",
              "  </thead>\n",
              "  <tbody>\n",
              "    <tr>\n",
              "      <th>601</th>\n",
              "      <td>617.50</td>\n",
              "      <td>62.0</td>\n",
              "      <td>40.584751</td>\n",
              "      <td>-3.556210</td>\n",
              "      <td>609.1</td>\n",
              "      <td>3</td>\n",
              "      <td>5</td>\n",
              "      <td>279.1</td>\n",
              "      <td>1.055</td>\n",
              "      <td>2</td>\n",
              "    </tr>\n",
              "    <tr>\n",
              "      <th>602</th>\n",
              "      <td>618.50</td>\n",
              "      <td>59.4</td>\n",
              "      <td>40.584778</td>\n",
              "      <td>-3.556401</td>\n",
              "      <td>608.2</td>\n",
              "      <td>3</td>\n",
              "      <td>5</td>\n",
              "      <td>278.8</td>\n",
              "      <td>1.055</td>\n",
              "      <td>2</td>\n",
              "    </tr>\n",
              "    <tr>\n",
              "      <th>603</th>\n",
              "      <td>619.52</td>\n",
              "      <td>55.4</td>\n",
              "      <td>40.584797</td>\n",
              "      <td>-3.556592</td>\n",
              "      <td>607.3</td>\n",
              "      <td>3</td>\n",
              "      <td>5</td>\n",
              "      <td>278.4</td>\n",
              "      <td>0.703</td>\n",
              "      <td>2</td>\n",
              "    </tr>\n",
              "    <tr>\n",
              "      <th>604</th>\n",
              "      <td>620.51</td>\n",
              "      <td>50.9</td>\n",
              "      <td>40.584816</td>\n",
              "      <td>-3.556767</td>\n",
              "      <td>606.7</td>\n",
              "      <td>3</td>\n",
              "      <td>5</td>\n",
              "      <td>279.1</td>\n",
              "      <td>0.703</td>\n",
              "      <td>2</td>\n",
              "    </tr>\n",
              "    <tr>\n",
              "      <th>605</th>\n",
              "      <td>621.53</td>\n",
              "      <td>45.2</td>\n",
              "      <td>40.584831</td>\n",
              "      <td>-3.556916</td>\n",
              "      <td>605.8</td>\n",
              "      <td>3</td>\n",
              "      <td>5</td>\n",
              "      <td>279.8</td>\n",
              "      <td>0.000</td>\n",
              "      <td>2</td>\n",
              "    </tr>\n",
              "  </tbody>\n",
              "</table>\n",
              "</div>\n",
              "      <button class=\"colab-df-convert\" onclick=\"convertToInteractive('df-b0ce753d-8050-4287-86f9-4df1de951907')\"\n",
              "              title=\"Convert this dataframe to an interactive table.\"\n",
              "              style=\"display:none;\">\n",
              "        \n",
              "  <svg xmlns=\"http://www.w3.org/2000/svg\" height=\"24px\"viewBox=\"0 0 24 24\"\n",
              "       width=\"24px\">\n",
              "    <path d=\"M0 0h24v24H0V0z\" fill=\"none\"/>\n",
              "    <path d=\"M18.56 5.44l.94 2.06.94-2.06 2.06-.94-2.06-.94-.94-2.06-.94 2.06-2.06.94zm-11 1L8.5 8.5l.94-2.06 2.06-.94-2.06-.94L8.5 2.5l-.94 2.06-2.06.94zm10 10l.94 2.06.94-2.06 2.06-.94-2.06-.94-.94-2.06-.94 2.06-2.06.94z\"/><path d=\"M17.41 7.96l-1.37-1.37c-.4-.4-.92-.59-1.43-.59-.52 0-1.04.2-1.43.59L10.3 9.45l-7.72 7.72c-.78.78-.78 2.05 0 2.83L4 21.41c.39.39.9.59 1.41.59.51 0 1.02-.2 1.41-.59l7.78-7.78 2.81-2.81c.8-.78.8-2.07 0-2.86zM5.41 20L4 18.59l7.72-7.72 1.47 1.35L5.41 20z\"/>\n",
              "  </svg>\n",
              "      </button>\n",
              "      \n",
              "  <style>\n",
              "    .colab-df-container {\n",
              "      display:flex;\n",
              "      flex-wrap:wrap;\n",
              "      gap: 12px;\n",
              "    }\n",
              "\n",
              "    .colab-df-convert {\n",
              "      background-color: #E8F0FE;\n",
              "      border: none;\n",
              "      border-radius: 50%;\n",
              "      cursor: pointer;\n",
              "      display: none;\n",
              "      fill: #1967D2;\n",
              "      height: 32px;\n",
              "      padding: 0 0 0 0;\n",
              "      width: 32px;\n",
              "    }\n",
              "\n",
              "    .colab-df-convert:hover {\n",
              "      background-color: #E2EBFA;\n",
              "      box-shadow: 0px 1px 2px rgba(60, 64, 67, 0.3), 0px 1px 3px 1px rgba(60, 64, 67, 0.15);\n",
              "      fill: #174EA6;\n",
              "    }\n",
              "\n",
              "    [theme=dark] .colab-df-convert {\n",
              "      background-color: #3B4455;\n",
              "      fill: #D2E3FC;\n",
              "    }\n",
              "\n",
              "    [theme=dark] .colab-df-convert:hover {\n",
              "      background-color: #434B5C;\n",
              "      box-shadow: 0px 1px 3px 1px rgba(0, 0, 0, 0.15);\n",
              "      filter: drop-shadow(0px 1px 2px rgba(0, 0, 0, 0.3));\n",
              "      fill: #FFFFFF;\n",
              "    }\n",
              "  </style>\n",
              "\n",
              "      <script>\n",
              "        const buttonEl =\n",
              "          document.querySelector('#df-b0ce753d-8050-4287-86f9-4df1de951907 button.colab-df-convert');\n",
              "        buttonEl.style.display =\n",
              "          google.colab.kernel.accessAllowed ? 'block' : 'none';\n",
              "\n",
              "        async function convertToInteractive(key) {\n",
              "          const element = document.querySelector('#df-b0ce753d-8050-4287-86f9-4df1de951907');\n",
              "          const dataTable =\n",
              "            await google.colab.kernel.invokeFunction('convertToInteractive',\n",
              "                                                     [key], {});\n",
              "          if (!dataTable) return;\n",
              "\n",
              "          const docLinkHtml = 'Like what you see? Visit the ' +\n",
              "            '<a target=\"_blank\" href=https://colab.research.google.com/notebooks/data_table.ipynb>data table notebook</a>'\n",
              "            + ' to learn more about interactive tables.';\n",
              "          element.innerHTML = '';\n",
              "          dataTable['output_type'] = 'display_data';\n",
              "          await google.colab.output.renderOutput(dataTable, element);\n",
              "          const docLink = document.createElement('div');\n",
              "          docLink.innerHTML = docLinkHtml;\n",
              "          element.appendChild(docLink);\n",
              "        }\n",
              "      </script>\n",
              "    </div>\n",
              "  </div>\n",
              "  "
            ],
            "text/plain": [
              "          0     1          2         3      4  5  6      7      8  Label\n",
              "601  617.50  62.0  40.584751 -3.556210  609.1  3  5  279.1  1.055      2\n",
              "602  618.50  59.4  40.584778 -3.556401  608.2  3  5  278.8  1.055      2\n",
              "603  619.52  55.4  40.584797 -3.556592  607.3  3  5  278.4  0.703      2\n",
              "604  620.51  50.9  40.584816 -3.556767  606.7  3  5  279.1  0.703      2\n",
              "605  621.53  45.2  40.584831 -3.556916  605.8  3  5  279.8  0.000      2"
            ]
          },
          "metadata": {},
          "execution_count": 10
        }
      ]
    },
    {
      "cell_type": "code",
      "source": [
        "frames = [raw_gps_1d1, raw_gps_2d1, raw_gps_3d1, raw_gps_1d2, raw_gps_4d2, raw_gps_5d2, raw_gps_1d3, raw_gps_3d3, raw_gps_4d3, raw_gps_1d4, raw_gps_2d4, raw_gps_5d4, raw_gps_1d6, raw_gps_3d6, raw_gps_5d1, raw_gps_7d1, raw_gps_3d2, raw_gps_7d2, raw_gps_2d3, raw_gps_6d3, raw_gps_4d4, raw_gps_7d4, raw_gps_2d6, raw_gps_4d6, raw_gps_4d1, raw_gps_6d1, raw_gps_2d2, raw_gps_6d2, raw_gps_5d3, raw_gps_7d3, raw_gps_3d4, raw_gps_6d4, raw_gps_5d6]\n",
        "  \n",
        "result = pd.concat(frames)"
      ],
      "metadata": {
        "id": "By6SmMtL91Sh"
      },
      "execution_count": null,
      "outputs": []
    },
    {
      "cell_type": "code",
      "source": [
        "result.shape"
      ],
      "metadata": {
        "colab": {
          "base_uri": "https://localhost:8080/"
        },
        "id": "WtaX7UFi-Lgg",
        "outputId": "3f4d600c-3bb4-4bb7-cd37-5a153708dd71"
      },
      "execution_count": null,
      "outputs": [
        {
          "output_type": "execute_result",
          "data": {
            "text/plain": [
              "(25670, 10)"
            ]
          },
          "metadata": {},
          "execution_count": 12
        }
      ]
    },
    {
      "cell_type": "code",
      "source": [
        "result = result.sample(frac=1).reset_index(drop=True)"
      ],
      "metadata": {
        "id": "MXB7rjEv-hK4"
      },
      "execution_count": null,
      "outputs": []
    },
    {
      "cell_type": "code",
      "source": [
        "result.columns =['Timestamp', 'Speed', 'Latitude', 'Longitude', 'Altitude', 'Vertical_accuracy', 'Horizontal_accuracy', 'Course', 'Difcourse','Label']\n",
        "result.tail()"
      ],
      "metadata": {
        "colab": {
          "base_uri": "https://localhost:8080/",
          "height": 206
        },
        "id": "-dIGgzCl-00v",
        "outputId": "8b5c6714-16d5-4b62-b53e-377e54a9f58e"
      },
      "execution_count": null,
      "outputs": [
        {
          "output_type": "execute_result",
          "data": {
            "text/html": [
              "\n",
              "  <div id=\"df-3c8247bb-f8f4-42db-a00b-64361346006d\">\n",
              "    <div class=\"colab-df-container\">\n",
              "      <div>\n",
              "<style scoped>\n",
              "    .dataframe tbody tr th:only-of-type {\n",
              "        vertical-align: middle;\n",
              "    }\n",
              "\n",
              "    .dataframe tbody tr th {\n",
              "        vertical-align: top;\n",
              "    }\n",
              "\n",
              "    .dataframe thead th {\n",
              "        text-align: right;\n",
              "    }\n",
              "</style>\n",
              "<table border=\"1\" class=\"dataframe\">\n",
              "  <thead>\n",
              "    <tr style=\"text-align: right;\">\n",
              "      <th></th>\n",
              "      <th>Timestamp</th>\n",
              "      <th>Speed</th>\n",
              "      <th>Latitude</th>\n",
              "      <th>Longitude</th>\n",
              "      <th>Altitude</th>\n",
              "      <th>Vertical_accuracy</th>\n",
              "      <th>Horizontal_accuracy</th>\n",
              "      <th>Course</th>\n",
              "      <th>Difcourse</th>\n",
              "      <th>Label</th>\n",
              "    </tr>\n",
              "  </thead>\n",
              "  <tbody>\n",
              "    <tr>\n",
              "      <th>25665</th>\n",
              "      <td>402.95</td>\n",
              "      <td>103.1</td>\n",
              "      <td>40.537880</td>\n",
              "      <td>-3.470980</td>\n",
              "      <td>675.3</td>\n",
              "      <td>3</td>\n",
              "      <td>5</td>\n",
              "      <td>165.6</td>\n",
              "      <td>0.352</td>\n",
              "      <td>0</td>\n",
              "    </tr>\n",
              "    <tr>\n",
              "      <th>25666</th>\n",
              "      <td>901.73</td>\n",
              "      <td>74.1</td>\n",
              "      <td>40.505642</td>\n",
              "      <td>-3.360293</td>\n",
              "      <td>603.1</td>\n",
              "      <td>3</td>\n",
              "      <td>5</td>\n",
              "      <td>89.3</td>\n",
              "      <td>0.703</td>\n",
              "      <td>1</td>\n",
              "    </tr>\n",
              "    <tr>\n",
              "      <th>25667</th>\n",
              "      <td>167.77</td>\n",
              "      <td>92.5</td>\n",
              "      <td>40.483795</td>\n",
              "      <td>-3.399987</td>\n",
              "      <td>587.2</td>\n",
              "      <td>4</td>\n",
              "      <td>5</td>\n",
              "      <td>216.6</td>\n",
              "      <td>0.000</td>\n",
              "      <td>0</td>\n",
              "    </tr>\n",
              "    <tr>\n",
              "      <th>25668</th>\n",
              "      <td>36.96</td>\n",
              "      <td>104.7</td>\n",
              "      <td>40.504517</td>\n",
              "      <td>-3.366455</td>\n",
              "      <td>611.2</td>\n",
              "      <td>3</td>\n",
              "      <td>5</td>\n",
              "      <td>238.4</td>\n",
              "      <td>2.461</td>\n",
              "      <td>2</td>\n",
              "    </tr>\n",
              "    <tr>\n",
              "      <th>25669</th>\n",
              "      <td>126.91</td>\n",
              "      <td>118.4</td>\n",
              "      <td>40.491966</td>\n",
              "      <td>-3.389699</td>\n",
              "      <td>592.3</td>\n",
              "      <td>6</td>\n",
              "      <td>5</td>\n",
              "      <td>226.6</td>\n",
              "      <td>0.511</td>\n",
              "      <td>1</td>\n",
              "    </tr>\n",
              "  </tbody>\n",
              "</table>\n",
              "</div>\n",
              "      <button class=\"colab-df-convert\" onclick=\"convertToInteractive('df-3c8247bb-f8f4-42db-a00b-64361346006d')\"\n",
              "              title=\"Convert this dataframe to an interactive table.\"\n",
              "              style=\"display:none;\">\n",
              "        \n",
              "  <svg xmlns=\"http://www.w3.org/2000/svg\" height=\"24px\"viewBox=\"0 0 24 24\"\n",
              "       width=\"24px\">\n",
              "    <path d=\"M0 0h24v24H0V0z\" fill=\"none\"/>\n",
              "    <path d=\"M18.56 5.44l.94 2.06.94-2.06 2.06-.94-2.06-.94-.94-2.06-.94 2.06-2.06.94zm-11 1L8.5 8.5l.94-2.06 2.06-.94-2.06-.94L8.5 2.5l-.94 2.06-2.06.94zm10 10l.94 2.06.94-2.06 2.06-.94-2.06-.94-.94-2.06-.94 2.06-2.06.94z\"/><path d=\"M17.41 7.96l-1.37-1.37c-.4-.4-.92-.59-1.43-.59-.52 0-1.04.2-1.43.59L10.3 9.45l-7.72 7.72c-.78.78-.78 2.05 0 2.83L4 21.41c.39.39.9.59 1.41.59.51 0 1.02-.2 1.41-.59l7.78-7.78 2.81-2.81c.8-.78.8-2.07 0-2.86zM5.41 20L4 18.59l7.72-7.72 1.47 1.35L5.41 20z\"/>\n",
              "  </svg>\n",
              "      </button>\n",
              "      \n",
              "  <style>\n",
              "    .colab-df-container {\n",
              "      display:flex;\n",
              "      flex-wrap:wrap;\n",
              "      gap: 12px;\n",
              "    }\n",
              "\n",
              "    .colab-df-convert {\n",
              "      background-color: #E8F0FE;\n",
              "      border: none;\n",
              "      border-radius: 50%;\n",
              "      cursor: pointer;\n",
              "      display: none;\n",
              "      fill: #1967D2;\n",
              "      height: 32px;\n",
              "      padding: 0 0 0 0;\n",
              "      width: 32px;\n",
              "    }\n",
              "\n",
              "    .colab-df-convert:hover {\n",
              "      background-color: #E2EBFA;\n",
              "      box-shadow: 0px 1px 2px rgba(60, 64, 67, 0.3), 0px 1px 3px 1px rgba(60, 64, 67, 0.15);\n",
              "      fill: #174EA6;\n",
              "    }\n",
              "\n",
              "    [theme=dark] .colab-df-convert {\n",
              "      background-color: #3B4455;\n",
              "      fill: #D2E3FC;\n",
              "    }\n",
              "\n",
              "    [theme=dark] .colab-df-convert:hover {\n",
              "      background-color: #434B5C;\n",
              "      box-shadow: 0px 1px 3px 1px rgba(0, 0, 0, 0.15);\n",
              "      filter: drop-shadow(0px 1px 2px rgba(0, 0, 0, 0.3));\n",
              "      fill: #FFFFFF;\n",
              "    }\n",
              "  </style>\n",
              "\n",
              "      <script>\n",
              "        const buttonEl =\n",
              "          document.querySelector('#df-3c8247bb-f8f4-42db-a00b-64361346006d button.colab-df-convert');\n",
              "        buttonEl.style.display =\n",
              "          google.colab.kernel.accessAllowed ? 'block' : 'none';\n",
              "\n",
              "        async function convertToInteractive(key) {\n",
              "          const element = document.querySelector('#df-3c8247bb-f8f4-42db-a00b-64361346006d');\n",
              "          const dataTable =\n",
              "            await google.colab.kernel.invokeFunction('convertToInteractive',\n",
              "                                                     [key], {});\n",
              "          if (!dataTable) return;\n",
              "\n",
              "          const docLinkHtml = 'Like what you see? Visit the ' +\n",
              "            '<a target=\"_blank\" href=https://colab.research.google.com/notebooks/data_table.ipynb>data table notebook</a>'\n",
              "            + ' to learn more about interactive tables.';\n",
              "          element.innerHTML = '';\n",
              "          dataTable['output_type'] = 'display_data';\n",
              "          await google.colab.output.renderOutput(dataTable, element);\n",
              "          const docLink = document.createElement('div');\n",
              "          docLink.innerHTML = docLinkHtml;\n",
              "          element.appendChild(docLink);\n",
              "        }\n",
              "      </script>\n",
              "    </div>\n",
              "  </div>\n",
              "  "
            ],
            "text/plain": [
              "       Timestamp  Speed   Latitude  ...  Course  Difcourse  Label\n",
              "25665     402.95  103.1  40.537880  ...   165.6      0.352      0\n",
              "25666     901.73   74.1  40.505642  ...    89.3      0.703      1\n",
              "25667     167.77   92.5  40.483795  ...   216.6      0.000      0\n",
              "25668      36.96  104.7  40.504517  ...   238.4      2.461      2\n",
              "25669     126.91  118.4  40.491966  ...   226.6      0.511      1\n",
              "\n",
              "[5 rows x 10 columns]"
            ]
          },
          "metadata": {},
          "execution_count": 14
        }
      ]
    },
    {
      "cell_type": "code",
      "source": [
        "result.describe()"
      ],
      "metadata": {
        "colab": {
          "base_uri": "https://localhost:8080/",
          "height": 300
        },
        "id": "9y0gWIob-9qC",
        "outputId": "3fe83910-8fd4-466a-fb8f-1476c86e8be4"
      },
      "execution_count": null,
      "outputs": [
        {
          "output_type": "execute_result",
          "data": {
            "text/html": [
              "\n",
              "  <div id=\"df-1edf050b-8fe2-40d9-8dc0-234c279f8824\">\n",
              "    <div class=\"colab-df-container\">\n",
              "      <div>\n",
              "<style scoped>\n",
              "    .dataframe tbody tr th:only-of-type {\n",
              "        vertical-align: middle;\n",
              "    }\n",
              "\n",
              "    .dataframe tbody tr th {\n",
              "        vertical-align: top;\n",
              "    }\n",
              "\n",
              "    .dataframe thead th {\n",
              "        text-align: right;\n",
              "    }\n",
              "</style>\n",
              "<table border=\"1\" class=\"dataframe\">\n",
              "  <thead>\n",
              "    <tr style=\"text-align: right;\">\n",
              "      <th></th>\n",
              "      <th>Timestamp</th>\n",
              "      <th>Speed</th>\n",
              "      <th>Latitude</th>\n",
              "      <th>Longitude</th>\n",
              "      <th>Altitude</th>\n",
              "      <th>Vertical_accuracy</th>\n",
              "      <th>Horizontal_accuracy</th>\n",
              "      <th>Course</th>\n",
              "      <th>Difcourse</th>\n",
              "      <th>Label</th>\n",
              "    </tr>\n",
              "  </thead>\n",
              "  <tbody>\n",
              "    <tr>\n",
              "      <th>count</th>\n",
              "      <td>25670.000000</td>\n",
              "      <td>25670.000000</td>\n",
              "      <td>25670.000000</td>\n",
              "      <td>25670.000000</td>\n",
              "      <td>25670.000000</td>\n",
              "      <td>25670.000000</td>\n",
              "      <td>25670.000000</td>\n",
              "      <td>25670.000000</td>\n",
              "      <td>25670.000000</td>\n",
              "      <td>25670.000000</td>\n",
              "    </tr>\n",
              "    <tr>\n",
              "      <th>mean</th>\n",
              "      <td>421.388213</td>\n",
              "      <td>94.217234</td>\n",
              "      <td>40.511744</td>\n",
              "      <td>-3.449589</td>\n",
              "      <td>624.589081</td>\n",
              "      <td>3.813907</td>\n",
              "      <td>5.299260</td>\n",
              "      <td>182.218987</td>\n",
              "      <td>1.975515</td>\n",
              "      <td>0.941995</td>\n",
              "    </tr>\n",
              "    <tr>\n",
              "      <th>std</th>\n",
              "      <td>250.678243</td>\n",
              "      <td>16.484602</td>\n",
              "      <td>0.039056</td>\n",
              "      <td>0.050882</td>\n",
              "      <td>45.016204</td>\n",
              "      <td>1.501646</td>\n",
              "      <td>15.498193</td>\n",
              "      <td>96.289051</td>\n",
              "      <td>4.863035</td>\n",
              "      <td>0.758518</td>\n",
              "    </tr>\n",
              "    <tr>\n",
              "      <th>min</th>\n",
              "      <td>7.230000</td>\n",
              "      <td>0.000000</td>\n",
              "      <td>40.463497</td>\n",
              "      <td>-3.559458</td>\n",
              "      <td>568.300000</td>\n",
              "      <td>3.000000</td>\n",
              "      <td>5.000000</td>\n",
              "      <td>-1.000000</td>\n",
              "      <td>-1.000000</td>\n",
              "      <td>0.000000</td>\n",
              "    </tr>\n",
              "    <tr>\n",
              "      <th>25%</th>\n",
              "      <td>211.100000</td>\n",
              "      <td>85.400000</td>\n",
              "      <td>40.471017</td>\n",
              "      <td>-3.483201</td>\n",
              "      <td>590.200000</td>\n",
              "      <td>3.000000</td>\n",
              "      <td>5.000000</td>\n",
              "      <td>89.300000</td>\n",
              "      <td>0.352000</td>\n",
              "      <td>0.000000</td>\n",
              "    </tr>\n",
              "    <tr>\n",
              "      <th>50%</th>\n",
              "      <td>405.730000</td>\n",
              "      <td>92.600000</td>\n",
              "      <td>40.504377</td>\n",
              "      <td>-3.449983</td>\n",
              "      <td>603.100000</td>\n",
              "      <td>3.000000</td>\n",
              "      <td>5.000000</td>\n",
              "      <td>171.900000</td>\n",
              "      <td>1.055000</td>\n",
              "      <td>1.000000</td>\n",
              "    </tr>\n",
              "    <tr>\n",
              "      <th>75%</th>\n",
              "      <td>605.030000</td>\n",
              "      <td>103.600000</td>\n",
              "      <td>40.547423</td>\n",
              "      <td>-3.409967</td>\n",
              "      <td>654.500000</td>\n",
              "      <td>4.000000</td>\n",
              "      <td>5.000000</td>\n",
              "      <td>269.300000</td>\n",
              "      <td>2.461000</td>\n",
              "      <td>2.000000</td>\n",
              "    </tr>\n",
              "    <tr>\n",
              "      <th>max</th>\n",
              "      <td>1077.740000</td>\n",
              "      <td>148.800000</td>\n",
              "      <td>40.584995</td>\n",
              "      <td>-3.353082</td>\n",
              "      <td>747.100000</td>\n",
              "      <td>128.000000</td>\n",
              "      <td>2000.000000</td>\n",
              "      <td>355.800000</td>\n",
              "      <td>178.242000</td>\n",
              "      <td>2.000000</td>\n",
              "    </tr>\n",
              "  </tbody>\n",
              "</table>\n",
              "</div>\n",
              "      <button class=\"colab-df-convert\" onclick=\"convertToInteractive('df-1edf050b-8fe2-40d9-8dc0-234c279f8824')\"\n",
              "              title=\"Convert this dataframe to an interactive table.\"\n",
              "              style=\"display:none;\">\n",
              "        \n",
              "  <svg xmlns=\"http://www.w3.org/2000/svg\" height=\"24px\"viewBox=\"0 0 24 24\"\n",
              "       width=\"24px\">\n",
              "    <path d=\"M0 0h24v24H0V0z\" fill=\"none\"/>\n",
              "    <path d=\"M18.56 5.44l.94 2.06.94-2.06 2.06-.94-2.06-.94-.94-2.06-.94 2.06-2.06.94zm-11 1L8.5 8.5l.94-2.06 2.06-.94-2.06-.94L8.5 2.5l-.94 2.06-2.06.94zm10 10l.94 2.06.94-2.06 2.06-.94-2.06-.94-.94-2.06-.94 2.06-2.06.94z\"/><path d=\"M17.41 7.96l-1.37-1.37c-.4-.4-.92-.59-1.43-.59-.52 0-1.04.2-1.43.59L10.3 9.45l-7.72 7.72c-.78.78-.78 2.05 0 2.83L4 21.41c.39.39.9.59 1.41.59.51 0 1.02-.2 1.41-.59l7.78-7.78 2.81-2.81c.8-.78.8-2.07 0-2.86zM5.41 20L4 18.59l7.72-7.72 1.47 1.35L5.41 20z\"/>\n",
              "  </svg>\n",
              "      </button>\n",
              "      \n",
              "  <style>\n",
              "    .colab-df-container {\n",
              "      display:flex;\n",
              "      flex-wrap:wrap;\n",
              "      gap: 12px;\n",
              "    }\n",
              "\n",
              "    .colab-df-convert {\n",
              "      background-color: #E8F0FE;\n",
              "      border: none;\n",
              "      border-radius: 50%;\n",
              "      cursor: pointer;\n",
              "      display: none;\n",
              "      fill: #1967D2;\n",
              "      height: 32px;\n",
              "      padding: 0 0 0 0;\n",
              "      width: 32px;\n",
              "    }\n",
              "\n",
              "    .colab-df-convert:hover {\n",
              "      background-color: #E2EBFA;\n",
              "      box-shadow: 0px 1px 2px rgba(60, 64, 67, 0.3), 0px 1px 3px 1px rgba(60, 64, 67, 0.15);\n",
              "      fill: #174EA6;\n",
              "    }\n",
              "\n",
              "    [theme=dark] .colab-df-convert {\n",
              "      background-color: #3B4455;\n",
              "      fill: #D2E3FC;\n",
              "    }\n",
              "\n",
              "    [theme=dark] .colab-df-convert:hover {\n",
              "      background-color: #434B5C;\n",
              "      box-shadow: 0px 1px 3px 1px rgba(0, 0, 0, 0.15);\n",
              "      filter: drop-shadow(0px 1px 2px rgba(0, 0, 0, 0.3));\n",
              "      fill: #FFFFFF;\n",
              "    }\n",
              "  </style>\n",
              "\n",
              "      <script>\n",
              "        const buttonEl =\n",
              "          document.querySelector('#df-1edf050b-8fe2-40d9-8dc0-234c279f8824 button.colab-df-convert');\n",
              "        buttonEl.style.display =\n",
              "          google.colab.kernel.accessAllowed ? 'block' : 'none';\n",
              "\n",
              "        async function convertToInteractive(key) {\n",
              "          const element = document.querySelector('#df-1edf050b-8fe2-40d9-8dc0-234c279f8824');\n",
              "          const dataTable =\n",
              "            await google.colab.kernel.invokeFunction('convertToInteractive',\n",
              "                                                     [key], {});\n",
              "          if (!dataTable) return;\n",
              "\n",
              "          const docLinkHtml = 'Like what you see? Visit the ' +\n",
              "            '<a target=\"_blank\" href=https://colab.research.google.com/notebooks/data_table.ipynb>data table notebook</a>'\n",
              "            + ' to learn more about interactive tables.';\n",
              "          element.innerHTML = '';\n",
              "          dataTable['output_type'] = 'display_data';\n",
              "          await google.colab.output.renderOutput(dataTable, element);\n",
              "          const docLink = document.createElement('div');\n",
              "          docLink.innerHTML = docLinkHtml;\n",
              "          element.appendChild(docLink);\n",
              "        }\n",
              "      </script>\n",
              "    </div>\n",
              "  </div>\n",
              "  "
            ],
            "text/plain": [
              "          Timestamp         Speed  ...     Difcourse         Label\n",
              "count  25670.000000  25670.000000  ...  25670.000000  25670.000000\n",
              "mean     421.388213     94.217234  ...      1.975515      0.941995\n",
              "std      250.678243     16.484602  ...      4.863035      0.758518\n",
              "min        7.230000      0.000000  ...     -1.000000      0.000000\n",
              "25%      211.100000     85.400000  ...      0.352000      0.000000\n",
              "50%      405.730000     92.600000  ...      1.055000      1.000000\n",
              "75%      605.030000    103.600000  ...      2.461000      2.000000\n",
              "max     1077.740000    148.800000  ...    178.242000      2.000000\n",
              "\n",
              "[8 rows x 10 columns]"
            ]
          },
          "metadata": {},
          "execution_count": 15
        }
      ]
    },
    {
      "cell_type": "code",
      "source": [
        "for col in result.columns:\n",
        "  result.boxplot(column = col)         # box plot to observe the distribution of values in different columns\n",
        "  plt.show()"
      ],
      "metadata": {
        "colab": {
          "base_uri": "https://localhost:8080/",
          "height": 1000
        },
        "id": "KvA_IJmJbGt4",
        "outputId": "79ed659f-e6dd-4e50-ec81-75cdd593e52f"
      },
      "execution_count": null,
      "outputs": [
        {
          "output_type": "display_data",
          "data": {
            "image/png": "[encoded data removed]",
            "text/plain": [
              "<Figure size 432x288 with 1 Axes>"
            ]
          },
          "metadata": {
            "needs_background": "light"
          }
        },
        {
          "output_type": "display_data",
          "data": {
            "image/png": "[encoded data removed]",
            "text/plain": [
              "<Figure size 432x288 with 1 Axes>"
            ]
          },
          "metadata": {
            "needs_background": "light"
          }
        },
        {
          "output_type": "display_data",
          "data": {
            "image/png": "[encoded data removed]",
            "text/plain": [
              "<Figure size 432x288 with 1 Axes>"
            ]
          },
          "metadata": {
            "needs_background": "light"
          }
        },
        {
          "output_type": "display_data",
          "data": {
            "image/png": "[encoded data removed]",
            "text/plain": [
              "<Figure size 432x288 with 1 Axes>"
            ]
          },
          "metadata": {
            "needs_background": "light"
          }
        },
        {
          "output_type": "display_data",
          "data": {
            "image/png": "[encoded data removed]",
            "text/plain": [
              "<Figure size 432x288 with 1 Axes>"
            ]
          },
          "metadata": {
            "needs_background": "light"
          }
        },
        {
          "output_type": "display_data",
          "data": {
            "image/png": "[encoded data removed]",
            "text/plain": [
              "<Figure size 432x288 with 1 Axes>"
            ]
          },
          "metadata": {
            "needs_background": "light"
          }
        },
        {
          "output_type": "display_data",
          "data": {
            "image/png": "[encoded data removed]",
            "text/plain": [
              "<Figure size 432x288 with 1 Axes>"
            ]
          },
          "metadata": {
            "needs_background": "light"
          }
        },
        {
          "output_type": "display_data",
          "data": {
            "image/png": "[encoded data removed]",
            "text/plain": [
              "<Figure size 432x288 with 1 Axes>"
            ]
          },
          "metadata": {
            "needs_background": "light"
          }
        },
        {
          "output_type": "display_data",
          "data": {
            "image/png": "[encoded data removed]",
            "text/plain": [
              "<Figure size 432x288 with 1 Axes>"
            ]
          },
          "metadata": {
            "needs_background": "light"
          }
        },
        {
          "output_type": "display_data",
          "data": {
            "image/png": "[encoded data removed]",
            "text/plain": [
              "<Figure size 432x288 with 1 Axes>"
            ]
          },
          "metadata": {
            "needs_background": "light"
          }
        }
      ]
    },
    {
      "cell_type": "code",
      "source": [
        "import seaborn as sns \n",
        "\n",
        "fig, ax = plt.subplots(figsize=(10,8)) \n",
        "sns.heatmap(result.corr(), annot=True, linewidths=.5, ax=ax) "
      ],
      "metadata": {
        "colab": {
          "base_uri": "https://localhost:8080/",
          "height": 595
        },
        "id": "NBU4bFSzbkm7",
        "outputId": "02b42150-58b1-4b4a-f7f6-25cb218e8a03"
      },
      "execution_count": null,
      "outputs": [
        {
          "output_type": "execute_result",
          "data": {
            "text/plain": [
              "<matplotlib.axes._subplots.AxesSubplot at 0x7f85af71b810>"
            ]
          },
          "metadata": {},
          "execution_count": 17
        },
        {
          "output_type": "display_data",
          "data": {
            "image/png": "[encoded data removed]",
            "text/plain": [
              "<Figure size 720x576 with 2 Axes>"
            ]
          },
          "metadata": {
            "needs_background": "light"
          }
        }
      ]
    },
    {
      "cell_type": "code",
      "source": [
        "sns.set_style(\"whitegrid\")\n",
        "\n",
        "features = ['Speed','Altitude','Vertical_accuracy','Horizontal_accuracy','Course','Difcourse']\n",
        "\n",
        "for col in features:\n",
        "  sns.boxplot('Label', col, data=result) # discrete column = 'TenYearCHD'\n",
        "  plt.xlabel('Label')     # Set text for the x axis\n",
        "  plt.ylabel(col)   # Set text for y axis\n",
        "  plt.show()"
      ],
      "metadata": {
        "colab": {
          "base_uri": "https://localhost:8080/",
          "height": 1000
        },
        "id": "Qyaz0Bn8ccic",
        "outputId": "d079353e-4a90-4b54-8ca7-919d3af740ea"
      },
      "execution_count": null,
      "outputs": [
        {
          "output_type": "stream",
          "name": "stderr",
          "text": [
            "/usr/local/lib/python3.7/dist-packages/seaborn/_decorators.py:43: FutureWarning: Pass the following variables as keyword args: x, y. From version 0.12, the only valid positional argument will be `data`, and passing other arguments without an explicit keyword will result in an error or misinterpretation.\n",
            "  FutureWarning\n"
          ]
        },
        {
          "output_type": "display_data",
          "data": {
            "image/png": "[encoded data removed]",
            "text/plain": [
              "<Figure size 432x288 with 1 Axes>"
            ]
          },
          "metadata": {}
        },
        {
          "output_type": "stream",
          "name": "stderr",
          "text": [
            "/usr/local/lib/python3.7/dist-packages/seaborn/_decorators.py:43: FutureWarning: Pass the following variables as keyword args: x, y. From version 0.12, the only valid positional argument will be `data`, and passing other arguments without an explicit keyword will result in an error or misinterpretation.\n",
            "  FutureWarning\n"
          ]
        },
        {
          "output_type": "display_data",
          "data": {
            "image/png": "[encoded data removed]",
            "text/plain": [
              "<Figure size 432x288 with 1 Axes>"
            ]
          },
          "metadata": {}
        },
        {
          "output_type": "stream",
          "name": "stderr",
          "text": [
            "/usr/local/lib/python3.7/dist-packages/seaborn/_decorators.py:43: FutureWarning: Pass the following variables as keyword args: x, y. From version 0.12, the only valid positional argument will be `data`, and passing other arguments without an explicit keyword will result in an error or misinterpretation.\n",
            "  FutureWarning\n"
          ]
        },
        {
          "output_type": "display_data",
          "data": {
            "image/png": "[encoded data removed]",
            "text/plain": [
              "<Figure size 432x288 with 1 Axes>"
            ]
          },
          "metadata": {}
        },
        {
          "output_type": "stream",
          "name": "stderr",
          "text": [
            "/usr/local/lib/python3.7/dist-packages/seaborn/_decorators.py:43: FutureWarning: Pass the following variables as keyword args: x, y. From version 0.12, the only valid positional argument will be `data`, and passing other arguments without an explicit keyword will result in an error or misinterpretation.\n",
            "  FutureWarning\n"
          ]
        },
        {
          "output_type": "display_data",
          "data": {
            "image/png": "[encoded data removed]",
            "text/plain": [
              "<Figure size 432x288 with 1 Axes>"
            ]
          },
          "metadata": {}
        },
        {
          "output_type": "stream",
          "name": "stderr",
          "text": [
            "/usr/local/lib/python3.7/dist-packages/seaborn/_decorators.py:43: FutureWarning: Pass the following variables as keyword args: x, y. From version 0.12, the only valid positional argument will be `data`, and passing other arguments without an explicit keyword will result in an error or misinterpretation.\n",
            "  FutureWarning\n"
          ]
        },
        {
          "output_type": "display_data",
          "data": {
            "image/png": "[encoded data removed]",
            "text/plain": [
              "<Figure size 432x288 with 1 Axes>"
            ]
          },
          "metadata": {}
        },
        {
          "output_type": "stream",
          "name": "stderr",
          "text": [
            "/usr/local/lib/python3.7/dist-packages/seaborn/_decorators.py:43: FutureWarning: Pass the following variables as keyword args: x, y. From version 0.12, the only valid positional argument will be `data`, and passing other arguments without an explicit keyword will result in an error or misinterpretation.\n",
            "  FutureWarning\n"
          ]
        },
        {
          "output_type": "display_data",
          "data": {
            "image/png": "[encoded data removed]",
            "text/plain": [
              "<Figure size 432x288 with 1 Axes>"
            ]
          },
          "metadata": {}
        }
      ]
    },
    {
      "cell_type": "markdown",
      "source": [
        "The reasoning for dropping columns is based on two things: columns having low correlation values\twith 'Label' are discarded and out of two closely correlated columns, one is discarded from the feature list."
      ],
      "metadata": {
        "id": "VtMHnDOLXB9c"
      }
    },
    {
      "cell_type": "code",
      "source": [
        "result.drop(['Timestamp','Longitude','Latitude','Horizontal_accuracy','Vertical_accuracy','Difcourse'], axis=1, inplace=True)\n",
        "result.head()"
      ],
      "metadata": {
        "colab": {
          "base_uri": "https://localhost:8080/",
          "height": 206
        },
        "id": "vl1ByB2Qett6",
        "outputId": "e9a5f22f-e425-45a4-e57f-c7edc6d78497"
      },
      "execution_count": null,
      "outputs": [
        {
          "output_type": "execute_result",
          "data": {
            "text/html": [
              "\n",
              "  <div id=\"df-66d4865b-e7f3-41e6-a3df-3ccc99d08738\">\n",
              "    <div class=\"colab-df-container\">\n",
              "      <div>\n",
              "<style scoped>\n",
              "    .dataframe tbody tr th:only-of-type {\n",
              "        vertical-align: middle;\n",
              "    }\n",
              "\n",
              "    .dataframe tbody tr th {\n",
              "        vertical-align: top;\n",
              "    }\n",
              "\n",
              "    .dataframe thead th {\n",
              "        text-align: right;\n",
              "    }\n",
              "</style>\n",
              "<table border=\"1\" class=\"dataframe\">\n",
              "  <thead>\n",
              "    <tr style=\"text-align: right;\">\n",
              "      <th></th>\n",
              "      <th>Speed</th>\n",
              "      <th>Altitude</th>\n",
              "      <th>Course</th>\n",
              "      <th>Label</th>\n",
              "    </tr>\n",
              "  </thead>\n",
              "  <tbody>\n",
              "    <tr>\n",
              "      <th>0</th>\n",
              "      <td>85.9</td>\n",
              "      <td>647.6</td>\n",
              "      <td>89.6</td>\n",
              "      <td>1</td>\n",
              "    </tr>\n",
              "    <tr>\n",
              "      <th>1</th>\n",
              "      <td>111.3</td>\n",
              "      <td>593.9</td>\n",
              "      <td>216.9</td>\n",
              "      <td>0</td>\n",
              "    </tr>\n",
              "    <tr>\n",
              "      <th>2</th>\n",
              "      <td>105.8</td>\n",
              "      <td>587.7</td>\n",
              "      <td>79.8</td>\n",
              "      <td>2</td>\n",
              "    </tr>\n",
              "    <tr>\n",
              "      <th>3</th>\n",
              "      <td>109.7</td>\n",
              "      <td>602.7</td>\n",
              "      <td>45.0</td>\n",
              "      <td>1</td>\n",
              "    </tr>\n",
              "    <tr>\n",
              "      <th>4</th>\n",
              "      <td>97.6</td>\n",
              "      <td>575.1</td>\n",
              "      <td>234.1</td>\n",
              "      <td>0</td>\n",
              "    </tr>\n",
              "  </tbody>\n",
              "</table>\n",
              "</div>\n",
              "      <button class=\"colab-df-convert\" onclick=\"convertToInteractive('df-66d4865b-e7f3-41e6-a3df-3ccc99d08738')\"\n",
              "              title=\"Convert this dataframe to an interactive table.\"\n",
              "              style=\"display:none;\">\n",
              "        \n",
              "  <svg xmlns=\"http://www.w3.org/2000/svg\" height=\"24px\"viewBox=\"0 0 24 24\"\n",
              "       width=\"24px\">\n",
              "    <path d=\"M0 0h24v24H0V0z\" fill=\"none\"/>\n",
              "    <path d=\"M18.56 5.44l.94 2.06.94-2.06 2.06-.94-2.06-.94-.94-2.06-.94 2.06-2.06.94zm-11 1L8.5 8.5l.94-2.06 2.06-.94-2.06-.94L8.5 2.5l-.94 2.06-2.06.94zm10 10l.94 2.06.94-2.06 2.06-.94-2.06-.94-.94-2.06-.94 2.06-2.06.94z\"/><path d=\"M17.41 7.96l-1.37-1.37c-.4-.4-.92-.59-1.43-.59-.52 0-1.04.2-1.43.59L10.3 9.45l-7.72 7.72c-.78.78-.78 2.05 0 2.83L4 21.41c.39.39.9.59 1.41.59.51 0 1.02-.2 1.41-.59l7.78-7.78 2.81-2.81c.8-.78.8-2.07 0-2.86zM5.41 20L4 18.59l7.72-7.72 1.47 1.35L5.41 20z\"/>\n",
              "  </svg>\n",
              "      </button>\n",
              "      \n",
              "  <style>\n",
              "    .colab-df-container {\n",
              "      display:flex;\n",
              "      flex-wrap:wrap;\n",
              "      gap: 12px;\n",
              "    }\n",
              "\n",
              "    .colab-df-convert {\n",
              "      background-color: #E8F0FE;\n",
              "      border: none;\n",
              "      border-radius: 50%;\n",
              "      cursor: pointer;\n",
              "      display: none;\n",
              "      fill: #1967D2;\n",
              "      height: 32px;\n",
              "      padding: 0 0 0 0;\n",
              "      width: 32px;\n",
              "    }\n",
              "\n",
              "    .colab-df-convert:hover {\n",
              "      background-color: #E2EBFA;\n",
              "      box-shadow: 0px 1px 2px rgba(60, 64, 67, 0.3), 0px 1px 3px 1px rgba(60, 64, 67, 0.15);\n",
              "      fill: #174EA6;\n",
              "    }\n",
              "\n",
              "    [theme=dark] .colab-df-convert {\n",
              "      background-color: #3B4455;\n",
              "      fill: #D2E3FC;\n",
              "    }\n",
              "\n",
              "    [theme=dark] .colab-df-convert:hover {\n",
              "      background-color: #434B5C;\n",
              "      box-shadow: 0px 1px 3px 1px rgba(0, 0, 0, 0.15);\n",
              "      filter: drop-shadow(0px 1px 2px rgba(0, 0, 0, 0.3));\n",
              "      fill: #FFFFFF;\n",
              "    }\n",
              "  </style>\n",
              "\n",
              "      <script>\n",
              "        const buttonEl =\n",
              "          document.querySelector('#df-66d4865b-e7f3-41e6-a3df-3ccc99d08738 button.colab-df-convert');\n",
              "        buttonEl.style.display =\n",
              "          google.colab.kernel.accessAllowed ? 'block' : 'none';\n",
              "\n",
              "        async function convertToInteractive(key) {\n",
              "          const element = document.querySelector('#df-66d4865b-e7f3-41e6-a3df-3ccc99d08738');\n",
              "          const dataTable =\n",
              "            await google.colab.kernel.invokeFunction('convertToInteractive',\n",
              "                                                     [key], {});\n",
              "          if (!dataTable) return;\n",
              "\n",
              "          const docLinkHtml = 'Like what you see? Visit the ' +\n",
              "            '<a target=\"_blank\" href=https://colab.research.google.com/notebooks/data_table.ipynb>data table notebook</a>'\n",
              "            + ' to learn more about interactive tables.';\n",
              "          element.innerHTML = '';\n",
              "          dataTable['output_type'] = 'display_data';\n",
              "          await google.colab.output.renderOutput(dataTable, element);\n",
              "          const docLink = document.createElement('div');\n",
              "          docLink.innerHTML = docLinkHtml;\n",
              "          element.appendChild(docLink);\n",
              "        }\n",
              "      </script>\n",
              "    </div>\n",
              "  </div>\n",
              "  "
            ],
            "text/plain": [
              "   Speed  Altitude  Course  Label\n",
              "0   85.9     647.6    89.6      1\n",
              "1  111.3     593.9   216.9      0\n",
              "2  105.8     587.7    79.8      2\n",
              "3  109.7     602.7    45.0      1\n",
              "4   97.6     575.1   234.1      0"
            ]
          },
          "metadata": {},
          "execution_count": 19
        }
      ]
    },
    {
      "cell_type": "code",
      "source": [
        "# one hot encoding skipped as there is NO categorical column in the feature list\n",
        "# normalization\n",
        "from sklearn import preprocessing\n",
        "\n",
        "scaler = preprocessing.StandardScaler()\n",
        "result[[\"ScaledSpeed\"]] = scaler.fit_transform(result[[\"Speed\"]])\n",
        "result[[\"ScaledAltitude\"]] = scaler.fit_transform(result[[\"Altitude\"]])\n",
        "result[[\"ScaledCourse\"]] = scaler.fit_transform(result[[\"Course\"]])\n",
        "\n",
        "result.drop(['Speed','Altitude','Course'], axis=1, inplace=True)"
      ],
      "metadata": {
        "id": "pngM9cSFfmvI"
      },
      "execution_count": null,
      "outputs": []
    },
    {
      "cell_type": "code",
      "source": [
        "num_col=['ScaledSpeed','ScaledAltitude','ScaledCourse']\n",
        "\n",
        "for col in num_col:\n",
        "    print(result[col],'\\n')"
      ],
      "metadata": {
        "colab": {
          "base_uri": "https://localhost:8080/"
        },
        "id": "wJ6TsCgagv0i",
        "outputId": "3f5d0afb-5f9b-4d8c-a370-6c5d55bb7edb"
      },
      "execution_count": null,
      "outputs": [
        {
          "output_type": "stream",
          "name": "stdout",
          "text": [
            "0       -0.504555\n",
            "1        1.036306\n",
            "2        0.702655\n",
            "3        0.939244\n",
            "4        0.205212\n",
            "           ...   \n",
            "25665    0.538863\n",
            "25666   -1.220389\n",
            "25667   -0.104174\n",
            "25668    0.635925\n",
            "25669    1.467020\n",
            "Name: ScaledSpeed, Length: 25670, dtype: float64 \n",
            "\n",
            "0        0.511180\n",
            "1       -0.681747\n",
            "2       -0.819478\n",
            "3       -0.486258\n",
            "4       -1.099383\n",
            "           ...   \n",
            "25665    1.126526\n",
            "25666   -0.477373\n",
            "25667   -0.830586\n",
            "25668   -0.297434\n",
            "25669   -0.717291\n",
            "Name: ScaledAltitude, Length: 25670, dtype: float64 \n",
            "\n",
            "0       -0.961904\n",
            "1        0.360183\n",
            "2       -1.063683\n",
            "3       -1.425101\n",
            "4        0.538815\n",
            "           ...   \n",
            "25665   -0.172598\n",
            "25666   -0.965019\n",
            "25667    0.357067\n",
            "25668    0.583473\n",
            "25669    0.460923\n",
            "Name: ScaledCourse, Length: 25670, dtype: float64 \n",
            "\n"
          ]
        }
      ]
    },
    {
      "cell_type": "code",
      "source": [
        "# test set\n",
        "raw_gps_1d5 = pd.read_csv('/content/drive/MyDrive/UAH-DRIVESET-v1/D5/20151209151242-25km-D5-NORMAL-MOTORWAY/RAW_GPS.txt',header=None,delimiter=\" \")\n",
        "raw_gps_2d5 = pd.read_csv('/content/drive/MyDrive/UAH-DRIVESET-v1/D5/20151209153137-25km-D5-AGGRESSIVE-MOTORWAY/RAW_GPS.txt',header=None,delimiter=\" \")\n",
        "raw_gps_3d5 = pd.read_csv('/content/drive/MyDrive/UAH-DRIVESET-v1/D5/20151211160213-25km-D5-DROWSY-MOTORWAY/RAW_GPS.txt',header=None,delimiter=\" \")\n",
        "raw_gps_4d5 = pd.read_csv('/content/drive/MyDrive/UAH-DRIVESET-v1/D5/20151211162829-16km-D5-NORMAL1-SECONDARY/RAW_GPS.txt',header=None,delimiter=\" \")\n",
        "raw_gps_5d5 = pd.read_csv('/content/drive/MyDrive/UAH-DRIVESET-v1/D5/20151211164124-17km-D5-NORMAL2-SECONDARY/RAW_GPS.txt',header=None,delimiter=\" \")\n",
        "raw_gps_6d5 = pd.read_csv('/content/drive/MyDrive/UAH-DRIVESET-v1/D5/20151211165606-12km-D5-AGGRESSIVE-SECONDARY/RAW_GPS.txt',header=None,delimiter=\" \")\n",
        "raw_gps_7d5 = pd.read_csv('/content/drive/MyDrive/UAH-DRIVESET-v1/D5/20151211170502-16km-D5-DROWSY-SECONDARY/RAW_GPS.txt',header=None,delimiter=\" \")"
      ],
      "metadata": {
        "id": "j9aZUt1xhdhx"
      },
      "execution_count": null,
      "outputs": []
    },
    {
      "cell_type": "code",
      "source": [
        "for i in range(4):\n",
        "  raw_gps_1d5.drop(12-i, axis=1, inplace=True)\n",
        "  raw_gps_2d5.drop(12-i, axis=1, inplace=True)\n",
        "  raw_gps_3d5.drop(12-i, axis=1, inplace=True)\n",
        "  raw_gps_4d5.drop(12-i, axis=1, inplace=True)\n",
        "  raw_gps_5d5.drop(12-i, axis=1, inplace=True)\n",
        "  raw_gps_6d5.drop(12-i, axis=1, inplace=True)\n",
        "  raw_gps_7d5.drop(12-i, axis=1, inplace=True)\n",
        "\n",
        "raw_gps_6d5.head()"
      ],
      "metadata": {
        "colab": {
          "base_uri": "https://localhost:8080/",
          "height": 206
        },
        "id": "EHaeFv9eiFxI",
        "outputId": "b1291a75-8f63-4164-fc42-38d7068e1229"
      },
      "execution_count": null,
      "outputs": [
        {
          "output_type": "execute_result",
          "data": {
            "text/html": [
              "\n",
              "  <div id=\"df-cd7eae64-1f5e-4af2-b1ab-55d78e0fbcf7\">\n",
              "    <div class=\"colab-df-container\">\n",
              "      <div>\n",
              "<style scoped>\n",
              "    .dataframe tbody tr th:only-of-type {\n",
              "        vertical-align: middle;\n",
              "    }\n",
              "\n",
              "    .dataframe tbody tr th {\n",
              "        vertical-align: top;\n",
              "    }\n",
              "\n",
              "    .dataframe thead th {\n",
              "        text-align: right;\n",
              "    }\n",
              "</style>\n",
              "<table border=\"1\" class=\"dataframe\">\n",
              "  <thead>\n",
              "    <tr style=\"text-align: right;\">\n",
              "      <th></th>\n",
              "      <th>0</th>\n",
              "      <th>1</th>\n",
              "      <th>2</th>\n",
              "      <th>3</th>\n",
              "      <th>4</th>\n",
              "      <th>5</th>\n",
              "      <th>6</th>\n",
              "      <th>7</th>\n",
              "      <th>8</th>\n",
              "    </tr>\n",
              "  </thead>\n",
              "  <tbody>\n",
              "    <tr>\n",
              "      <th>0</th>\n",
              "      <td>14.88</td>\n",
              "      <td>127.2</td>\n",
              "      <td>40.533833</td>\n",
              "      <td>-3.450816</td>\n",
              "      <td>657.2</td>\n",
              "      <td>6</td>\n",
              "      <td>5</td>\n",
              "      <td>270.0</td>\n",
              "      <td>0.352</td>\n",
              "    </tr>\n",
              "    <tr>\n",
              "      <th>1</th>\n",
              "      <td>15.87</td>\n",
              "      <td>126.3</td>\n",
              "      <td>40.533829</td>\n",
              "      <td>-3.451236</td>\n",
              "      <td>656.6</td>\n",
              "      <td>6</td>\n",
              "      <td>5</td>\n",
              "      <td>269.6</td>\n",
              "      <td>0.352</td>\n",
              "    </tr>\n",
              "    <tr>\n",
              "      <th>2</th>\n",
              "      <td>16.88</td>\n",
              "      <td>126.1</td>\n",
              "      <td>40.533829</td>\n",
              "      <td>-3.451651</td>\n",
              "      <td>655.9</td>\n",
              "      <td>6</td>\n",
              "      <td>5</td>\n",
              "      <td>269.6</td>\n",
              "      <td>0.352</td>\n",
              "    </tr>\n",
              "    <tr>\n",
              "      <th>3</th>\n",
              "      <td>17.87</td>\n",
              "      <td>125.7</td>\n",
              "      <td>40.533829</td>\n",
              "      <td>-3.452071</td>\n",
              "      <td>655.1</td>\n",
              "      <td>6</td>\n",
              "      <td>5</td>\n",
              "      <td>269.6</td>\n",
              "      <td>0.000</td>\n",
              "    </tr>\n",
              "    <tr>\n",
              "      <th>4</th>\n",
              "      <td>18.88</td>\n",
              "      <td>124.7</td>\n",
              "      <td>40.533821</td>\n",
              "      <td>-3.452485</td>\n",
              "      <td>654.8</td>\n",
              "      <td>6</td>\n",
              "      <td>5</td>\n",
              "      <td>269.3</td>\n",
              "      <td>0.352</td>\n",
              "    </tr>\n",
              "  </tbody>\n",
              "</table>\n",
              "</div>\n",
              "      <button class=\"colab-df-convert\" onclick=\"convertToInteractive('df-cd7eae64-1f5e-4af2-b1ab-55d78e0fbcf7')\"\n",
              "              title=\"Convert this dataframe to an interactive table.\"\n",
              "              style=\"display:none;\">\n",
              "        \n",
              "  <svg xmlns=\"http://www.w3.org/2000/svg\" height=\"24px\"viewBox=\"0 0 24 24\"\n",
              "       width=\"24px\">\n",
              "    <path d=\"M0 0h24v24H0V0z\" fill=\"none\"/>\n",
              "    <path d=\"M18.56 5.44l.94 2.06.94-2.06 2.06-.94-2.06-.94-.94-2.06-.94 2.06-2.06.94zm-11 1L8.5 8.5l.94-2.06 2.06-.94-2.06-.94L8.5 2.5l-.94 2.06-2.06.94zm10 10l.94 2.06.94-2.06 2.06-.94-2.06-.94-.94-2.06-.94 2.06-2.06.94z\"/><path d=\"M17.41 7.96l-1.37-1.37c-.4-.4-.92-.59-1.43-.59-.52 0-1.04.2-1.43.59L10.3 9.45l-7.72 7.72c-.78.78-.78 2.05 0 2.83L4 21.41c.39.39.9.59 1.41.59.51 0 1.02-.2 1.41-.59l7.78-7.78 2.81-2.81c.8-.78.8-2.07 0-2.86zM5.41 20L4 18.59l7.72-7.72 1.47 1.35L5.41 20z\"/>\n",
              "  </svg>\n",
              "      </button>\n",
              "      \n",
              "  <style>\n",
              "    .colab-df-container {\n",
              "      display:flex;\n",
              "      flex-wrap:wrap;\n",
              "      gap: 12px;\n",
              "    }\n",
              "\n",
              "    .colab-df-convert {\n",
              "      background-color: #E8F0FE;\n",
              "      border: none;\n",
              "      border-radius: 50%;\n",
              "      cursor: pointer;\n",
              "      display: none;\n",
              "      fill: #1967D2;\n",
              "      height: 32px;\n",
              "      padding: 0 0 0 0;\n",
              "      width: 32px;\n",
              "    }\n",
              "\n",
              "    .colab-df-convert:hover {\n",
              "      background-color: #E2EBFA;\n",
              "      box-shadow: 0px 1px 2px rgba(60, 64, 67, 0.3), 0px 1px 3px 1px rgba(60, 64, 67, 0.15);\n",
              "      fill: #174EA6;\n",
              "    }\n",
              "\n",
              "    [theme=dark] .colab-df-convert {\n",
              "      background-color: #3B4455;\n",
              "      fill: #D2E3FC;\n",
              "    }\n",
              "\n",
              "    [theme=dark] .colab-df-convert:hover {\n",
              "      background-color: #434B5C;\n",
              "      box-shadow: 0px 1px 3px 1px rgba(0, 0, 0, 0.15);\n",
              "      filter: drop-shadow(0px 1px 2px rgba(0, 0, 0, 0.3));\n",
              "      fill: #FFFFFF;\n",
              "    }\n",
              "  </style>\n",
              "\n",
              "      <script>\n",
              "        const buttonEl =\n",
              "          document.querySelector('#df-cd7eae64-1f5e-4af2-b1ab-55d78e0fbcf7 button.colab-df-convert');\n",
              "        buttonEl.style.display =\n",
              "          google.colab.kernel.accessAllowed ? 'block' : 'none';\n",
              "\n",
              "        async function convertToInteractive(key) {\n",
              "          const element = document.querySelector('#df-cd7eae64-1f5e-4af2-b1ab-55d78e0fbcf7');\n",
              "          const dataTable =\n",
              "            await google.colab.kernel.invokeFunction('convertToInteractive',\n",
              "                                                     [key], {});\n",
              "          if (!dataTable) return;\n",
              "\n",
              "          const docLinkHtml = 'Like what you see? Visit the ' +\n",
              "            '<a target=\"_blank\" href=https://colab.research.google.com/notebooks/data_table.ipynb>data table notebook</a>'\n",
              "            + ' to learn more about interactive tables.';\n",
              "          element.innerHTML = '';\n",
              "          dataTable['output_type'] = 'display_data';\n",
              "          await google.colab.output.renderOutput(dataTable, element);\n",
              "          const docLink = document.createElement('div');\n",
              "          docLink.innerHTML = docLinkHtml;\n",
              "          element.appendChild(docLink);\n",
              "        }\n",
              "      </script>\n",
              "    </div>\n",
              "  </div>\n",
              "  "
            ],
            "text/plain": [
              "       0      1          2         3      4  5  6      7      8\n",
              "0  14.88  127.2  40.533833 -3.450816  657.2  6  5  270.0  0.352\n",
              "1  15.87  126.3  40.533829 -3.451236  656.6  6  5  269.6  0.352\n",
              "2  16.88  126.1  40.533829 -3.451651  655.9  6  5  269.6  0.352\n",
              "3  17.87  125.7  40.533829 -3.452071  655.1  6  5  269.6  0.000\n",
              "4  18.88  124.7  40.533821 -3.452485  654.8  6  5  269.3  0.352"
            ]
          },
          "metadata": {},
          "execution_count": 23
        }
      ]
    },
    {
      "cell_type": "code",
      "source": [
        "df_normal = [raw_gps_1d5, raw_gps_4d5, raw_gps_5d5]\n",
        "df_drowsy = [raw_gps_7d5, raw_gps_3d5]\n",
        "df_aggressive = [raw_gps_2d5, raw_gps_6d5]\n",
        "\n",
        "for df in df_normal:\n",
        "  df['Label'] = 1\n",
        "\n",
        "for df in df_drowsy:\n",
        "  df['Label'] = 0\n",
        "\n",
        "for df in df_aggressive:\n",
        "  df['Label'] = 2"
      ],
      "metadata": {
        "id": "Kh1AYMPYimoF"
      },
      "execution_count": null,
      "outputs": []
    },
    {
      "cell_type": "code",
      "source": [
        "frames = [raw_gps_1d5, raw_gps_2d5, raw_gps_3d5, raw_gps_4d5, raw_gps_5d5, raw_gps_6d5, raw_gps_7d5]\n",
        "test_df = pd.concat(frames)\n",
        "test_df.shape"
      ],
      "metadata": {
        "colab": {
          "base_uri": "https://localhost:8080/"
        },
        "id": "6rOUYfu3jbdy",
        "outputId": "3303ab53-e363-443b-cf72-108e118d5fca"
      },
      "execution_count": null,
      "outputs": [
        {
          "output_type": "execute_result",
          "data": {
            "text/plain": [
              "(5299, 10)"
            ]
          },
          "metadata": {},
          "execution_count": 25
        }
      ]
    },
    {
      "cell_type": "code",
      "source": [
        "test_df = test_df.sample(frac=1).reset_index(drop=True)"
      ],
      "metadata": {
        "id": "PojOCuE6kp4J"
      },
      "execution_count": null,
      "outputs": []
    },
    {
      "cell_type": "code",
      "source": [
        "test_df.columns =['Timestamp', 'Speed', 'Latitude', 'Longitude', 'Altitude', 'Vertical_accuracy', 'Horizontal_accuracy', 'Course', 'Difcourse','Label']\n",
        "test_df.tail()"
      ],
      "metadata": {
        "colab": {
          "base_uri": "https://localhost:8080/",
          "height": 206
        },
        "id": "P4f4BU5MlMgV",
        "outputId": "dd067283-d488-4f31-ce92-f5cd252170ff"
      },
      "execution_count": null,
      "outputs": [
        {
          "output_type": "execute_result",
          "data": {
            "text/html": [
              "\n",
              "  <div id=\"df-584d29f1-2684-4dfe-b513-442d88716fad\">\n",
              "    <div class=\"colab-df-container\">\n",
              "      <div>\n",
              "<style scoped>\n",
              "    .dataframe tbody tr th:only-of-type {\n",
              "        vertical-align: middle;\n",
              "    }\n",
              "\n",
              "    .dataframe tbody tr th {\n",
              "        vertical-align: top;\n",
              "    }\n",
              "\n",
              "    .dataframe thead th {\n",
              "        text-align: right;\n",
              "    }\n",
              "</style>\n",
              "<table border=\"1\" class=\"dataframe\">\n",
              "  <thead>\n",
              "    <tr style=\"text-align: right;\">\n",
              "      <th></th>\n",
              "      <th>Timestamp</th>\n",
              "      <th>Speed</th>\n",
              "      <th>Latitude</th>\n",
              "      <th>Longitude</th>\n",
              "      <th>Altitude</th>\n",
              "      <th>Vertical_accuracy</th>\n",
              "      <th>Horizontal_accuracy</th>\n",
              "      <th>Course</th>\n",
              "      <th>Difcourse</th>\n",
              "      <th>Label</th>\n",
              "    </tr>\n",
              "  </thead>\n",
              "  <tbody>\n",
              "    <tr>\n",
              "      <th>5294</th>\n",
              "      <td>564.30</td>\n",
              "      <td>114.0</td>\n",
              "      <td>40.466949</td>\n",
              "      <td>-3.462811</td>\n",
              "      <td>592.0</td>\n",
              "      <td>4</td>\n",
              "      <td>5</td>\n",
              "      <td>93.5</td>\n",
              "      <td>0.213</td>\n",
              "      <td>1</td>\n",
              "    </tr>\n",
              "    <tr>\n",
              "      <th>5295</th>\n",
              "      <td>74.68</td>\n",
              "      <td>88.7</td>\n",
              "      <td>40.577972</td>\n",
              "      <td>-3.540652</td>\n",
              "      <td>630.6</td>\n",
              "      <td>4</td>\n",
              "      <td>5</td>\n",
              "      <td>119.9</td>\n",
              "      <td>1.406</td>\n",
              "      <td>1</td>\n",
              "    </tr>\n",
              "    <tr>\n",
              "      <th>5296</th>\n",
              "      <td>482.31</td>\n",
              "      <td>59.4</td>\n",
              "      <td>40.463627</td>\n",
              "      <td>-3.487194</td>\n",
              "      <td>596.1</td>\n",
              "      <td>3</td>\n",
              "      <td>5</td>\n",
              "      <td>107.4</td>\n",
              "      <td>27.597</td>\n",
              "      <td>1</td>\n",
              "    </tr>\n",
              "    <tr>\n",
              "      <th>5297</th>\n",
              "      <td>743.26</td>\n",
              "      <td>83.5</td>\n",
              "      <td>40.468075</td>\n",
              "      <td>-3.438166</td>\n",
              "      <td>590.7</td>\n",
              "      <td>6</td>\n",
              "      <td>5</td>\n",
              "      <td>75.9</td>\n",
              "      <td>0.352</td>\n",
              "      <td>0</td>\n",
              "    </tr>\n",
              "    <tr>\n",
              "      <th>5298</th>\n",
              "      <td>333.67</td>\n",
              "      <td>103.1</td>\n",
              "      <td>40.467205</td>\n",
              "      <td>-3.468745</td>\n",
              "      <td>585.1</td>\n",
              "      <td>3</td>\n",
              "      <td>5</td>\n",
              "      <td>267.8</td>\n",
              "      <td>1.659</td>\n",
              "      <td>2</td>\n",
              "    </tr>\n",
              "  </tbody>\n",
              "</table>\n",
              "</div>\n",
              "      <button class=\"colab-df-convert\" onclick=\"convertToInteractive('df-584d29f1-2684-4dfe-b513-442d88716fad')\"\n",
              "              title=\"Convert this dataframe to an interactive table.\"\n",
              "              style=\"display:none;\">\n",
              "        \n",
              "  <svg xmlns=\"http://www.w3.org/2000/svg\" height=\"24px\"viewBox=\"0 0 24 24\"\n",
              "       width=\"24px\">\n",
              "    <path d=\"M0 0h24v24H0V0z\" fill=\"none\"/>\n",
              "    <path d=\"M18.56 5.44l.94 2.06.94-2.06 2.06-.94-2.06-.94-.94-2.06-.94 2.06-2.06.94zm-11 1L8.5 8.5l.94-2.06 2.06-.94-2.06-.94L8.5 2.5l-.94 2.06-2.06.94zm10 10l.94 2.06.94-2.06 2.06-.94-2.06-.94-.94-2.06-.94 2.06-2.06.94z\"/><path d=\"M17.41 7.96l-1.37-1.37c-.4-.4-.92-.59-1.43-.59-.52 0-1.04.2-1.43.59L10.3 9.45l-7.72 7.72c-.78.78-.78 2.05 0 2.83L4 21.41c.39.39.9.59 1.41.59.51 0 1.02-.2 1.41-.59l7.78-7.78 2.81-2.81c.8-.78.8-2.07 0-2.86zM5.41 20L4 18.59l7.72-7.72 1.47 1.35L5.41 20z\"/>\n",
              "  </svg>\n",
              "      </button>\n",
              "      \n",
              "  <style>\n",
              "    .colab-df-container {\n",
              "      display:flex;\n",
              "      flex-wrap:wrap;\n",
              "      gap: 12px;\n",
              "    }\n",
              "\n",
              "    .colab-df-convert {\n",
              "      background-color: #E8F0FE;\n",
              "      border: none;\n",
              "      border-radius: 50%;\n",
              "      cursor: pointer;\n",
              "      display: none;\n",
              "      fill: #1967D2;\n",
              "      height: 32px;\n",
              "      padding: 0 0 0 0;\n",
              "      width: 32px;\n",
              "    }\n",
              "\n",
              "    .colab-df-convert:hover {\n",
              "      background-color: #E2EBFA;\n",
              "      box-shadow: 0px 1px 2px rgba(60, 64, 67, 0.3), 0px 1px 3px 1px rgba(60, 64, 67, 0.15);\n",
              "      fill: #174EA6;\n",
              "    }\n",
              "\n",
              "    [theme=dark] .colab-df-convert {\n",
              "      background-color: #3B4455;\n",
              "      fill: #D2E3FC;\n",
              "    }\n",
              "\n",
              "    [theme=dark] .colab-df-convert:hover {\n",
              "      background-color: #434B5C;\n",
              "      box-shadow: 0px 1px 3px 1px rgba(0, 0, 0, 0.15);\n",
              "      filter: drop-shadow(0px 1px 2px rgba(0, 0, 0, 0.3));\n",
              "      fill: #FFFFFF;\n",
              "    }\n",
              "  </style>\n",
              "\n",
              "      <script>\n",
              "        const buttonEl =\n",
              "          document.querySelector('#df-584d29f1-2684-4dfe-b513-442d88716fad button.colab-df-convert');\n",
              "        buttonEl.style.display =\n",
              "          google.colab.kernel.accessAllowed ? 'block' : 'none';\n",
              "\n",
              "        async function convertToInteractive(key) {\n",
              "          const element = document.querySelector('#df-584d29f1-2684-4dfe-b513-442d88716fad');\n",
              "          const dataTable =\n",
              "            await google.colab.kernel.invokeFunction('convertToInteractive',\n",
              "                                                     [key], {});\n",
              "          if (!dataTable) return;\n",
              "\n",
              "          const docLinkHtml = 'Like what you see? Visit the ' +\n",
              "            '<a target=\"_blank\" href=https://colab.research.google.com/notebooks/data_table.ipynb>data table notebook</a>'\n",
              "            + ' to learn more about interactive tables.';\n",
              "          element.innerHTML = '';\n",
              "          dataTable['output_type'] = 'display_data';\n",
              "          await google.colab.output.renderOutput(dataTable, element);\n",
              "          const docLink = document.createElement('div');\n",
              "          docLink.innerHTML = docLinkHtml;\n",
              "          element.appendChild(docLink);\n",
              "        }\n",
              "      </script>\n",
              "    </div>\n",
              "  </div>\n",
              "  "
            ],
            "text/plain": [
              "      Timestamp  Speed   Latitude  ...  Course  Difcourse  Label\n",
              "5294     564.30  114.0  40.466949  ...    93.5      0.213      1\n",
              "5295      74.68   88.7  40.577972  ...   119.9      1.406      1\n",
              "5296     482.31   59.4  40.463627  ...   107.4     27.597      1\n",
              "5297     743.26   83.5  40.468075  ...    75.9      0.352      0\n",
              "5298     333.67  103.1  40.467205  ...   267.8      1.659      2\n",
              "\n",
              "[5 rows x 10 columns]"
            ]
          },
          "metadata": {},
          "execution_count": 27
        }
      ]
    },
    {
      "cell_type": "code",
      "source": [
        "test_df.drop(['Timestamp','Longitude','Latitude','Horizontal_accuracy','Vertical_accuracy','Difcourse'], axis=1, inplace=True)\n",
        "test_df.head()"
      ],
      "metadata": {
        "colab": {
          "base_uri": "https://localhost:8080/",
          "height": 206
        },
        "id": "ogIoKMIwlhjX",
        "outputId": "cc257b89-f060-4e35-f215-6c8873ba61bb"
      },
      "execution_count": null,
      "outputs": [
        {
          "output_type": "execute_result",
          "data": {
            "text/html": [
              "\n",
              "  <div id=\"df-5c99badd-bac3-46b0-b4b8-c8d289e70150\">\n",
              "    <div class=\"colab-df-container\">\n",
              "      <div>\n",
              "<style scoped>\n",
              "    .dataframe tbody tr th:only-of-type {\n",
              "        vertical-align: middle;\n",
              "    }\n",
              "\n",
              "    .dataframe tbody tr th {\n",
              "        vertical-align: top;\n",
              "    }\n",
              "\n",
              "    .dataframe thead th {\n",
              "        text-align: right;\n",
              "    }\n",
              "</style>\n",
              "<table border=\"1\" class=\"dataframe\">\n",
              "  <thead>\n",
              "    <tr style=\"text-align: right;\">\n",
              "      <th></th>\n",
              "      <th>Speed</th>\n",
              "      <th>Altitude</th>\n",
              "      <th>Course</th>\n",
              "      <th>Label</th>\n",
              "    </tr>\n",
              "  </thead>\n",
              "  <tbody>\n",
              "    <tr>\n",
              "      <th>0</th>\n",
              "      <td>83.4</td>\n",
              "      <td>711.9</td>\n",
              "      <td>142.7</td>\n",
              "      <td>0</td>\n",
              "    </tr>\n",
              "    <tr>\n",
              "      <th>1</th>\n",
              "      <td>87.3</td>\n",
              "      <td>740.9</td>\n",
              "      <td>72.4</td>\n",
              "      <td>1</td>\n",
              "    </tr>\n",
              "    <tr>\n",
              "      <th>2</th>\n",
              "      <td>88.8</td>\n",
              "      <td>588.6</td>\n",
              "      <td>262.3</td>\n",
              "      <td>0</td>\n",
              "    </tr>\n",
              "    <tr>\n",
              "      <th>3</th>\n",
              "      <td>79.3</td>\n",
              "      <td>727.1</td>\n",
              "      <td>295.3</td>\n",
              "      <td>1</td>\n",
              "    </tr>\n",
              "    <tr>\n",
              "      <th>4</th>\n",
              "      <td>84.8</td>\n",
              "      <td>600.6</td>\n",
              "      <td>54.0</td>\n",
              "      <td>0</td>\n",
              "    </tr>\n",
              "  </tbody>\n",
              "</table>\n",
              "</div>\n",
              "      <button class=\"colab-df-convert\" onclick=\"convertToInteractive('df-5c99badd-bac3-46b0-b4b8-c8d289e70150')\"\n",
              "              title=\"Convert this dataframe to an interactive table.\"\n",
              "              style=\"display:none;\">\n",
              "        \n",
              "  <svg xmlns=\"http://www.w3.org/2000/svg\" height=\"24px\"viewBox=\"0 0 24 24\"\n",
              "       width=\"24px\">\n",
              "    <path d=\"M0 0h24v24H0V0z\" fill=\"none\"/>\n",
              "    <path d=\"M18.56 5.44l.94 2.06.94-2.06 2.06-.94-2.06-.94-.94-2.06-.94 2.06-2.06.94zm-11 1L8.5 8.5l.94-2.06 2.06-.94-2.06-.94L8.5 2.5l-.94 2.06-2.06.94zm10 10l.94 2.06.94-2.06 2.06-.94-2.06-.94-.94-2.06-.94 2.06-2.06.94z\"/><path d=\"M17.41 7.96l-1.37-1.37c-.4-.4-.92-.59-1.43-.59-.52 0-1.04.2-1.43.59L10.3 9.45l-7.72 7.72c-.78.78-.78 2.05 0 2.83L4 21.41c.39.39.9.59 1.41.59.51 0 1.02-.2 1.41-.59l7.78-7.78 2.81-2.81c.8-.78.8-2.07 0-2.86zM5.41 20L4 18.59l7.72-7.72 1.47 1.35L5.41 20z\"/>\n",
              "  </svg>\n",
              "      </button>\n",
              "      \n",
              "  <style>\n",
              "    .colab-df-container {\n",
              "      display:flex;\n",
              "      flex-wrap:wrap;\n",
              "      gap: 12px;\n",
              "    }\n",
              "\n",
              "    .colab-df-convert {\n",
              "      background-color: #E8F0FE;\n",
              "      border: none;\n",
              "      border-radius: 50%;\n",
              "      cursor: pointer;\n",
              "      display: none;\n",
              "      fill: #1967D2;\n",
              "      height: 32px;\n",
              "      padding: 0 0 0 0;\n",
              "      width: 32px;\n",
              "    }\n",
              "\n",
              "    .colab-df-convert:hover {\n",
              "      background-color: #E2EBFA;\n",
              "      box-shadow: 0px 1px 2px rgba(60, 64, 67, 0.3), 0px 1px 3px 1px rgba(60, 64, 67, 0.15);\n",
              "      fill: #174EA6;\n",
              "    }\n",
              "\n",
              "    [theme=dark] .colab-df-convert {\n",
              "      background-color: #3B4455;\n",
              "      fill: #D2E3FC;\n",
              "    }\n",
              "\n",
              "    [theme=dark] .colab-df-convert:hover {\n",
              "      background-color: #434B5C;\n",
              "      box-shadow: 0px 1px 3px 1px rgba(0, 0, 0, 0.15);\n",
              "      filter: drop-shadow(0px 1px 2px rgba(0, 0, 0, 0.3));\n",
              "      fill: #FFFFFF;\n",
              "    }\n",
              "  </style>\n",
              "\n",
              "      <script>\n",
              "        const buttonEl =\n",
              "          document.querySelector('#df-5c99badd-bac3-46b0-b4b8-c8d289e70150 button.colab-df-convert');\n",
              "        buttonEl.style.display =\n",
              "          google.colab.kernel.accessAllowed ? 'block' : 'none';\n",
              "\n",
              "        async function convertToInteractive(key) {\n",
              "          const element = document.querySelector('#df-5c99badd-bac3-46b0-b4b8-c8d289e70150');\n",
              "          const dataTable =\n",
              "            await google.colab.kernel.invokeFunction('convertToInteractive',\n",
              "                                                     [key], {});\n",
              "          if (!dataTable) return;\n",
              "\n",
              "          const docLinkHtml = 'Like what you see? Visit the ' +\n",
              "            '<a target=\"_blank\" href=https://colab.research.google.com/notebooks/data_table.ipynb>data table notebook</a>'\n",
              "            + ' to learn more about interactive tables.';\n",
              "          element.innerHTML = '';\n",
              "          dataTable['output_type'] = 'display_data';\n",
              "          await google.colab.output.renderOutput(dataTable, element);\n",
              "          const docLink = document.createElement('div');\n",
              "          docLink.innerHTML = docLinkHtml;\n",
              "          element.appendChild(docLink);\n",
              "        }\n",
              "      </script>\n",
              "    </div>\n",
              "  </div>\n",
              "  "
            ],
            "text/plain": [
              "   Speed  Altitude  Course  Label\n",
              "0   83.4     711.9   142.7      0\n",
              "1   87.3     740.9    72.4      1\n",
              "2   88.8     588.6   262.3      0\n",
              "3   79.3     727.1   295.3      1\n",
              "4   84.8     600.6    54.0      0"
            ]
          },
          "metadata": {},
          "execution_count": 28
        }
      ]
    },
    {
      "cell_type": "code",
      "source": [
        "# one hot encoding skipped as there is NO categorical column in the feature list\n",
        "# normalization\n",
        "from sklearn import preprocessing\n",
        "\n",
        "scaler = preprocessing.StandardScaler()\n",
        "test_df[[\"ScaledSpeed\"]] = scaler.fit_transform(test_df[[\"Speed\"]])\n",
        "test_df[[\"ScaledAltitude\"]] = scaler.fit_transform(test_df[[\"Altitude\"]])\n",
        "test_df[[\"ScaledCourse\"]] = scaler.fit_transform(test_df[[\"Course\"]])\n",
        "\n",
        "test_df.drop(['Speed','Altitude','Course'], axis=1, inplace=True)"
      ],
      "metadata": {
        "id": "d22IJ4izl5xT"
      },
      "execution_count": null,
      "outputs": []
    },
    {
      "cell_type": "code",
      "source": [
        "num_col=['ScaledSpeed','ScaledAltitude','ScaledCourse']\n",
        "\n",
        "for col in num_col:\n",
        "    print(test_df[col],'\\n')"
      ],
      "metadata": {
        "colab": {
          "base_uri": "https://localhost:8080/"
        },
        "id": "RXfagqpKmRW5",
        "outputId": "8cc95940-c4e5-44f3-f5a8-c1e68df7ea7c"
      },
      "execution_count": null,
      "outputs": [
        {
          "output_type": "stream",
          "name": "stdout",
          "text": [
            "0      -0.580966\n",
            "1      -0.344493\n",
            "2      -0.253542\n",
            "3      -0.829566\n",
            "4      -0.496078\n",
            "          ...   \n",
            "5294    1.274437\n",
            "5295   -0.259605\n",
            "5296   -2.036184\n",
            "5297   -0.574903\n",
            "5298    0.613526\n",
            "Name: ScaledSpeed, Length: 5299, dtype: float64 \n",
            "\n",
            "0       1.849921\n",
            "1       2.482862\n",
            "2      -0.841167\n",
            "3       2.181670\n",
            "4      -0.579261\n",
            "          ...   \n",
            "5294   -0.766960\n",
            "5295    0.075505\n",
            "5296   -0.677475\n",
            "5297   -0.795333\n",
            "5298   -0.917556\n",
            "Name: ScaledAltitude, Length: 5299, dtype: float64 \n",
            "\n",
            "0      -0.367548\n",
            "1      -1.103141\n",
            "2       0.883903\n",
            "3       1.229203\n",
            "4      -1.295672\n",
            "          ...   \n",
            "5294   -0.882358\n",
            "5295   -0.606118\n",
            "5296   -0.736914\n",
            "5297   -1.066518\n",
            "5298    0.941453\n",
            "Name: ScaledCourse, Length: 5299, dtype: float64 \n",
            "\n"
          ]
        }
      ]
    },
    {
      "cell_type": "code",
      "source": [
        "# Model-1: Logistic Regression\n",
        "from sklearn.linear_model import LogisticRegression\n",
        "\n",
        "clf = LogisticRegression(random_state=0).fit(result.drop('Label', axis=1), result.Label)\n",
        "clf.score(test_df.drop('Label', axis=1),test_df.Label)"
      ],
      "metadata": {
        "colab": {
          "base_uri": "https://localhost:8080/"
        },
        "id": "QNp05euWhTRQ",
        "outputId": "969ee8da-72d9-4eb5-fdfc-178343181fc1"
      },
      "execution_count": null,
      "outputs": [
        {
          "output_type": "execute_result",
          "data": {
            "text/plain": [
              "0.5378373277976977"
            ]
          },
          "metadata": {},
          "execution_count": 31
        }
      ]
    },
    {
      "cell_type": "code",
      "source": [
        "# Model-2: SVM\n",
        "from sklearn.svm import LinearSVC\n",
        "from sklearn.preprocessing import StandardScaler\n",
        "from sklearn.pipeline import make_pipeline\n",
        "\n",
        "clf = make_pipeline(StandardScaler(), LinearSVC(random_state=0, tol=1e-5, max_iter=10000)).fit(result.drop('Label', axis=1), result.Label)\n",
        "clf.score(test_df.drop('Label', axis=1),test_df.Label)"
      ],
      "metadata": {
        "colab": {
          "base_uri": "https://localhost:8080/"
        },
        "id": "O6SBl-vZpaLq",
        "outputId": "498263f2-7c42-48ed-9ac4-13777ab95130"
      },
      "execution_count": null,
      "outputs": [
        {
          "output_type": "execute_result",
          "data": {
            "text/plain": [
              "0.5408567654274391"
            ]
          },
          "metadata": {},
          "execution_count": 32
        }
      ]
    },
    {
      "cell_type": "code",
      "source": [
        "# Model-3: Gaussian Naive Bayes\n",
        "from sklearn.naive_bayes import GaussianNB\n",
        "\n",
        "clf = GaussianNB().fit(result.drop('Label', axis=1), result.Label)\n",
        "clf.score(test_df.drop('Label', axis=1),test_df.Label)"
      ],
      "metadata": {
        "colab": {
          "base_uri": "https://localhost:8080/"
        },
        "id": "iOf98Bb45EDv",
        "outputId": "527f6f95-bad5-4f36-dacc-4fa5ad11a4ff"
      },
      "execution_count": null,
      "outputs": [
        {
          "output_type": "execute_result",
          "data": {
            "text/plain": [
              "0.543498773353463"
            ]
          },
          "metadata": {},
          "execution_count": 33
        }
      ]
    },
    {
      "cell_type": "code",
      "source": [
        "# Model-4: AdaBoost\n",
        "from sklearn.ensemble import AdaBoostClassifier\n",
        "\n",
        "clf = AdaBoostClassifier(n_estimators=150, random_state=0).fit(result.drop('Label', axis=1), result.Label)\n",
        "clf.score(test_df.drop('Label', axis=1),test_df.Label)"
      ],
      "metadata": {
        "colab": {
          "base_uri": "https://localhost:8080/"
        },
        "id": "svfe183A3itX",
        "outputId": "ecdb07cd-20f4-4c75-b9dd-925800475f75"
      },
      "execution_count": null,
      "outputs": [
        {
          "output_type": "execute_result",
          "data": {
            "text/plain": [
              "0.6197395735044348"
            ]
          },
          "metadata": {},
          "execution_count": 34
        }
      ]
    },
    {
      "cell_type": "code",
      "source": [
        "# Model-5: Random Forest\n",
        "from sklearn.ensemble import RandomForestClassifier\n",
        "\n",
        "clf = RandomForestClassifier(max_depth=8, random_state=0).fit(result.drop('Label', axis=1), result.Label)\n",
        "clf.score(test_df.drop('Label', axis=1),test_df.Label)"
      ],
      "metadata": {
        "colab": {
          "base_uri": "https://localhost:8080/"
        },
        "id": "ufvnm0eInjao",
        "outputId": "92022675-74a1-45c1-f66a-1ca04e2d0e16"
      },
      "execution_count": null,
      "outputs": [
        {
          "output_type": "execute_result",
          "data": {
            "text/plain": [
              "0.644461219097943"
            ]
          },
          "metadata": {},
          "execution_count": 35
        }
      ]
    },
    {
      "cell_type": "markdown",
      "source": [
        "# raw_acc data prediction"
      ],
      "metadata": {
        "id": "2_SUj1kwZK8D"
      }
    },
    {
      "cell_type": "code",
      "source": [
        "raw_acc_1d1 = pd.read_csv('/content/drive/MyDrive/UAH-DRIVESET-v1/D1/20151110175712-16km-D1-NORMAL1-SECONDARY/RAW_ACCELEROMETERS.txt',header=None,delimiter=\" \")\n",
        "raw_acc_2d1 = pd.read_csv('/content/drive/MyDrive/UAH-DRIVESET-v1/D1/20151110180824-16km-D1-NORMAL2-SECONDARY/RAW_ACCELEROMETERS.txt',header=None,delimiter=\" \")\n",
        "raw_acc_3d1 = pd.read_csv('/content/drive/MyDrive/UAH-DRIVESET-v1/D1/20151111123124-25km-D1-NORMAL-MOTORWAY/RAW_ACCELEROMETERS.txt',header=None,delimiter=\" \")\n",
        "raw_acc_4d1 = pd.read_csv('/content/drive/MyDrive/UAH-DRIVESET-v1/D1/20151111125233-24km-D1-AGGRESSIVE-MOTORWAY/RAW_ACCELEROMETERS.txt',header=None,delimiter=\" \")\n",
        "raw_acc_5d1 = pd.read_csv('/content/drive/MyDrive/UAH-DRIVESET-v1/D1/20151111132348-25km-D1-DROWSY-MOTORWAY/RAW_ACCELEROMETERS.txt',header=None,delimiter=\" \")\n",
        "raw_acc_6d1 = pd.read_csv('/content/drive/MyDrive/UAH-DRIVESET-v1/D1/20151111134545-16km-D1-AGGRESSIVE-SECONDARY/RAW_ACCELEROMETERS.txt',header=None,delimiter=\" \")\n",
        "raw_acc_7d1 = pd.read_csv('/content/drive/MyDrive/UAH-DRIVESET-v1/D1/20151111135612-13km-D1-DROWSY-SECONDARY/RAW_ACCELEROMETERS.txt',header=None,delimiter=\" \")"
      ],
      "metadata": {
        "id": "4xd0NI5DqEzN"
      },
      "execution_count": null,
      "outputs": []
    },
    {
      "cell_type": "code",
      "source": [
        "raw_acc_1d2 = pd.read_csv('/content/drive/MyDrive/UAH-DRIVESET-v1/D2/20151120131714-26km-D2-NORMAL-MOTORWAY/RAW_ACCELEROMETERS.txt',header=None,delimiter=\" \")\n",
        "raw_acc_2d2 = pd.read_csv('/content/drive/MyDrive/UAH-DRIVESET-v1/D2/20151120133502-26km-D2-AGGRESSIVE-MOTORWAY/RAW_ACCELEROMETERS.txt',header=None,delimiter=\" \")\n",
        "raw_acc_3d2 = pd.read_csv('/content/drive/MyDrive/UAH-DRIVESET-v1/D2/20151120135152-25km-D2-DROWSY-MOTORWAY/RAW_ACCELEROMETERS.txt',header=None,delimiter=\" \")\n",
        "raw_acc_4d2 = pd.read_csv('/content/drive/MyDrive/UAH-DRIVESET-v1/D2/20151120160904-16km-D2-NORMAL1-SECONDARY/RAW_ACCELEROMETERS.txt',header=None,delimiter=\" \")\n",
        "raw_acc_5d2 = pd.read_csv('/content/drive/MyDrive/UAH-DRIVESET-v1/D2/20151120162105-17km-D2-NORMAL2-SECONDARY/RAW_ACCELEROMETERS.txt',header=None,delimiter=\" \")\n",
        "raw_acc_6d2 = pd.read_csv('/content/drive/MyDrive/UAH-DRIVESET-v1/D2/20151120163350-16km-D2-AGGRESSIVE-SECONDARY/RAW_ACCELEROMETERS.txt',header=None,delimiter=\" \")\n",
        "raw_acc_7d2 = pd.read_csv('/content/drive/MyDrive/UAH-DRIVESET-v1/D2/20151120164606-16km-D2-DROWSY-SECONDARY/RAW_ACCELEROMETERS.txt',header=None,delimiter=\" \")"
      ],
      "metadata": {
        "id": "B1Hv00tc74Sq"
      },
      "execution_count": null,
      "outputs": []
    },
    {
      "cell_type": "code",
      "source": [
        "raw_acc_1d3 = pd.read_csv('/content/drive/MyDrive/UAH-DRIVESET-v1/D3/20151126110502-26km-D3-NORMAL-MOTORWAY/RAW_ACCELEROMETERS.txt',header=None,delimiter=\" \")\n",
        "raw_acc_2d3 = pd.read_csv('/content/drive/MyDrive/UAH-DRIVESET-v1/D3/20151126113754-26km-D3-DROWSY-MOTORWAY/RAW_ACCELEROMETERS.txt',header=None,delimiter=\" \")\n",
        "raw_acc_3d3 = pd.read_csv('/content/drive/MyDrive/UAH-DRIVESET-v1/D3/20151126124208-16km-D3-NORMAL1-SECONDARY/RAW_ACCELEROMETERS.txt',header=None,delimiter=\" \")\n",
        "raw_acc_4d3 = pd.read_csv('/content/drive/MyDrive/UAH-DRIVESET-v1/D3/20151126125458-16km-D3-NORMAL2-SECONDARY/RAW_ACCELEROMETERS.txt',header=None,delimiter=\" \")\n",
        "raw_acc_5d3 = pd.read_csv('/content/drive/MyDrive/UAH-DRIVESET-v1/D3/20151126130707-16km-D3-AGGRESSIVE-SECONDARY/RAW_ACCELEROMETERS.txt',header=None,delimiter=\" \")\n",
        "raw_acc_6d3 = pd.read_csv('/content/drive/MyDrive/UAH-DRIVESET-v1/D3/20151126132013-17km-D3-DROWSY-SECONDARY/RAW_ACCELEROMETERS.txt',header=None,delimiter=\" \")\n",
        "raw_acc_7d3 = pd.read_csv('/content/drive/MyDrive/UAH-DRIVESET-v1/D3/20151126134736-26km-D3-AGGRESSIVE-MOTORWAY/RAW_ACCELEROMETERS.txt',header=None,delimiter=\" \")"
      ],
      "metadata": {
        "id": "8IMsSqfS8Dq7"
      },
      "execution_count": null,
      "outputs": []
    },
    {
      "cell_type": "code",
      "source": [
        "raw_acc_1d4 = pd.read_csv('/content/drive/MyDrive/UAH-DRIVESET-v1/D4/20151203171800-16km-D4-NORMAL1-SECONDARY/RAW_ACCELEROMETERS.txt',header=None,delimiter=\" \")\n",
        "raw_acc_2d4 = pd.read_csv('/content/drive/MyDrive/UAH-DRIVESET-v1/D4/20151203173103-17km-D4-NORMAL2-SECONDARY/RAW_ACCELEROMETERS.txt',header=None,delimiter=\" \")\n",
        "raw_acc_3d4 = pd.read_csv('/content/drive/MyDrive/UAH-DRIVESET-v1/D4/20151203174324-16km-D4-AGGRESSIVE-SECONDARY/RAW_ACCELEROMETERS.txt',header=None,delimiter=\" \")\n",
        "raw_acc_4d4 = pd.read_csv('/content/drive/MyDrive/UAH-DRIVESET-v1/D4/20151203175637-17km-D4-DROWSY-SECONDARY/RAW_ACCELEROMETERS.txt',header=None,delimiter=\" \")\n",
        "raw_acc_5d4 = pd.read_csv('/content/drive/MyDrive/UAH-DRIVESET-v1/D4/20151204152848-25km-D4-NORMAL-MOTORWAY/RAW_ACCELEROMETERS.txt',header=None,delimiter=\" \")\n",
        "raw_acc_6d4 = pd.read_csv('/content/drive/MyDrive/UAH-DRIVESET-v1/D4/20151204154908-25km-D4-AGGRESSIVE-MOTORWAY/RAW_ACCELEROMETERS.txt',header=None,delimiter=\" \")\n",
        "raw_acc_7d4 = pd.read_csv('/content/drive/MyDrive/UAH-DRIVESET-v1/D4/20151204160823-25km-D4-DROWSY-MOTORWAY/RAW_ACCELEROMETERS.txt',header=None,delimiter=\" \")"
      ],
      "metadata": {
        "id": "_UITjRUQ8eYo"
      },
      "execution_count": null,
      "outputs": []
    },
    {
      "cell_type": "code",
      "source": [
        "raw_acc_1d6 = pd.read_csv('/content/drive/MyDrive/UAH-DRIVESET-v1/D6/20151217162714-26km-D6-NORMAL-MOTORWAY/RAW_ACCELEROMETERS.txt',header=None,delimiter=\" \")\n",
        "raw_acc_2d6 = pd.read_csv('/content/drive/MyDrive/UAH-DRIVESET-v1/D6/20151217164730-25km-D6-DROWSY-MOTORWAY/RAW_ACCELEROMETERS.txt',header=None,delimiter=\" \")\n",
        "raw_acc_3d6 = pd.read_csv('/content/drive/MyDrive/UAH-DRIVESET-v1/D6/20151221112434-17km-D6-NORMAL-SECONDARY/RAW_ACCELEROMETERS.txt',header=None,delimiter=\" \")\n",
        "raw_acc_4d6 = pd.read_csv('/content/drive/MyDrive/UAH-DRIVESET-v1/D6/20151221113846-16km-D6-DROWSY-SECONDARY/RAW_ACCELEROMETERS.txt',header=None,delimiter=\" \")\n",
        "raw_acc_5d6 = pd.read_csv('/content/drive/MyDrive/UAH-DRIVESET-v1/D6/20151221120051-26km-D6-AGGRESSIVE-MOTORWAY/RAW_ACCELEROMETERS.txt',header=None,delimiter=\" \")"
      ],
      "metadata": {
        "id": "bOUfqAex9IpB"
      },
      "execution_count": null,
      "outputs": []
    },
    {
      "cell_type": "code",
      "source": [
        "for i in range(1):\n",
        "  raw_acc_1d1.drop(11-i, axis=1, inplace=True)\n",
        "  raw_acc_2d1.drop(11-i, axis=1, inplace=True)\n",
        "  raw_acc_3d1.drop(11-i, axis=1, inplace=True)\n",
        "  raw_acc_4d1.drop(11-i, axis=1, inplace=True)\n",
        "  raw_acc_5d1.drop(11-i, axis=1, inplace=True)\n",
        "  raw_acc_6d1.drop(11-i, axis=1, inplace=True)\n",
        "  raw_acc_7d1.drop(11-i, axis=1, inplace=True)\n",
        "  raw_acc_1d2.drop(11-i, axis=1, inplace=True)\n",
        "  raw_acc_2d2.drop(11-i, axis=1, inplace=True)\n",
        "  raw_acc_3d2.drop(11-i, axis=1, inplace=True)\n",
        "  raw_acc_4d2.drop(11-i, axis=1, inplace=True)\n",
        "  raw_acc_5d2.drop(11-i, axis=1, inplace=True)\n",
        "  raw_acc_6d2.drop(11-i, axis=1, inplace=True)\n",
        "  raw_acc_7d2.drop(11-i, axis=1, inplace=True)\n",
        "  raw_acc_1d3.drop(11-i, axis=1, inplace=True)\n",
        "  raw_acc_2d3.drop(11-i, axis=1, inplace=True)\n",
        "  raw_acc_3d3.drop(11-i, axis=1, inplace=True)\n",
        "  raw_acc_4d3.drop(11-i, axis=1, inplace=True)\n",
        "  raw_acc_5d3.drop(11-i, axis=1, inplace=True)\n",
        "  raw_acc_6d3.drop(11-i, axis=1, inplace=True)\n",
        "  raw_acc_7d3.drop(11-i, axis=1, inplace=True)\n",
        "  raw_acc_1d4.drop(11-i, axis=1, inplace=True)\n",
        "  raw_acc_2d4.drop(11-i, axis=1, inplace=True)\n",
        "  raw_acc_3d4.drop(11-i, axis=1, inplace=True)\n",
        "  raw_acc_4d4.drop(11-i, axis=1, inplace=True)\n",
        "  raw_acc_5d4.drop(11-i, axis=1, inplace=True)\n",
        "  raw_acc_6d4.drop(11-i, axis=1, inplace=True)\n",
        "  raw_acc_7d4.drop(11-i, axis=1, inplace=True)\n",
        "  #raw_acc_1d6.drop(11-i, axis=1, inplace=True)\n",
        "  raw_acc_2d6.drop(11-i, axis=1, inplace=True)\n",
        "  raw_acc_3d6.drop(11-i, axis=1, inplace=True)\n",
        "  raw_acc_4d6.drop(11-i, axis=1, inplace=True)\n",
        "  raw_acc_5d6.drop(11-i, axis=1, inplace=True)\n",
        "raw_acc_6d3.head()"
      ],
      "metadata": {
        "colab": {
          "base_uri": "https://localhost:8080/",
          "height": 206
        },
        "id": "TQmkjizk94dn",
        "outputId": "f2ddb3dc-65af-48cc-fc32-a26a36f8104a"
      },
      "execution_count": null,
      "outputs": [
        {
          "output_type": "execute_result",
          "data": {
            "text/html": [
              "\n",
              "  <div id=\"df-c147e20d-2709-4f24-b2a0-99c7c78f27fd\">\n",
              "    <div class=\"colab-df-container\">\n",
              "      <div>\n",
              "<style scoped>\n",
              "    .dataframe tbody tr th:only-of-type {\n",
              "        vertical-align: middle;\n",
              "    }\n",
              "\n",
              "    .dataframe tbody tr th {\n",
              "        vertical-align: top;\n",
              "    }\n",
              "\n",
              "    .dataframe thead th {\n",
              "        text-align: right;\n",
              "    }\n",
              "</style>\n",
              "<table border=\"1\" class=\"dataframe\">\n",
              "  <thead>\n",
              "    <tr style=\"text-align: right;\">\n",
              "      <th></th>\n",
              "      <th>0</th>\n",
              "      <th>1</th>\n",
              "      <th>2</th>\n",
              "      <th>3</th>\n",
              "      <th>4</th>\n",
              "      <th>5</th>\n",
              "      <th>6</th>\n",
              "      <th>7</th>\n",
              "      <th>8</th>\n",
              "      <th>9</th>\n",
              "      <th>10</th>\n",
              "    </tr>\n",
              "  </thead>\n",
              "  <tbody>\n",
              "    <tr>\n",
              "      <th>0</th>\n",
              "      <td>0.97</td>\n",
              "      <td>0</td>\n",
              "      <td>-0.059</td>\n",
              "      <td>-0.042</td>\n",
              "      <td>0.070</td>\n",
              "      <td>-0.011</td>\n",
              "      <td>-0.007</td>\n",
              "      <td>0.012</td>\n",
              "      <td>-1.472</td>\n",
              "      <td>0.020</td>\n",
              "      <td>0.013</td>\n",
              "    </tr>\n",
              "    <tr>\n",
              "      <th>1</th>\n",
              "      <td>0.97</td>\n",
              "      <td>0</td>\n",
              "      <td>-0.106</td>\n",
              "      <td>-0.049</td>\n",
              "      <td>0.089</td>\n",
              "      <td>-0.059</td>\n",
              "      <td>-0.029</td>\n",
              "      <td>0.052</td>\n",
              "      <td>-1.636</td>\n",
              "      <td>0.023</td>\n",
              "      <td>0.015</td>\n",
              "    </tr>\n",
              "    <tr>\n",
              "      <th>2</th>\n",
              "      <td>0.97</td>\n",
              "      <td>0</td>\n",
              "      <td>-0.106</td>\n",
              "      <td>-0.049</td>\n",
              "      <td>0.089</td>\n",
              "      <td>-0.088</td>\n",
              "      <td>-0.041</td>\n",
              "      <td>0.075</td>\n",
              "      <td>-1.636</td>\n",
              "      <td>0.023</td>\n",
              "      <td>0.015</td>\n",
              "    </tr>\n",
              "    <tr>\n",
              "      <th>3</th>\n",
              "      <td>0.97</td>\n",
              "      <td>0</td>\n",
              "      <td>-0.106</td>\n",
              "      <td>-0.049</td>\n",
              "      <td>0.089</td>\n",
              "      <td>-0.099</td>\n",
              "      <td>-0.046</td>\n",
              "      <td>0.084</td>\n",
              "      <td>-1.636</td>\n",
              "      <td>0.023</td>\n",
              "      <td>0.015</td>\n",
              "    </tr>\n",
              "    <tr>\n",
              "      <th>4</th>\n",
              "      <td>0.97</td>\n",
              "      <td>0</td>\n",
              "      <td>-0.106</td>\n",
              "      <td>-0.049</td>\n",
              "      <td>0.089</td>\n",
              "      <td>-0.103</td>\n",
              "      <td>-0.048</td>\n",
              "      <td>0.087</td>\n",
              "      <td>-1.636</td>\n",
              "      <td>0.023</td>\n",
              "      <td>0.015</td>\n",
              "    </tr>\n",
              "  </tbody>\n",
              "</table>\n",
              "</div>\n",
              "      <button class=\"colab-df-convert\" onclick=\"convertToInteractive('df-c147e20d-2709-4f24-b2a0-99c7c78f27fd')\"\n",
              "              title=\"Convert this dataframe to an interactive table.\"\n",
              "              style=\"display:none;\">\n",
              "        \n",
              "  <svg xmlns=\"http://www.w3.org/2000/svg\" height=\"24px\"viewBox=\"0 0 24 24\"\n",
              "       width=\"24px\">\n",
              "    <path d=\"M0 0h24v24H0V0z\" fill=\"none\"/>\n",
              "    <path d=\"M18.56 5.44l.94 2.06.94-2.06 2.06-.94-2.06-.94-.94-2.06-.94 2.06-2.06.94zm-11 1L8.5 8.5l.94-2.06 2.06-.94-2.06-.94L8.5 2.5l-.94 2.06-2.06.94zm10 10l.94 2.06.94-2.06 2.06-.94-2.06-.94-.94-2.06-.94 2.06-2.06.94z\"/><path d=\"M17.41 7.96l-1.37-1.37c-.4-.4-.92-.59-1.43-.59-.52 0-1.04.2-1.43.59L10.3 9.45l-7.72 7.72c-.78.78-.78 2.05 0 2.83L4 21.41c.39.39.9.59 1.41.59.51 0 1.02-.2 1.41-.59l7.78-7.78 2.81-2.81c.8-.78.8-2.07 0-2.86zM5.41 20L4 18.59l7.72-7.72 1.47 1.35L5.41 20z\"/>\n",
              "  </svg>\n",
              "      </button>\n",
              "      \n",
              "  <style>\n",
              "    .colab-df-container {\n",
              "      display:flex;\n",
              "      flex-wrap:wrap;\n",
              "      gap: 12px;\n",
              "    }\n",
              "\n",
              "    .colab-df-convert {\n",
              "      background-color: #E8F0FE;\n",
              "      border: none;\n",
              "      border-radius: 50%;\n",
              "      cursor: pointer;\n",
              "      display: none;\n",
              "      fill: #1967D2;\n",
              "      height: 32px;\n",
              "      padding: 0 0 0 0;\n",
              "      width: 32px;\n",
              "    }\n",
              "\n",
              "    .colab-df-convert:hover {\n",
              "      background-color: #E2EBFA;\n",
              "      box-shadow: 0px 1px 2px rgba(60, 64, 67, 0.3), 0px 1px 3px 1px rgba(60, 64, 67, 0.15);\n",
              "      fill: #174EA6;\n",
              "    }\n",
              "\n",
              "    [theme=dark] .colab-df-convert {\n",
              "      background-color: #3B4455;\n",
              "      fill: #D2E3FC;\n",
              "    }\n",
              "\n",
              "    [theme=dark] .colab-df-convert:hover {\n",
              "      background-color: #434B5C;\n",
              "      box-shadow: 0px 1px 3px 1px rgba(0, 0, 0, 0.15);\n",
              "      filter: drop-shadow(0px 1px 2px rgba(0, 0, 0, 0.3));\n",
              "      fill: #FFFFFF;\n",
              "    }\n",
              "  </style>\n",
              "\n",
              "      <script>\n",
              "        const buttonEl =\n",
              "          document.querySelector('#df-c147e20d-2709-4f24-b2a0-99c7c78f27fd button.colab-df-convert');\n",
              "        buttonEl.style.display =\n",
              "          google.colab.kernel.accessAllowed ? 'block' : 'none';\n",
              "\n",
              "        async function convertToInteractive(key) {\n",
              "          const element = document.querySelector('#df-c147e20d-2709-4f24-b2a0-99c7c78f27fd');\n",
              "          const dataTable =\n",
              "            await google.colab.kernel.invokeFunction('convertToInteractive',\n",
              "                                                     [key], {});\n",
              "          if (!dataTable) return;\n",
              "\n",
              "          const docLinkHtml = 'Like what you see? Visit the ' +\n",
              "            '<a target=\"_blank\" href=https://colab.research.google.com/notebooks/data_table.ipynb>data table notebook</a>'\n",
              "            + ' to learn more about interactive tables.';\n",
              "          element.innerHTML = '';\n",
              "          dataTable['output_type'] = 'display_data';\n",
              "          await google.colab.output.renderOutput(dataTable, element);\n",
              "          const docLink = document.createElement('div');\n",
              "          docLink.innerHTML = docLinkHtml;\n",
              "          element.appendChild(docLink);\n",
              "        }\n",
              "      </script>\n",
              "    </div>\n",
              "  </div>\n",
              "  "
            ],
            "text/plain": [
              "     0   1      2      3      4      5      6      7      8      9      10\n",
              "0  0.97   0 -0.059 -0.042  0.070 -0.011 -0.007  0.012 -1.472  0.020  0.013\n",
              "1  0.97   0 -0.106 -0.049  0.089 -0.059 -0.029  0.052 -1.636  0.023  0.015\n",
              "2  0.97   0 -0.106 -0.049  0.089 -0.088 -0.041  0.075 -1.636  0.023  0.015\n",
              "3  0.97   0 -0.106 -0.049  0.089 -0.099 -0.046  0.084 -1.636  0.023  0.015\n",
              "4  0.97   0 -0.106 -0.049  0.089 -0.103 -0.048  0.087 -1.636  0.023  0.015"
            ]
          },
          "metadata": {},
          "execution_count": 43
        }
      ]
    },
    {
      "cell_type": "code",
      "source": [
        "df_normal = [raw_acc_1d1, raw_acc_2d1, raw_acc_3d1, raw_acc_1d2, raw_acc_4d2, raw_acc_5d2, raw_acc_1d3, raw_acc_3d3, raw_acc_4d3, raw_acc_1d4, raw_acc_2d4, raw_acc_5d4, raw_acc_1d6, raw_acc_3d6]\n",
        "df_drowsy = [raw_acc_5d1, raw_acc_7d1, raw_acc_3d2, raw_acc_7d2, raw_acc_2d3, raw_acc_6d3, raw_acc_4d4, raw_acc_7d4, raw_acc_2d6, raw_acc_4d6]\n",
        "df_aggressive = [raw_acc_4d1, raw_acc_6d1, raw_acc_2d2, raw_acc_6d2, raw_acc_5d3, raw_acc_7d3, raw_acc_3d4, raw_acc_6d4, raw_acc_5d6]\n",
        "\n",
        "for df in df_normal:\n",
        "  df['Label'] = 1\n",
        "\n",
        "for df in df_drowsy:\n",
        "  df['Label'] = 0\n",
        "\n",
        "for df in df_aggressive:\n",
        "  df['Label'] = 2"
      ],
      "metadata": {
        "id": "fewkiqE3--WH"
      },
      "execution_count": null,
      "outputs": []
    },
    {
      "cell_type": "code",
      "source": [
        "frames = [raw_acc_1d1, raw_acc_2d1, raw_acc_3d1, raw_acc_1d2, raw_acc_4d2, raw_acc_5d2, raw_acc_1d3, raw_acc_3d3, raw_acc_4d3, raw_acc_1d4, raw_acc_2d4, raw_acc_5d4, raw_acc_1d6, raw_acc_3d6, raw_acc_5d1, raw_acc_7d1, raw_acc_3d2, raw_acc_7d2, raw_acc_2d3, raw_acc_6d3, raw_acc_4d4, raw_acc_7d4, raw_acc_2d6, raw_acc_4d6, raw_acc_4d1, raw_acc_6d1, raw_acc_2d2, raw_acc_6d2, raw_acc_5d3, raw_acc_7d3, raw_acc_3d4, raw_acc_6d4, raw_acc_5d6]\n",
        "  \n",
        "result = pd.concat(frames)"
      ],
      "metadata": {
        "id": "-5TGrnra_rWC"
      },
      "execution_count": null,
      "outputs": []
    },
    {
      "cell_type": "code",
      "source": [
        "result.shape"
      ],
      "metadata": {
        "colab": {
          "base_uri": "https://localhost:8080/"
        },
        "id": "jWxdfrk_AfHF",
        "outputId": "5d4402d5-66bc-44de-fc0f-d039848c6f07"
      },
      "execution_count": null,
      "outputs": [
        {
          "output_type": "execute_result",
          "data": {
            "text/plain": [
              "(258254, 12)"
            ]
          },
          "metadata": {},
          "execution_count": 46
        }
      ]
    },
    {
      "cell_type": "code",
      "source": [
        "result = result.sample(frac=1).reset_index(drop=True)"
      ],
      "metadata": {
        "id": "F_wJr7R7AfNZ"
      },
      "execution_count": null,
      "outputs": []
    },
    {
      "cell_type": "code",
      "source": [
        "result.columns =['Timestamp', 'Sys_activated ', 'AccX', 'AccY', 'AccZ', 'KFX', 'KFY', 'KFZ', 'Roll', 'Pitch', 'Yaw', 'Label']\n",
        "result.tail()"
      ],
      "metadata": {
        "colab": {
          "base_uri": "https://localhost:8080/",
          "height": 206
        },
        "id": "z49cuD-vAfT6",
        "outputId": "64904ef9-7a11-4fd6-b217-60fce24df308"
      },
      "execution_count": null,
      "outputs": [
        {
          "output_type": "execute_result",
          "data": {
            "text/html": [
              "\n",
              "  <div id=\"df-e7d3fc2f-9108-4368-b4e9-ddf2cd75ed2e\">\n",
              "    <div class=\"colab-df-container\">\n",
              "      <div>\n",
              "<style scoped>\n",
              "    .dataframe tbody tr th:only-of-type {\n",
              "        vertical-align: middle;\n",
              "    }\n",
              "\n",
              "    .dataframe tbody tr th {\n",
              "        vertical-align: top;\n",
              "    }\n",
              "\n",
              "    .dataframe thead th {\n",
              "        text-align: right;\n",
              "    }\n",
              "</style>\n",
              "<table border=\"1\" class=\"dataframe\">\n",
              "  <thead>\n",
              "    <tr style=\"text-align: right;\">\n",
              "      <th></th>\n",
              "      <th>Timestamp</th>\n",
              "      <th>Sys_activated</th>\n",
              "      <th>AccX</th>\n",
              "      <th>AccY</th>\n",
              "      <th>AccZ</th>\n",
              "      <th>KFX</th>\n",
              "      <th>KFY</th>\n",
              "      <th>KFZ</th>\n",
              "      <th>Roll</th>\n",
              "      <th>Pitch</th>\n",
              "      <th>Yaw</th>\n",
              "      <th>Label</th>\n",
              "    </tr>\n",
              "  </thead>\n",
              "  <tbody>\n",
              "    <tr>\n",
              "      <th>258249</th>\n",
              "      <td>548.26</td>\n",
              "      <td>1</td>\n",
              "      <td>0.070</td>\n",
              "      <td>0.022</td>\n",
              "      <td>-0.015</td>\n",
              "      <td>0.027</td>\n",
              "      <td>0.017</td>\n",
              "      <td>-0.001</td>\n",
              "      <td>-1.559</td>\n",
              "      <td>-0.017</td>\n",
              "      <td>3.123</td>\n",
              "      <td>0</td>\n",
              "    </tr>\n",
              "    <tr>\n",
              "      <th>258250</th>\n",
              "      <td>181.00</td>\n",
              "      <td>1</td>\n",
              "      <td>-0.038</td>\n",
              "      <td>0.002</td>\n",
              "      <td>-0.005</td>\n",
              "      <td>-0.027</td>\n",
              "      <td>0.007</td>\n",
              "      <td>-0.012</td>\n",
              "      <td>-1.535</td>\n",
              "      <td>0.012</td>\n",
              "      <td>0.030</td>\n",
              "      <td>1</td>\n",
              "    </tr>\n",
              "    <tr>\n",
              "      <th>258251</th>\n",
              "      <td>690.67</td>\n",
              "      <td>1</td>\n",
              "      <td>0.053</td>\n",
              "      <td>0.017</td>\n",
              "      <td>0.028</td>\n",
              "      <td>0.031</td>\n",
              "      <td>0.004</td>\n",
              "      <td>0.028</td>\n",
              "      <td>-1.532</td>\n",
              "      <td>0.023</td>\n",
              "      <td>-0.530</td>\n",
              "      <td>1</td>\n",
              "    </tr>\n",
              "    <tr>\n",
              "      <th>258252</th>\n",
              "      <td>722.16</td>\n",
              "      <td>1</td>\n",
              "      <td>0.026</td>\n",
              "      <td>0.002</td>\n",
              "      <td>-0.035</td>\n",
              "      <td>0.033</td>\n",
              "      <td>-0.003</td>\n",
              "      <td>-0.029</td>\n",
              "      <td>-1.551</td>\n",
              "      <td>-0.016</td>\n",
              "      <td>2.284</td>\n",
              "      <td>1</td>\n",
              "    </tr>\n",
              "    <tr>\n",
              "      <th>258253</th>\n",
              "      <td>536.86</td>\n",
              "      <td>1</td>\n",
              "      <td>-0.025</td>\n",
              "      <td>-0.036</td>\n",
              "      <td>-0.022</td>\n",
              "      <td>-0.004</td>\n",
              "      <td>-0.047</td>\n",
              "      <td>-0.003</td>\n",
              "      <td>-1.551</td>\n",
              "      <td>-0.035</td>\n",
              "      <td>-2.437</td>\n",
              "      <td>2</td>\n",
              "    </tr>\n",
              "  </tbody>\n",
              "</table>\n",
              "</div>\n",
              "      <button class=\"colab-df-convert\" onclick=\"convertToInteractive('df-e7d3fc2f-9108-4368-b4e9-ddf2cd75ed2e')\"\n",
              "              title=\"Convert this dataframe to an interactive table.\"\n",
              "              style=\"display:none;\">\n",
              "        \n",
              "  <svg xmlns=\"http://www.w3.org/2000/svg\" height=\"24px\"viewBox=\"0 0 24 24\"\n",
              "       width=\"24px\">\n",
              "    <path d=\"M0 0h24v24H0V0z\" fill=\"none\"/>\n",
              "    <path d=\"M18.56 5.44l.94 2.06.94-2.06 2.06-.94-2.06-.94-.94-2.06-.94 2.06-2.06.94zm-11 1L8.5 8.5l.94-2.06 2.06-.94-2.06-.94L8.5 2.5l-.94 2.06-2.06.94zm10 10l.94 2.06.94-2.06 2.06-.94-2.06-.94-.94-2.06-.94 2.06-2.06.94z\"/><path d=\"M17.41 7.96l-1.37-1.37c-.4-.4-.92-.59-1.43-.59-.52 0-1.04.2-1.43.59L10.3 9.45l-7.72 7.72c-.78.78-.78 2.05 0 2.83L4 21.41c.39.39.9.59 1.41.59.51 0 1.02-.2 1.41-.59l7.78-7.78 2.81-2.81c.8-.78.8-2.07 0-2.86zM5.41 20L4 18.59l7.72-7.72 1.47 1.35L5.41 20z\"/>\n",
              "  </svg>\n",
              "      </button>\n",
              "      \n",
              "  <style>\n",
              "    .colab-df-container {\n",
              "      display:flex;\n",
              "      flex-wrap:wrap;\n",
              "      gap: 12px;\n",
              "    }\n",
              "\n",
              "    .colab-df-convert {\n",
              "      background-color: #E8F0FE;\n",
              "      border: none;\n",
              "      border-radius: 50%;\n",
              "      cursor: pointer;\n",
              "      display: none;\n",
              "      fill: #1967D2;\n",
              "      height: 32px;\n",
              "      padding: 0 0 0 0;\n",
              "      width: 32px;\n",
              "    }\n",
              "\n",
              "    .colab-df-convert:hover {\n",
              "      background-color: #E2EBFA;\n",
              "      box-shadow: 0px 1px 2px rgba(60, 64, 67, 0.3), 0px 1px 3px 1px rgba(60, 64, 67, 0.15);\n",
              "      fill: #174EA6;\n",
              "    }\n",
              "\n",
              "    [theme=dark] .colab-df-convert {\n",
              "      background-color: #3B4455;\n",
              "      fill: #D2E3FC;\n",
              "    }\n",
              "\n",
              "    [theme=dark] .colab-df-convert:hover {\n",
              "      background-color: #434B5C;\n",
              "      box-shadow: 0px 1px 3px 1px rgba(0, 0, 0, 0.15);\n",
              "      filter: drop-shadow(0px 1px 2px rgba(0, 0, 0, 0.3));\n",
              "      fill: #FFFFFF;\n",
              "    }\n",
              "  </style>\n",
              "\n",
              "      <script>\n",
              "        const buttonEl =\n",
              "          document.querySelector('#df-e7d3fc2f-9108-4368-b4e9-ddf2cd75ed2e button.colab-df-convert');\n",
              "        buttonEl.style.display =\n",
              "          google.colab.kernel.accessAllowed ? 'block' : 'none';\n",
              "\n",
              "        async function convertToInteractive(key) {\n",
              "          const element = document.querySelector('#df-e7d3fc2f-9108-4368-b4e9-ddf2cd75ed2e');\n",
              "          const dataTable =\n",
              "            await google.colab.kernel.invokeFunction('convertToInteractive',\n",
              "                                                     [key], {});\n",
              "          if (!dataTable) return;\n",
              "\n",
              "          const docLinkHtml = 'Like what you see? Visit the ' +\n",
              "            '<a target=\"_blank\" href=https://colab.research.google.com/notebooks/data_table.ipynb>data table notebook</a>'\n",
              "            + ' to learn more about interactive tables.';\n",
              "          element.innerHTML = '';\n",
              "          dataTable['output_type'] = 'display_data';\n",
              "          await google.colab.output.renderOutput(dataTable, element);\n",
              "          const docLink = document.createElement('div');\n",
              "          docLink.innerHTML = docLinkHtml;\n",
              "          element.appendChild(docLink);\n",
              "        }\n",
              "      </script>\n",
              "    </div>\n",
              "  </div>\n",
              "  "
            ],
            "text/plain": [
              "        Timestamp  Sys_activated    AccX   AccY  ...   Roll  Pitch    Yaw  Label\n",
              "258249     548.26               1  0.070  0.022  ... -1.559 -0.017  3.123      0\n",
              "258250     181.00               1 -0.038  0.002  ... -1.535  0.012  0.030      1\n",
              "258251     690.67               1  0.053  0.017  ... -1.532  0.023 -0.530      1\n",
              "258252     722.16               1  0.026  0.002  ... -1.551 -0.016  2.284      1\n",
              "258253     536.86               1 -0.025 -0.036  ... -1.551 -0.035 -2.437      2\n",
              "\n",
              "[5 rows x 12 columns]"
            ]
          },
          "metadata": {},
          "execution_count": 48
        }
      ]
    },
    {
      "cell_type": "code",
      "source": [
        "result.describe()"
      ],
      "metadata": {
        "colab": {
          "base_uri": "https://localhost:8080/",
          "height": 344
        },
        "id": "nBrCIjL-Ufhd",
        "outputId": "b00f0f2d-b110-4e10-e58f-4a5b8009d3d2"
      },
      "execution_count": null,
      "outputs": [
        {
          "output_type": "execute_result",
          "data": {
            "text/html": [
              "\n",
              "  <div id=\"df-bd036c4b-5b49-4a8c-bf6e-83249e24fdae\">\n",
              "    <div class=\"colab-df-container\">\n",
              "      <div>\n",
              "<style scoped>\n",
              "    .dataframe tbody tr th:only-of-type {\n",
              "        vertical-align: middle;\n",
              "    }\n",
              "\n",
              "    .dataframe tbody tr th {\n",
              "        vertical-align: top;\n",
              "    }\n",
              "\n",
              "    .dataframe thead th {\n",
              "        text-align: right;\n",
              "    }\n",
              "</style>\n",
              "<table border=\"1\" class=\"dataframe\">\n",
              "  <thead>\n",
              "    <tr style=\"text-align: right;\">\n",
              "      <th></th>\n",
              "      <th>Timestamp</th>\n",
              "      <th>Sys_activated</th>\n",
              "      <th>AccX</th>\n",
              "      <th>AccY</th>\n",
              "      <th>AccZ</th>\n",
              "      <th>KFX</th>\n",
              "      <th>KFY</th>\n",
              "      <th>KFZ</th>\n",
              "      <th>Roll</th>\n",
              "      <th>Pitch</th>\n",
              "      <th>Yaw</th>\n",
              "      <th>Label</th>\n",
              "    </tr>\n",
              "  </thead>\n",
              "  <tbody>\n",
              "    <tr>\n",
              "      <th>count</th>\n",
              "      <td>258254.000000</td>\n",
              "      <td>258254.000000</td>\n",
              "      <td>258254.000000</td>\n",
              "      <td>258254.000000</td>\n",
              "      <td>258254.000000</td>\n",
              "      <td>258254.000000</td>\n",
              "      <td>258254.000000</td>\n",
              "      <td>258254.000000</td>\n",
              "      <td>258254.000000</td>\n",
              "      <td>258254.000000</td>\n",
              "      <td>258254.000000</td>\n",
              "      <td>258254.000000</td>\n",
              "    </tr>\n",
              "    <tr>\n",
              "      <th>mean</th>\n",
              "      <td>414.344509</td>\n",
              "      <td>0.977944</td>\n",
              "      <td>-0.011991</td>\n",
              "      <td>-0.003423</td>\n",
              "      <td>-0.003601</td>\n",
              "      <td>-0.011984</td>\n",
              "      <td>-0.003425</td>\n",
              "      <td>-0.003596</td>\n",
              "      <td>-1.556599</td>\n",
              "      <td>-0.004087</td>\n",
              "      <td>-0.068799</td>\n",
              "      <td>0.943664</td>\n",
              "    </tr>\n",
              "    <tr>\n",
              "      <th>std</th>\n",
              "      <td>254.019778</td>\n",
              "      <td>0.146865</td>\n",
              "      <td>0.038631</td>\n",
              "      <td>0.048680</td>\n",
              "      <td>0.031838</td>\n",
              "      <td>0.025667</td>\n",
              "      <td>0.045606</td>\n",
              "      <td>0.028224</td>\n",
              "      <td>0.037397</td>\n",
              "      <td>0.054045</td>\n",
              "      <td>1.586900</td>\n",
              "      <td>0.758762</td>\n",
              "    </tr>\n",
              "    <tr>\n",
              "      <th>min</th>\n",
              "      <td>0.070000</td>\n",
              "      <td>0.000000</td>\n",
              "      <td>-0.454000</td>\n",
              "      <td>-0.601000</td>\n",
              "      <td>-0.659000</td>\n",
              "      <td>-0.263000</td>\n",
              "      <td>-0.564000</td>\n",
              "      <td>-0.572000</td>\n",
              "      <td>-1.795000</td>\n",
              "      <td>-0.392000</td>\n",
              "      <td>-3.141000</td>\n",
              "      <td>0.000000</td>\n",
              "    </tr>\n",
              "    <tr>\n",
              "      <th>25%</th>\n",
              "      <td>201.112500</td>\n",
              "      <td>1.000000</td>\n",
              "      <td>-0.033000</td>\n",
              "      <td>-0.018000</td>\n",
              "      <td>-0.018000</td>\n",
              "      <td>-0.026000</td>\n",
              "      <td>-0.015000</td>\n",
              "      <td>-0.015000</td>\n",
              "      <td>-1.578000</td>\n",
              "      <td>-0.023000</td>\n",
              "      <td>-1.009000</td>\n",
              "      <td>0.000000</td>\n",
              "    </tr>\n",
              "    <tr>\n",
              "      <th>50%</th>\n",
              "      <td>398.755000</td>\n",
              "      <td>1.000000</td>\n",
              "      <td>-0.012000</td>\n",
              "      <td>0.000000</td>\n",
              "      <td>-0.002000</td>\n",
              "      <td>-0.011000</td>\n",
              "      <td>-0.000000</td>\n",
              "      <td>-0.002000</td>\n",
              "      <td>-1.556000</td>\n",
              "      <td>-0.002000</td>\n",
              "      <td>-0.048000</td>\n",
              "      <td>1.000000</td>\n",
              "    </tr>\n",
              "    <tr>\n",
              "      <th>75%</th>\n",
              "      <td>601.400000</td>\n",
              "      <td>1.000000</td>\n",
              "      <td>0.010000</td>\n",
              "      <td>0.018000</td>\n",
              "      <td>0.013000</td>\n",
              "      <td>0.003000</td>\n",
              "      <td>0.015000</td>\n",
              "      <td>0.010000</td>\n",
              "      <td>-1.534000</td>\n",
              "      <td>0.018000</td>\n",
              "      <td>0.816000</td>\n",
              "      <td>2.000000</td>\n",
              "    </tr>\n",
              "    <tr>\n",
              "      <th>max</th>\n",
              "      <td>1077.630000</td>\n",
              "      <td>1.000000</td>\n",
              "      <td>0.539000</td>\n",
              "      <td>0.376000</td>\n",
              "      <td>0.248000</td>\n",
              "      <td>0.270000</td>\n",
              "      <td>0.352000</td>\n",
              "      <td>0.165000</td>\n",
              "      <td>-1.295000</td>\n",
              "      <td>0.352000</td>\n",
              "      <td>3.141000</td>\n",
              "      <td>2.000000</td>\n",
              "    </tr>\n",
              "  </tbody>\n",
              "</table>\n",
              "</div>\n",
              "      <button class=\"colab-df-convert\" onclick=\"convertToInteractive('df-bd036c4b-5b49-4a8c-bf6e-83249e24fdae')\"\n",
              "              title=\"Convert this dataframe to an interactive table.\"\n",
              "              style=\"display:none;\">\n",
              "        \n",
              "  <svg xmlns=\"http://www.w3.org/2000/svg\" height=\"24px\"viewBox=\"0 0 24 24\"\n",
              "       width=\"24px\">\n",
              "    <path d=\"M0 0h24v24H0V0z\" fill=\"none\"/>\n",
              "    <path d=\"M18.56 5.44l.94 2.06.94-2.06 2.06-.94-2.06-.94-.94-2.06-.94 2.06-2.06.94zm-11 1L8.5 8.5l.94-2.06 2.06-.94-2.06-.94L8.5 2.5l-.94 2.06-2.06.94zm10 10l.94 2.06.94-2.06 2.06-.94-2.06-.94-.94-2.06-.94 2.06-2.06.94z\"/><path d=\"M17.41 7.96l-1.37-1.37c-.4-.4-.92-.59-1.43-.59-.52 0-1.04.2-1.43.59L10.3 9.45l-7.72 7.72c-.78.78-.78 2.05 0 2.83L4 21.41c.39.39.9.59 1.41.59.51 0 1.02-.2 1.41-.59l7.78-7.78 2.81-2.81c.8-.78.8-2.07 0-2.86zM5.41 20L4 18.59l7.72-7.72 1.47 1.35L5.41 20z\"/>\n",
              "  </svg>\n",
              "      </button>\n",
              "      \n",
              "  <style>\n",
              "    .colab-df-container {\n",
              "      display:flex;\n",
              "      flex-wrap:wrap;\n",
              "      gap: 12px;\n",
              "    }\n",
              "\n",
              "    .colab-df-convert {\n",
              "      background-color: #E8F0FE;\n",
              "      border: none;\n",
              "      border-radius: 50%;\n",
              "      cursor: pointer;\n",
              "      display: none;\n",
              "      fill: #1967D2;\n",
              "      height: 32px;\n",
              "      padding: 0 0 0 0;\n",
              "      width: 32px;\n",
              "    }\n",
              "\n",
              "    .colab-df-convert:hover {\n",
              "      background-color: #E2EBFA;\n",
              "      box-shadow: 0px 1px 2px rgba(60, 64, 67, 0.3), 0px 1px 3px 1px rgba(60, 64, 67, 0.15);\n",
              "      fill: #174EA6;\n",
              "    }\n",
              "\n",
              "    [theme=dark] .colab-df-convert {\n",
              "      background-color: #3B4455;\n",
              "      fill: #D2E3FC;\n",
              "    }\n",
              "\n",
              "    [theme=dark] .colab-df-convert:hover {\n",
              "      background-color: #434B5C;\n",
              "      box-shadow: 0px 1px 3px 1px rgba(0, 0, 0, 0.15);\n",
              "      filter: drop-shadow(0px 1px 2px rgba(0, 0, 0, 0.3));\n",
              "      fill: #FFFFFF;\n",
              "    }\n",
              "  </style>\n",
              "\n",
              "      <script>\n",
              "        const buttonEl =\n",
              "          document.querySelector('#df-bd036c4b-5b49-4a8c-bf6e-83249e24fdae button.colab-df-convert');\n",
              "        buttonEl.style.display =\n",
              "          google.colab.kernel.accessAllowed ? 'block' : 'none';\n",
              "\n",
              "        async function convertToInteractive(key) {\n",
              "          const element = document.querySelector('#df-bd036c4b-5b49-4a8c-bf6e-83249e24fdae');\n",
              "          const dataTable =\n",
              "            await google.colab.kernel.invokeFunction('convertToInteractive',\n",
              "                                                     [key], {});\n",
              "          if (!dataTable) return;\n",
              "\n",
              "          const docLinkHtml = 'Like what you see? Visit the ' +\n",
              "            '<a target=\"_blank\" href=https://colab.research.google.com/notebooks/data_table.ipynb>data table notebook</a>'\n",
              "            + ' to learn more about interactive tables.';\n",
              "          element.innerHTML = '';\n",
              "          dataTable['output_type'] = 'display_data';\n",
              "          await google.colab.output.renderOutput(dataTable, element);\n",
              "          const docLink = document.createElement('div');\n",
              "          docLink.innerHTML = docLinkHtml;\n",
              "          element.appendChild(docLink);\n",
              "        }\n",
              "      </script>\n",
              "    </div>\n",
              "  </div>\n",
              "  "
            ],
            "text/plain": [
              "           Timestamp  Sys_activated   ...            Yaw          Label\n",
              "count  258254.000000   258254.000000  ...  258254.000000  258254.000000\n",
              "mean      414.344509        0.977944  ...      -0.068799       0.943664\n",
              "std       254.019778        0.146865  ...       1.586900       0.758762\n",
              "min         0.070000        0.000000  ...      -3.141000       0.000000\n",
              "25%       201.112500        1.000000  ...      -1.009000       0.000000\n",
              "50%       398.755000        1.000000  ...      -0.048000       1.000000\n",
              "75%       601.400000        1.000000  ...       0.816000       2.000000\n",
              "max      1077.630000        1.000000  ...       3.141000       2.000000\n",
              "\n",
              "[8 rows x 12 columns]"
            ]
          },
          "metadata": {},
          "execution_count": 49
        }
      ]
    },
    {
      "cell_type": "code",
      "source": [
        " for col in result.columns:\n",
        "  result.boxplot(column = col)         # box plot to observe the distribution of values in different columns\n",
        "  plt.show()"
      ],
      "metadata": {
        "colab": {
          "base_uri": "https://localhost:8080/",
          "height": 1000
        },
        "id": "tuOw213xAfaG",
        "outputId": "630ba6be-b235-414a-b508-21e44e0a92e9"
      },
      "execution_count": null,
      "outputs": [
        {
          "output_type": "display_data",
          "data": {
            "image/png": "[encoded data removed]",
            "text/plain": [
              "<Figure size 432x288 with 1 Axes>"
            ]
          },
          "metadata": {}
        },
        {
          "output_type": "display_data",
          "data": {
            "image/png": "[encoded data removed]",
            "text/plain": [
              "<Figure size 432x288 with 1 Axes>"
            ]
          },
          "metadata": {}
        },
        {
          "output_type": "display_data",
          "data": {
            "image/png": "[encoded data removed]",
            "text/plain": [
              "<Figure size 432x288 with 1 Axes>"
            ]
          },
          "metadata": {}
        },
        {
          "output_type": "display_data",
          "data": {
            "image/png": "[encoded data removed]",
            "text/plain": [
              "<Figure size 432x288 with 1 Axes>"
            ]
          },
          "metadata": {}
        },
        {
          "output_type": "display_data",
          "data": {
            "image/png": "[encoded data removed]",
            "text/plain": [
              "<Figure size 432x288 with 1 Axes>"
            ]
          },
          "metadata": {}
        },
        {
          "output_type": "display_data",
          "data": {
            "image/png": "[encoded data removed]",
            "text/plain": [
              "<Figure size 432x288 with 1 Axes>"
            ]
          },
          "metadata": {}
        },
        {
          "output_type": "display_data",
          "data": {
            "image/png": "[encoded data removed]",
            "text/plain": [
              "<Figure size 432x288 with 1 Axes>"
            ]
          },
          "metadata": {}
        },
        {
          "output_type": "display_data",
          "data": {
            "image/png": "[encoded data removed]",
            "text/plain": [
              "<Figure size 432x288 with 1 Axes>"
            ]
          },
          "metadata": {}
        },
        {
          "output_type": "display_data",
          "data": {
            "image/png": "[encoded data removed]",
            "text/plain": [
              "<Figure size 432x288 with 1 Axes>"
            ]
          },
          "metadata": {}
        },
        {
          "output_type": "display_data",
          "data": {
            "image/png": "[encoded data removed]",
            "text/plain": [
              "<Figure size 432x288 with 1 Axes>"
            ]
          },
          "metadata": {}
        },
        {
          "output_type": "display_data",
          "data": {
            "image/png": "[encoded data removed]",
            "text/plain": [
              "<Figure size 432x288 with 1 Axes>"
            ]
          },
          "metadata": {}
        },
        {
          "output_type": "display_data",
          "data": {
            "image/png": "[encoded data removed]",
            "text/plain": [
              "<Figure size 432x288 with 1 Axes>"
            ]
          },
          "metadata": {}
        }
      ]
    },
    {
      "cell_type": "code",
      "source": [
        "import seaborn as sns \n",
        "\n",
        "fig, ax = plt.subplots(figsize=(10,8)) \n",
        "sns.heatmap(result.corr(), annot=True, linewidths=.5, ax=ax) "
      ],
      "metadata": {
        "colab": {
          "base_uri": "https://localhost:8080/",
          "height": 566
        },
        "id": "oGbbTAPFAfiG",
        "outputId": "9b3f38ab-3470-4b8c-8b6d-81d50416ee8d"
      },
      "execution_count": null,
      "outputs": [
        {
          "output_type": "execute_result",
          "data": {
            "text/plain": [
              "<matplotlib.axes._subplots.AxesSubplot at 0x7f98ea413510>"
            ]
          },
          "metadata": {},
          "execution_count": 51
        },
        {
          "output_type": "display_data",
          "data": {
            "image/png": "[encoded data removed]",
            "text/plain": [
              "<Figure size 720x576 with 2 Axes>"
            ]
          },
          "metadata": {}
        }
      ]
    },
    {
      "cell_type": "code",
      "source": [
        "sns.set_style(\"whitegrid\")\n",
        "\n",
        "features = ['Timestamp','KFX','KFY','KFZ','Pitch','Yaw']\n",
        "\n",
        "for col in features:\n",
        "  sns.boxplot('Label', col, data=result) # discrete column = 'Label'\n",
        "  plt.xlabel('Label')     # Set text for the x axis\n",
        "  plt.ylabel(col)   # Set text for y axis\n",
        "  plt.show()"
      ],
      "metadata": {
        "id": "5sBe-AZEAfoQ",
        "colab": {
          "base_uri": "https://localhost:8080/",
          "height": 1000
        },
        "outputId": "209053a9-bca6-4e63-9339-1217b8d467e9"
      },
      "execution_count": null,
      "outputs": [
        {
          "output_type": "stream",
          "name": "stderr",
          "text": [
            "/usr/local/lib/python3.7/dist-packages/seaborn/_decorators.py:43: FutureWarning: Pass the following variables as keyword args: x, y. From version 0.12, the only valid positional argument will be `data`, and passing other arguments without an explicit keyword will result in an error or misinterpretation.\n",
            "  FutureWarning\n"
          ]
        },
        {
          "output_type": "display_data",
          "data": {
            "image/png": "[encoded data removed]",
            "text/plain": [
              "<Figure size 432x288 with 1 Axes>"
            ]
          },
          "metadata": {}
        },
        {
          "output_type": "stream",
          "name": "stderr",
          "text": [
            "/usr/local/lib/python3.7/dist-packages/seaborn/_decorators.py:43: FutureWarning: Pass the following variables as keyword args: x, y. From version 0.12, the only valid positional argument will be `data`, and passing other arguments without an explicit keyword will result in an error or misinterpretation.\n",
            "  FutureWarning\n"
          ]
        },
        {
          "output_type": "display_data",
          "data": {
            "image/png": "[encoded data removed]",
            "text/plain": [
              "<Figure size 432x288 with 1 Axes>"
            ]
          },
          "metadata": {}
        },
        {
          "output_type": "stream",
          "name": "stderr",
          "text": [
            "/usr/local/lib/python3.7/dist-packages/seaborn/_decorators.py:43: FutureWarning: Pass the following variables as keyword args: x, y. From version 0.12, the only valid positional argument will be `data`, and passing other arguments without an explicit keyword will result in an error or misinterpretation.\n",
            "  FutureWarning\n"
          ]
        },
        {
          "output_type": "display_data",
          "data": {
            "image/png": "[encoded data removed]",
            "text/plain": [
              "<Figure size 432x288 with 1 Axes>"
            ]
          },
          "metadata": {}
        },
        {
          "output_type": "stream",
          "name": "stderr",
          "text": [
            "/usr/local/lib/python3.7/dist-packages/seaborn/_decorators.py:43: FutureWarning: Pass the following variables as keyword args: x, y. From version 0.12, the only valid positional argument will be `data`, and passing other arguments without an explicit keyword will result in an error or misinterpretation.\n",
            "  FutureWarning\n"
          ]
        },
        {
          "output_type": "display_data",
          "data": {
            "image/png": "[encoded data removed]",
            "text/plain": [
              "<Figure size 432x288 with 1 Axes>"
            ]
          },
          "metadata": {}
        },
        {
          "output_type": "stream",
          "name": "stderr",
          "text": [
            "/usr/local/lib/python3.7/dist-packages/seaborn/_decorators.py:43: FutureWarning: Pass the following variables as keyword args: x, y. From version 0.12, the only valid positional argument will be `data`, and passing other arguments without an explicit keyword will result in an error or misinterpretation.\n",
            "  FutureWarning\n"
          ]
        },
        {
          "output_type": "display_data",
          "data": {
            "image/png": "[encoded data removed]",
            "text/plain": [
              "<Figure size 432x288 with 1 Axes>"
            ]
          },
          "metadata": {}
        },
        {
          "output_type": "stream",
          "name": "stderr",
          "text": [
            "/usr/local/lib/python3.7/dist-packages/seaborn/_decorators.py:43: FutureWarning: Pass the following variables as keyword args: x, y. From version 0.12, the only valid positional argument will be `data`, and passing other arguments without an explicit keyword will result in an error or misinterpretation.\n",
            "  FutureWarning\n"
          ]
        },
        {
          "output_type": "display_data",
          "data": {
            "image/png": "[encoded data removed]",
            "text/plain": [
              "<Figure size 432x288 with 1 Axes>"
            ]
          },
          "metadata": {}
        }
      ]
    },
    {
      "cell_type": "markdown",
      "source": [
        "The reasoning for dropping columns is based on two things: columns having low correlation values\twith 'Label' are discarded and out of two closely correlated columns, one is discarded from the feature list."
      ],
      "metadata": {
        "id": "o8Sx5P-uXWqj"
      }
    },
    {
      "cell_type": "code",
      "source": [
        "result.drop(['AccX','Sys_activated ','AccY','AccZ','Roll','Pitch','Timestamp'], axis=1, inplace=True)\n",
        "result.head()"
      ],
      "metadata": {
        "id": "6sT71adUAftz",
        "colab": {
          "base_uri": "https://localhost:8080/",
          "height": 206
        },
        "outputId": "f1e373ca-f35b-4dda-e668-6b82d00834cb"
      },
      "execution_count": null,
      "outputs": [
        {
          "output_type": "execute_result",
          "data": {
            "text/html": [
              "\n",
              "  <div id=\"df-dc6e0a6b-8800-441a-ab64-bb4992617197\">\n",
              "    <div class=\"colab-df-container\">\n",
              "      <div>\n",
              "<style scoped>\n",
              "    .dataframe tbody tr th:only-of-type {\n",
              "        vertical-align: middle;\n",
              "    }\n",
              "\n",
              "    .dataframe tbody tr th {\n",
              "        vertical-align: top;\n",
              "    }\n",
              "\n",
              "    .dataframe thead th {\n",
              "        text-align: right;\n",
              "    }\n",
              "</style>\n",
              "<table border=\"1\" class=\"dataframe\">\n",
              "  <thead>\n",
              "    <tr style=\"text-align: right;\">\n",
              "      <th></th>\n",
              "      <th>KFX</th>\n",
              "      <th>KFY</th>\n",
              "      <th>KFZ</th>\n",
              "      <th>Yaw</th>\n",
              "      <th>Label</th>\n",
              "    </tr>\n",
              "  </thead>\n",
              "  <tbody>\n",
              "    <tr>\n",
              "      <th>0</th>\n",
              "      <td>0.030</td>\n",
              "      <td>-0.023</td>\n",
              "      <td>0.009</td>\n",
              "      <td>2.894</td>\n",
              "      <td>1</td>\n",
              "    </tr>\n",
              "    <tr>\n",
              "      <th>1</th>\n",
              "      <td>-0.012</td>\n",
              "      <td>0.038</td>\n",
              "      <td>0.030</td>\n",
              "      <td>1.703</td>\n",
              "      <td>1</td>\n",
              "    </tr>\n",
              "    <tr>\n",
              "      <th>2</th>\n",
              "      <td>-0.026</td>\n",
              "      <td>-0.018</td>\n",
              "      <td>-0.022</td>\n",
              "      <td>0.450</td>\n",
              "      <td>1</td>\n",
              "    </tr>\n",
              "    <tr>\n",
              "      <th>3</th>\n",
              "      <td>-0.007</td>\n",
              "      <td>-0.019</td>\n",
              "      <td>0.019</td>\n",
              "      <td>-1.839</td>\n",
              "      <td>1</td>\n",
              "    </tr>\n",
              "    <tr>\n",
              "      <th>4</th>\n",
              "      <td>-0.034</td>\n",
              "      <td>-0.018</td>\n",
              "      <td>0.004</td>\n",
              "      <td>0.274</td>\n",
              "      <td>0</td>\n",
              "    </tr>\n",
              "  </tbody>\n",
              "</table>\n",
              "</div>\n",
              "      <button class=\"colab-df-convert\" onclick=\"convertToInteractive('df-dc6e0a6b-8800-441a-ab64-bb4992617197')\"\n",
              "              title=\"Convert this dataframe to an interactive table.\"\n",
              "              style=\"display:none;\">\n",
              "        \n",
              "  <svg xmlns=\"http://www.w3.org/2000/svg\" height=\"24px\"viewBox=\"0 0 24 24\"\n",
              "       width=\"24px\">\n",
              "    <path d=\"M0 0h24v24H0V0z\" fill=\"none\"/>\n",
              "    <path d=\"M18.56 5.44l.94 2.06.94-2.06 2.06-.94-2.06-.94-.94-2.06-.94 2.06-2.06.94zm-11 1L8.5 8.5l.94-2.06 2.06-.94-2.06-.94L8.5 2.5l-.94 2.06-2.06.94zm10 10l.94 2.06.94-2.06 2.06-.94-2.06-.94-.94-2.06-.94 2.06-2.06.94z\"/><path d=\"M17.41 7.96l-1.37-1.37c-.4-.4-.92-.59-1.43-.59-.52 0-1.04.2-1.43.59L10.3 9.45l-7.72 7.72c-.78.78-.78 2.05 0 2.83L4 21.41c.39.39.9.59 1.41.59.51 0 1.02-.2 1.41-.59l7.78-7.78 2.81-2.81c.8-.78.8-2.07 0-2.86zM5.41 20L4 18.59l7.72-7.72 1.47 1.35L5.41 20z\"/>\n",
              "  </svg>\n",
              "      </button>\n",
              "      \n",
              "  <style>\n",
              "    .colab-df-container {\n",
              "      display:flex;\n",
              "      flex-wrap:wrap;\n",
              "      gap: 12px;\n",
              "    }\n",
              "\n",
              "    .colab-df-convert {\n",
              "      background-color: #E8F0FE;\n",
              "      border: none;\n",
              "      border-radius: 50%;\n",
              "      cursor: pointer;\n",
              "      display: none;\n",
              "      fill: #1967D2;\n",
              "      height: 32px;\n",
              "      padding: 0 0 0 0;\n",
              "      width: 32px;\n",
              "    }\n",
              "\n",
              "    .colab-df-convert:hover {\n",
              "      background-color: #E2EBFA;\n",
              "      box-shadow: 0px 1px 2px rgba(60, 64, 67, 0.3), 0px 1px 3px 1px rgba(60, 64, 67, 0.15);\n",
              "      fill: #174EA6;\n",
              "    }\n",
              "\n",
              "    [theme=dark] .colab-df-convert {\n",
              "      background-color: #3B4455;\n",
              "      fill: #D2E3FC;\n",
              "    }\n",
              "\n",
              "    [theme=dark] .colab-df-convert:hover {\n",
              "      background-color: #434B5C;\n",
              "      box-shadow: 0px 1px 3px 1px rgba(0, 0, 0, 0.15);\n",
              "      filter: drop-shadow(0px 1px 2px rgba(0, 0, 0, 0.3));\n",
              "      fill: #FFFFFF;\n",
              "    }\n",
              "  </style>\n",
              "\n",
              "      <script>\n",
              "        const buttonEl =\n",
              "          document.querySelector('#df-dc6e0a6b-8800-441a-ab64-bb4992617197 button.colab-df-convert');\n",
              "        buttonEl.style.display =\n",
              "          google.colab.kernel.accessAllowed ? 'block' : 'none';\n",
              "\n",
              "        async function convertToInteractive(key) {\n",
              "          const element = document.querySelector('#df-dc6e0a6b-8800-441a-ab64-bb4992617197');\n",
              "          const dataTable =\n",
              "            await google.colab.kernel.invokeFunction('convertToInteractive',\n",
              "                                                     [key], {});\n",
              "          if (!dataTable) return;\n",
              "\n",
              "          const docLinkHtml = 'Like what you see? Visit the ' +\n",
              "            '<a target=\"_blank\" href=https://colab.research.google.com/notebooks/data_table.ipynb>data table notebook</a>'\n",
              "            + ' to learn more about interactive tables.';\n",
              "          element.innerHTML = '';\n",
              "          dataTable['output_type'] = 'display_data';\n",
              "          await google.colab.output.renderOutput(dataTable, element);\n",
              "          const docLink = document.createElement('div');\n",
              "          docLink.innerHTML = docLinkHtml;\n",
              "          element.appendChild(docLink);\n",
              "        }\n",
              "      </script>\n",
              "    </div>\n",
              "  </div>\n",
              "  "
            ],
            "text/plain": [
              "     KFX    KFY    KFZ    Yaw  Label\n",
              "0  0.030 -0.023  0.009  2.894      1\n",
              "1 -0.012  0.038  0.030  1.703      1\n",
              "2 -0.026 -0.018 -0.022  0.450      1\n",
              "3 -0.007 -0.019  0.019 -1.839      1\n",
              "4 -0.034 -0.018  0.004  0.274      0"
            ]
          },
          "metadata": {},
          "execution_count": 56
        }
      ]
    },
    {
      "cell_type": "code",
      "source": [
        "# normalization\n",
        "from sklearn import preprocessing\n",
        "\n",
        "scaler = preprocessing.StandardScaler()\n",
        "result[[\"ScaledKFX\"]] = scaler.fit_transform(result[[\"KFX\"]])\n",
        "result[[\"ScaledKFY\"]] = scaler.fit_transform(result[[\"KFY\"]])\n",
        "result[[\"ScaledKFZ\"]] = scaler.fit_transform(result[[\"KFZ\"]])\n",
        "result[[\"ScaledYaw\"]] = scaler.fit_transform(result[[\"Yaw\"]]) \n",
        "\n",
        "result.drop(['KFX','KFY','KFZ','Yaw'], axis=1, inplace=True)"
      ],
      "metadata": {
        "id": "fL8utU9oAf0B"
      },
      "execution_count": null,
      "outputs": []
    },
    {
      "cell_type": "code",
      "source": [
        "num_col=['ScaledKFX','ScaledKFY','ScaledKFZ','ScaledYaw']\n",
        "\n",
        "for col in num_col:\n",
        "    print(result[col],'\\n')"
      ],
      "metadata": {
        "colab": {
          "base_uri": "https://localhost:8080/"
        },
        "id": "xNergzeWWCsu",
        "outputId": "987bb71d-a26b-4253-c6d0-6df3ef5c04fe"
      },
      "execution_count": null,
      "outputs": [
        {
          "output_type": "stream",
          "name": "stdout",
          "text": [
            "0         1.635734\n",
            "1        -0.000611\n",
            "2        -0.546059\n",
            "3         0.194192\n",
            "4        -0.857744\n",
            "            ...   \n",
            "258249    1.518852\n",
            "258250   -0.585019\n",
            "258251    1.674694\n",
            "258252    1.752616\n",
            "258253    0.311074\n",
            "Name: ScaledKFX, Length: 258254, dtype: float64 \n",
            "\n",
            "0        -0.429227\n",
            "1         0.908333\n",
            "2        -0.319591\n",
            "3        -0.341518\n",
            "4        -0.319591\n",
            "            ...   \n",
            "258249    0.447862\n",
            "258250    0.228590\n",
            "258251    0.162808\n",
            "258252    0.009318\n",
            "258253   -0.955480\n",
            "Name: ScaledKFY, Length: 258254, dtype: float64 \n",
            "\n",
            "0         0.446281\n",
            "1         1.190330\n",
            "2        -0.652078\n",
            "3         0.800590\n",
            "4         0.269126\n",
            "            ...   \n",
            "258249    0.091972\n",
            "258250   -0.297769\n",
            "258251    1.119469\n",
            "258252   -0.900094\n",
            "258253    0.021110\n",
            "Name: ScaledKFZ, Length: 258254, dtype: float64 \n",
            "\n",
            "0         1.867040\n",
            "1         1.116518\n",
            "2         0.326927\n",
            "3        -1.115511\n",
            "4         0.216019\n",
            "            ...   \n",
            "258249    2.011346\n",
            "258250    0.062259\n",
            "258251   -0.290631\n",
            "258252    1.482642\n",
            "258253   -1.492347\n",
            "Name: ScaledYaw, Length: 258254, dtype: float64 \n",
            "\n"
          ]
        }
      ]
    },
    {
      "cell_type": "code",
      "source": [
        "# test set\n",
        "raw_acc_1d5 = pd.read_csv('/content/drive/MyDrive/UAH-DRIVESET-v1/D5/20151209151242-25km-D5-NORMAL-MOTORWAY/RAW_ACCELEROMETERS.txt',header=None,delimiter=\" \")\n",
        "raw_acc_2d5 = pd.read_csv('/content/drive/MyDrive/UAH-DRIVESET-v1/D5/20151209153137-25km-D5-AGGRESSIVE-MOTORWAY/RAW_ACCELEROMETERS.txt',header=None,delimiter=\" \")\n",
        "raw_acc_3d5 = pd.read_csv('/content/drive/MyDrive/UAH-DRIVESET-v1/D5/20151211160213-25km-D5-DROWSY-MOTORWAY/RAW_ACCELEROMETERS.txt',header=None,delimiter=\" \")\n",
        "raw_acc_4d5 = pd.read_csv('/content/drive/MyDrive/UAH-DRIVESET-v1/D5/20151211162829-16km-D5-NORMAL1-SECONDARY/RAW_ACCELEROMETERS.txt',header=None,delimiter=\" \")\n",
        "raw_acc_5d5 = pd.read_csv('/content/drive/MyDrive/UAH-DRIVESET-v1/D5/20151211164124-17km-D5-NORMAL2-SECONDARY/RAW_ACCELEROMETERS.txt',header=None,delimiter=\" \")\n",
        "raw_acc_6d5 = pd.read_csv('/content/drive/MyDrive/UAH-DRIVESET-v1/D5/20151211165606-12km-D5-AGGRESSIVE-SECONDARY/RAW_ACCELEROMETERS.txt',header=None,delimiter=\" \")\n",
        "raw_acc_7d5 = pd.read_csv('/content/drive/MyDrive/UAH-DRIVESET-v1/D5/20151211170502-16km-D5-DROWSY-SECONDARY/RAW_ACCELEROMETERS.txt',header=None,delimiter=\" \")"
      ],
      "metadata": {
        "id": "LLUeQIjlSh9W"
      },
      "execution_count": null,
      "outputs": []
    },
    {
      "cell_type": "code",
      "source": [
        "for i in range(1):\n",
        "  raw_acc_1d5.drop(11-i, axis=1, inplace=True)\n",
        "  raw_acc_2d5.drop(11-i, axis=1, inplace=True)\n",
        "  raw_acc_3d5.drop(11-i, axis=1, inplace=True)\n",
        "  raw_acc_4d5.drop(11-i, axis=1, inplace=True)\n",
        "  raw_acc_5d5.drop(11-i, axis=1, inplace=True)\n",
        "  raw_acc_6d5.drop(11-i, axis=1, inplace=True)\n",
        "  raw_acc_7d5.drop(11-i, axis=1, inplace=True)\n",
        "\n",
        "raw_acc_6d5.head()"
      ],
      "metadata": {
        "colab": {
          "base_uri": "https://localhost:8080/",
          "height": 206
        },
        "id": "RVm6MFnsS7DU",
        "outputId": "528e6395-199d-402e-c59f-c1abc31de41e"
      },
      "execution_count": null,
      "outputs": [
        {
          "output_type": "execute_result",
          "data": {
            "text/html": [
              "\n",
              "  <div id=\"df-dd3b6653-fc08-4a10-82ec-1bb5ea76cde6\">\n",
              "    <div class=\"colab-df-container\">\n",
              "      <div>\n",
              "<style scoped>\n",
              "    .dataframe tbody tr th:only-of-type {\n",
              "        vertical-align: middle;\n",
              "    }\n",
              "\n",
              "    .dataframe tbody tr th {\n",
              "        vertical-align: top;\n",
              "    }\n",
              "\n",
              "    .dataframe thead th {\n",
              "        text-align: right;\n",
              "    }\n",
              "</style>\n",
              "<table border=\"1\" class=\"dataframe\">\n",
              "  <thead>\n",
              "    <tr style=\"text-align: right;\">\n",
              "      <th></th>\n",
              "      <th>0</th>\n",
              "      <th>1</th>\n",
              "      <th>2</th>\n",
              "      <th>3</th>\n",
              "      <th>4</th>\n",
              "      <th>5</th>\n",
              "      <th>6</th>\n",
              "      <th>7</th>\n",
              "      <th>8</th>\n",
              "      <th>9</th>\n",
              "      <th>10</th>\n",
              "    </tr>\n",
              "  </thead>\n",
              "  <tbody>\n",
              "    <tr>\n",
              "      <th>0</th>\n",
              "      <td>13.91</td>\n",
              "      <td>1</td>\n",
              "      <td>0.015</td>\n",
              "      <td>-0.005</td>\n",
              "      <td>-0.040</td>\n",
              "      <td>-0.006</td>\n",
              "      <td>-0.009</td>\n",
              "      <td>-0.022</td>\n",
              "      <td>-1.562</td>\n",
              "      <td>0.011</td>\n",
              "      <td>0.097</td>\n",
              "    </tr>\n",
              "    <tr>\n",
              "      <th>1</th>\n",
              "      <td>14.01</td>\n",
              "      <td>1</td>\n",
              "      <td>0.012</td>\n",
              "      <td>-0.002</td>\n",
              "      <td>-0.037</td>\n",
              "      <td>-0.002</td>\n",
              "      <td>-0.006</td>\n",
              "      <td>-0.034</td>\n",
              "      <td>-1.561</td>\n",
              "      <td>0.014</td>\n",
              "      <td>0.098</td>\n",
              "    </tr>\n",
              "    <tr>\n",
              "      <th>2</th>\n",
              "      <td>14.11</td>\n",
              "      <td>1</td>\n",
              "      <td>0.019</td>\n",
              "      <td>-0.010</td>\n",
              "      <td>-0.013</td>\n",
              "      <td>0.011</td>\n",
              "      <td>-0.010</td>\n",
              "      <td>-0.021</td>\n",
              "      <td>-1.561</td>\n",
              "      <td>0.015</td>\n",
              "      <td>0.098</td>\n",
              "    </tr>\n",
              "    <tr>\n",
              "      <th>3</th>\n",
              "      <td>14.21</td>\n",
              "      <td>1</td>\n",
              "      <td>0.027</td>\n",
              "      <td>0.002</td>\n",
              "      <td>-0.041</td>\n",
              "      <td>0.023</td>\n",
              "      <td>-0.002</td>\n",
              "      <td>-0.031</td>\n",
              "      <td>-1.560</td>\n",
              "      <td>0.017</td>\n",
              "      <td>0.099</td>\n",
              "    </tr>\n",
              "    <tr>\n",
              "      <th>4</th>\n",
              "      <td>14.32</td>\n",
              "      <td>1</td>\n",
              "      <td>0.015</td>\n",
              "      <td>0.005</td>\n",
              "      <td>-0.025</td>\n",
              "      <td>0.019</td>\n",
              "      <td>0.002</td>\n",
              "      <td>-0.032</td>\n",
              "      <td>-1.558</td>\n",
              "      <td>0.017</td>\n",
              "      <td>0.100</td>\n",
              "    </tr>\n",
              "  </tbody>\n",
              "</table>\n",
              "</div>\n",
              "      <button class=\"colab-df-convert\" onclick=\"convertToInteractive('df-dd3b6653-fc08-4a10-82ec-1bb5ea76cde6')\"\n",
              "              title=\"Convert this dataframe to an interactive table.\"\n",
              "              style=\"display:none;\">\n",
              "        \n",
              "  <svg xmlns=\"http://www.w3.org/2000/svg\" height=\"24px\"viewBox=\"0 0 24 24\"\n",
              "       width=\"24px\">\n",
              "    <path d=\"M0 0h24v24H0V0z\" fill=\"none\"/>\n",
              "    <path d=\"M18.56 5.44l.94 2.06.94-2.06 2.06-.94-2.06-.94-.94-2.06-.94 2.06-2.06.94zm-11 1L8.5 8.5l.94-2.06 2.06-.94-2.06-.94L8.5 2.5l-.94 2.06-2.06.94zm10 10l.94 2.06.94-2.06 2.06-.94-2.06-.94-.94-2.06-.94 2.06-2.06.94z\"/><path d=\"M17.41 7.96l-1.37-1.37c-.4-.4-.92-.59-1.43-.59-.52 0-1.04.2-1.43.59L10.3 9.45l-7.72 7.72c-.78.78-.78 2.05 0 2.83L4 21.41c.39.39.9.59 1.41.59.51 0 1.02-.2 1.41-.59l7.78-7.78 2.81-2.81c.8-.78.8-2.07 0-2.86zM5.41 20L4 18.59l7.72-7.72 1.47 1.35L5.41 20z\"/>\n",
              "  </svg>\n",
              "      </button>\n",
              "      \n",
              "  <style>\n",
              "    .colab-df-container {\n",
              "      display:flex;\n",
              "      flex-wrap:wrap;\n",
              "      gap: 12px;\n",
              "    }\n",
              "\n",
              "    .colab-df-convert {\n",
              "      background-color: #E8F0FE;\n",
              "      border: none;\n",
              "      border-radius: 50%;\n",
              "      cursor: pointer;\n",
              "      display: none;\n",
              "      fill: #1967D2;\n",
              "      height: 32px;\n",
              "      padding: 0 0 0 0;\n",
              "      width: 32px;\n",
              "    }\n",
              "\n",
              "    .colab-df-convert:hover {\n",
              "      background-color: #E2EBFA;\n",
              "      box-shadow: 0px 1px 2px rgba(60, 64, 67, 0.3), 0px 1px 3px 1px rgba(60, 64, 67, 0.15);\n",
              "      fill: #174EA6;\n",
              "    }\n",
              "\n",
              "    [theme=dark] .colab-df-convert {\n",
              "      background-color: #3B4455;\n",
              "      fill: #D2E3FC;\n",
              "    }\n",
              "\n",
              "    [theme=dark] .colab-df-convert:hover {\n",
              "      background-color: #434B5C;\n",
              "      box-shadow: 0px 1px 3px 1px rgba(0, 0, 0, 0.15);\n",
              "      filter: drop-shadow(0px 1px 2px rgba(0, 0, 0, 0.3));\n",
              "      fill: #FFFFFF;\n",
              "    }\n",
              "  </style>\n",
              "\n",
              "      <script>\n",
              "        const buttonEl =\n",
              "          document.querySelector('#df-dd3b6653-fc08-4a10-82ec-1bb5ea76cde6 button.colab-df-convert');\n",
              "        buttonEl.style.display =\n",
              "          google.colab.kernel.accessAllowed ? 'block' : 'none';\n",
              "\n",
              "        async function convertToInteractive(key) {\n",
              "          const element = document.querySelector('#df-dd3b6653-fc08-4a10-82ec-1bb5ea76cde6');\n",
              "          const dataTable =\n",
              "            await google.colab.kernel.invokeFunction('convertToInteractive',\n",
              "                                                     [key], {});\n",
              "          if (!dataTable) return;\n",
              "\n",
              "          const docLinkHtml = 'Like what you see? Visit the ' +\n",
              "            '<a target=\"_blank\" href=https://colab.research.google.com/notebooks/data_table.ipynb>data table notebook</a>'\n",
              "            + ' to learn more about interactive tables.';\n",
              "          element.innerHTML = '';\n",
              "          dataTable['output_type'] = 'display_data';\n",
              "          await google.colab.output.renderOutput(dataTable, element);\n",
              "          const docLink = document.createElement('div');\n",
              "          docLink.innerHTML = docLinkHtml;\n",
              "          element.appendChild(docLink);\n",
              "        }\n",
              "      </script>\n",
              "    </div>\n",
              "  </div>\n",
              "  "
            ],
            "text/plain": [
              "      0   1      2      3      4      5      6      7      8      9      10\n",
              "0  13.91   1  0.015 -0.005 -0.040 -0.006 -0.009 -0.022 -1.562  0.011  0.097\n",
              "1  14.01   1  0.012 -0.002 -0.037 -0.002 -0.006 -0.034 -1.561  0.014  0.098\n",
              "2  14.11   1  0.019 -0.010 -0.013  0.011 -0.010 -0.021 -1.561  0.015  0.098\n",
              "3  14.21   1  0.027  0.002 -0.041  0.023 -0.002 -0.031 -1.560  0.017  0.099\n",
              "4  14.32   1  0.015  0.005 -0.025  0.019  0.002 -0.032 -1.558  0.017  0.100"
            ]
          },
          "metadata": {},
          "execution_count": 60
        }
      ]
    },
    {
      "cell_type": "code",
      "source": [
        "df_normal = [raw_acc_1d5, raw_acc_4d5, raw_acc_5d5]\n",
        "df_drowsy = [raw_acc_7d5, raw_acc_3d5]\n",
        "df_aggressive = [raw_acc_2d5, raw_acc_6d5]\n",
        "\n",
        "for df in df_normal:\n",
        "  df['Label'] = 1\n",
        "\n",
        "for df in df_drowsy:\n",
        "  df['Label'] = 0\n",
        "\n",
        "for df in df_aggressive:\n",
        "  df['Label'] = 2"
      ],
      "metadata": {
        "id": "pdw6pcxkTNIk"
      },
      "execution_count": null,
      "outputs": []
    },
    {
      "cell_type": "code",
      "source": [
        "frames = [raw_acc_1d5, raw_acc_2d5, raw_acc_3d5, raw_acc_4d5, raw_acc_5d5, raw_acc_6d5, raw_acc_7d5]\n",
        "test_df = pd.concat(frames)\n",
        "test_df.shape"
      ],
      "metadata": {
        "colab": {
          "base_uri": "https://localhost:8080/"
        },
        "id": "cYWuvxYeTVMC",
        "outputId": "57362cb6-a72e-4551-e35e-fd53b5a32cd8"
      },
      "execution_count": null,
      "outputs": [
        {
          "output_type": "execute_result",
          "data": {
            "text/plain": [
              "(53131, 12)"
            ]
          },
          "metadata": {},
          "execution_count": 62
        }
      ]
    },
    {
      "cell_type": "code",
      "source": [
        "test_df = test_df.sample(frac=1).reset_index(drop=True)"
      ],
      "metadata": {
        "id": "kSnDJyfdTqZd"
      },
      "execution_count": null,
      "outputs": []
    },
    {
      "cell_type": "code",
      "source": [
        "test_df.columns =['Timestamp', 'Sys_activated ', 'AccX', 'AccY', 'AccZ', 'KFX', 'KFY', 'KFZ', 'Roll', 'Pitch', 'Yaw', 'Label']\n",
        "test_df.tail()"
      ],
      "metadata": {
        "colab": {
          "base_uri": "https://localhost:8080/",
          "height": 206
        },
        "id": "4-YPZdYGT1WP",
        "outputId": "b0345c9d-35ff-4f44-d4c7-c47356cd7bf9"
      },
      "execution_count": null,
      "outputs": [
        {
          "output_type": "execute_result",
          "data": {
            "text/html": [
              "\n",
              "  <div id=\"df-4f5049a2-5cf3-47dc-8ed1-255f00f06ab1\">\n",
              "    <div class=\"colab-df-container\">\n",
              "      <div>\n",
              "<style scoped>\n",
              "    .dataframe tbody tr th:only-of-type {\n",
              "        vertical-align: middle;\n",
              "    }\n",
              "\n",
              "    .dataframe tbody tr th {\n",
              "        vertical-align: top;\n",
              "    }\n",
              "\n",
              "    .dataframe thead th {\n",
              "        text-align: right;\n",
              "    }\n",
              "</style>\n",
              "<table border=\"1\" class=\"dataframe\">\n",
              "  <thead>\n",
              "    <tr style=\"text-align: right;\">\n",
              "      <th></th>\n",
              "      <th>Timestamp</th>\n",
              "      <th>Sys_activated</th>\n",
              "      <th>AccX</th>\n",
              "      <th>AccY</th>\n",
              "      <th>AccZ</th>\n",
              "      <th>KFX</th>\n",
              "      <th>KFY</th>\n",
              "      <th>KFZ</th>\n",
              "      <th>Roll</th>\n",
              "      <th>Pitch</th>\n",
              "      <th>Yaw</th>\n",
              "      <th>Label</th>\n",
              "    </tr>\n",
              "  </thead>\n",
              "  <tbody>\n",
              "    <tr>\n",
              "      <th>53126</th>\n",
              "      <td>784.08</td>\n",
              "      <td>1</td>\n",
              "      <td>-0.096</td>\n",
              "      <td>-0.019</td>\n",
              "      <td>0.031</td>\n",
              "      <td>-0.053</td>\n",
              "      <td>0.006</td>\n",
              "      <td>0.006</td>\n",
              "      <td>-1.609</td>\n",
              "      <td>-0.027</td>\n",
              "      <td>-2.726</td>\n",
              "      <td>1</td>\n",
              "    </tr>\n",
              "    <tr>\n",
              "      <th>53127</th>\n",
              "      <td>363.67</td>\n",
              "      <td>1</td>\n",
              "      <td>-0.015</td>\n",
              "      <td>-0.008</td>\n",
              "      <td>-0.008</td>\n",
              "      <td>-0.015</td>\n",
              "      <td>-0.006</td>\n",
              "      <td>-0.003</td>\n",
              "      <td>-1.567</td>\n",
              "      <td>-0.020</td>\n",
              "      <td>-0.631</td>\n",
              "      <td>1</td>\n",
              "    </tr>\n",
              "    <tr>\n",
              "      <th>53128</th>\n",
              "      <td>895.18</td>\n",
              "      <td>1</td>\n",
              "      <td>-0.005</td>\n",
              "      <td>0.011</td>\n",
              "      <td>0.004</td>\n",
              "      <td>0.005</td>\n",
              "      <td>0.005</td>\n",
              "      <td>0.009</td>\n",
              "      <td>-1.578</td>\n",
              "      <td>0.012</td>\n",
              "      <td>3.006</td>\n",
              "      <td>0</td>\n",
              "    </tr>\n",
              "    <tr>\n",
              "      <th>53129</th>\n",
              "      <td>89.72</td>\n",
              "      <td>1</td>\n",
              "      <td>0.022</td>\n",
              "      <td>0.019</td>\n",
              "      <td>0.041</td>\n",
              "      <td>-0.008</td>\n",
              "      <td>0.005</td>\n",
              "      <td>0.039</td>\n",
              "      <td>-1.571</td>\n",
              "      <td>0.005</td>\n",
              "      <td>-1.058</td>\n",
              "      <td>2</td>\n",
              "    </tr>\n",
              "    <tr>\n",
              "      <th>53130</th>\n",
              "      <td>756.74</td>\n",
              "      <td>1</td>\n",
              "      <td>-0.052</td>\n",
              "      <td>0.000</td>\n",
              "      <td>0.026</td>\n",
              "      <td>-0.031</td>\n",
              "      <td>0.003</td>\n",
              "      <td>0.020</td>\n",
              "      <td>-1.553</td>\n",
              "      <td>0.004</td>\n",
              "      <td>2.955</td>\n",
              "      <td>0</td>\n",
              "    </tr>\n",
              "  </tbody>\n",
              "</table>\n",
              "</div>\n",
              "      <button class=\"colab-df-convert\" onclick=\"convertToInteractive('df-4f5049a2-5cf3-47dc-8ed1-255f00f06ab1')\"\n",
              "              title=\"Convert this dataframe to an interactive table.\"\n",
              "              style=\"display:none;\">\n",
              "        \n",
              "  <svg xmlns=\"http://www.w3.org/2000/svg\" height=\"24px\"viewBox=\"0 0 24 24\"\n",
              "       width=\"24px\">\n",
              "    <path d=\"M0 0h24v24H0V0z\" fill=\"none\"/>\n",
              "    <path d=\"M18.56 5.44l.94 2.06.94-2.06 2.06-.94-2.06-.94-.94-2.06-.94 2.06-2.06.94zm-11 1L8.5 8.5l.94-2.06 2.06-.94-2.06-.94L8.5 2.5l-.94 2.06-2.06.94zm10 10l.94 2.06.94-2.06 2.06-.94-2.06-.94-.94-2.06-.94 2.06-2.06.94z\"/><path d=\"M17.41 7.96l-1.37-1.37c-.4-.4-.92-.59-1.43-.59-.52 0-1.04.2-1.43.59L10.3 9.45l-7.72 7.72c-.78.78-.78 2.05 0 2.83L4 21.41c.39.39.9.59 1.41.59.51 0 1.02-.2 1.41-.59l7.78-7.78 2.81-2.81c.8-.78.8-2.07 0-2.86zM5.41 20L4 18.59l7.72-7.72 1.47 1.35L5.41 20z\"/>\n",
              "  </svg>\n",
              "      </button>\n",
              "      \n",
              "  <style>\n",
              "    .colab-df-container {\n",
              "      display:flex;\n",
              "      flex-wrap:wrap;\n",
              "      gap: 12px;\n",
              "    }\n",
              "\n",
              "    .colab-df-convert {\n",
              "      background-color: #E8F0FE;\n",
              "      border: none;\n",
              "      border-radius: 50%;\n",
              "      cursor: pointer;\n",
              "      display: none;\n",
              "      fill: #1967D2;\n",
              "      height: 32px;\n",
              "      padding: 0 0 0 0;\n",
              "      width: 32px;\n",
              "    }\n",
              "\n",
              "    .colab-df-convert:hover {\n",
              "      background-color: #E2EBFA;\n",
              "      box-shadow: 0px 1px 2px rgba(60, 64, 67, 0.3), 0px 1px 3px 1px rgba(60, 64, 67, 0.15);\n",
              "      fill: #174EA6;\n",
              "    }\n",
              "\n",
              "    [theme=dark] .colab-df-convert {\n",
              "      background-color: #3B4455;\n",
              "      fill: #D2E3FC;\n",
              "    }\n",
              "\n",
              "    [theme=dark] .colab-df-convert:hover {\n",
              "      background-color: #434B5C;\n",
              "      box-shadow: 0px 1px 3px 1px rgba(0, 0, 0, 0.15);\n",
              "      filter: drop-shadow(0px 1px 2px rgba(0, 0, 0, 0.3));\n",
              "      fill: #FFFFFF;\n",
              "    }\n",
              "  </style>\n",
              "\n",
              "      <script>\n",
              "        const buttonEl =\n",
              "          document.querySelector('#df-4f5049a2-5cf3-47dc-8ed1-255f00f06ab1 button.colab-df-convert');\n",
              "        buttonEl.style.display =\n",
              "          google.colab.kernel.accessAllowed ? 'block' : 'none';\n",
              "\n",
              "        async function convertToInteractive(key) {\n",
              "          const element = document.querySelector('#df-4f5049a2-5cf3-47dc-8ed1-255f00f06ab1');\n",
              "          const dataTable =\n",
              "            await google.colab.kernel.invokeFunction('convertToInteractive',\n",
              "                                                     [key], {});\n",
              "          if (!dataTable) return;\n",
              "\n",
              "          const docLinkHtml = 'Like what you see? Visit the ' +\n",
              "            '<a target=\"_blank\" href=https://colab.research.google.com/notebooks/data_table.ipynb>data table notebook</a>'\n",
              "            + ' to learn more about interactive tables.';\n",
              "          element.innerHTML = '';\n",
              "          dataTable['output_type'] = 'display_data';\n",
              "          await google.colab.output.renderOutput(dataTable, element);\n",
              "          const docLink = document.createElement('div');\n",
              "          docLink.innerHTML = docLinkHtml;\n",
              "          element.appendChild(docLink);\n",
              "        }\n",
              "      </script>\n",
              "    </div>\n",
              "  </div>\n",
              "  "
            ],
            "text/plain": [
              "       Timestamp  Sys_activated    AccX   AccY  ...   Roll  Pitch    Yaw  Label\n",
              "53126     784.08               1 -0.096 -0.019  ... -1.609 -0.027 -2.726      1\n",
              "53127     363.67               1 -0.015 -0.008  ... -1.567 -0.020 -0.631      1\n",
              "53128     895.18               1 -0.005  0.011  ... -1.578  0.012  3.006      0\n",
              "53129      89.72               1  0.022  0.019  ... -1.571  0.005 -1.058      2\n",
              "53130     756.74               1 -0.052  0.000  ... -1.553  0.004  2.955      0\n",
              "\n",
              "[5 rows x 12 columns]"
            ]
          },
          "metadata": {},
          "execution_count": 64
        }
      ]
    },
    {
      "cell_type": "code",
      "source": [
        "test_df.drop(['AccX','AccY','AccZ','Roll','Pitch','Sys_activated ','Timestamp'], axis=1, inplace=True)\n",
        "test_df.head()"
      ],
      "metadata": {
        "colab": {
          "base_uri": "https://localhost:8080/",
          "height": 206
        },
        "id": "1JKvaInCT1aK",
        "outputId": "8dd169e5-5b2d-47a0-c758-f4ed769e441f"
      },
      "execution_count": null,
      "outputs": [
        {
          "output_type": "execute_result",
          "data": {
            "text/html": [
              "\n",
              "  <div id=\"df-6c51f306-71b6-4171-8e3d-24c6ea17d3fc\">\n",
              "    <div class=\"colab-df-container\">\n",
              "      <div>\n",
              "<style scoped>\n",
              "    .dataframe tbody tr th:only-of-type {\n",
              "        vertical-align: middle;\n",
              "    }\n",
              "\n",
              "    .dataframe tbody tr th {\n",
              "        vertical-align: top;\n",
              "    }\n",
              "\n",
              "    .dataframe thead th {\n",
              "        text-align: right;\n",
              "    }\n",
              "</style>\n",
              "<table border=\"1\" class=\"dataframe\">\n",
              "  <thead>\n",
              "    <tr style=\"text-align: right;\">\n",
              "      <th></th>\n",
              "      <th>KFX</th>\n",
              "      <th>KFY</th>\n",
              "      <th>KFZ</th>\n",
              "      <th>Yaw</th>\n",
              "      <th>Label</th>\n",
              "    </tr>\n",
              "  </thead>\n",
              "  <tbody>\n",
              "    <tr>\n",
              "      <th>0</th>\n",
              "      <td>-0.006</td>\n",
              "      <td>0.011</td>\n",
              "      <td>0.006</td>\n",
              "      <td>2.928</td>\n",
              "      <td>0</td>\n",
              "    </tr>\n",
              "    <tr>\n",
              "      <th>1</th>\n",
              "      <td>-0.020</td>\n",
              "      <td>-0.014</td>\n",
              "      <td>-0.007</td>\n",
              "      <td>-2.787</td>\n",
              "      <td>1</td>\n",
              "    </tr>\n",
              "    <tr>\n",
              "      <th>2</th>\n",
              "      <td>-0.031</td>\n",
              "      <td>0.001</td>\n",
              "      <td>-0.001</td>\n",
              "      <td>1.778</td>\n",
              "      <td>1</td>\n",
              "    </tr>\n",
              "    <tr>\n",
              "      <th>3</th>\n",
              "      <td>-0.035</td>\n",
              "      <td>-0.015</td>\n",
              "      <td>0.003</td>\n",
              "      <td>0.106</td>\n",
              "      <td>2</td>\n",
              "    </tr>\n",
              "    <tr>\n",
              "      <th>4</th>\n",
              "      <td>0.001</td>\n",
              "      <td>-0.036</td>\n",
              "      <td>-0.002</td>\n",
              "      <td>0.415</td>\n",
              "      <td>0</td>\n",
              "    </tr>\n",
              "  </tbody>\n",
              "</table>\n",
              "</div>\n",
              "      <button class=\"colab-df-convert\" onclick=\"convertToInteractive('df-6c51f306-71b6-4171-8e3d-24c6ea17d3fc')\"\n",
              "              title=\"Convert this dataframe to an interactive table.\"\n",
              "              style=\"display:none;\">\n",
              "        \n",
              "  <svg xmlns=\"http://www.w3.org/2000/svg\" height=\"24px\"viewBox=\"0 0 24 24\"\n",
              "       width=\"24px\">\n",
              "    <path d=\"M0 0h24v24H0V0z\" fill=\"none\"/>\n",
              "    <path d=\"M18.56 5.44l.94 2.06.94-2.06 2.06-.94-2.06-.94-.94-2.06-.94 2.06-2.06.94zm-11 1L8.5 8.5l.94-2.06 2.06-.94-2.06-.94L8.5 2.5l-.94 2.06-2.06.94zm10 10l.94 2.06.94-2.06 2.06-.94-2.06-.94-.94-2.06-.94 2.06-2.06.94z\"/><path d=\"M17.41 7.96l-1.37-1.37c-.4-.4-.92-.59-1.43-.59-.52 0-1.04.2-1.43.59L10.3 9.45l-7.72 7.72c-.78.78-.78 2.05 0 2.83L4 21.41c.39.39.9.59 1.41.59.51 0 1.02-.2 1.41-.59l7.78-7.78 2.81-2.81c.8-.78.8-2.07 0-2.86zM5.41 20L4 18.59l7.72-7.72 1.47 1.35L5.41 20z\"/>\n",
              "  </svg>\n",
              "      </button>\n",
              "      \n",
              "  <style>\n",
              "    .colab-df-container {\n",
              "      display:flex;\n",
              "      flex-wrap:wrap;\n",
              "      gap: 12px;\n",
              "    }\n",
              "\n",
              "    .colab-df-convert {\n",
              "      background-color: #E8F0FE;\n",
              "      border: none;\n",
              "      border-radius: 50%;\n",
              "      cursor: pointer;\n",
              "      display: none;\n",
              "      fill: #1967D2;\n",
              "      height: 32px;\n",
              "      padding: 0 0 0 0;\n",
              "      width: 32px;\n",
              "    }\n",
              "\n",
              "    .colab-df-convert:hover {\n",
              "      background-color: #E2EBFA;\n",
              "      box-shadow: 0px 1px 2px rgba(60, 64, 67, 0.3), 0px 1px 3px 1px rgba(60, 64, 67, 0.15);\n",
              "      fill: #174EA6;\n",
              "    }\n",
              "\n",
              "    [theme=dark] .colab-df-convert {\n",
              "      background-color: #3B4455;\n",
              "      fill: #D2E3FC;\n",
              "    }\n",
              "\n",
              "    [theme=dark] .colab-df-convert:hover {\n",
              "      background-color: #434B5C;\n",
              "      box-shadow: 0px 1px 3px 1px rgba(0, 0, 0, 0.15);\n",
              "      filter: drop-shadow(0px 1px 2px rgba(0, 0, 0, 0.3));\n",
              "      fill: #FFFFFF;\n",
              "    }\n",
              "  </style>\n",
              "\n",
              "      <script>\n",
              "        const buttonEl =\n",
              "          document.querySelector('#df-6c51f306-71b6-4171-8e3d-24c6ea17d3fc button.colab-df-convert');\n",
              "        buttonEl.style.display =\n",
              "          google.colab.kernel.accessAllowed ? 'block' : 'none';\n",
              "\n",
              "        async function convertToInteractive(key) {\n",
              "          const element = document.querySelector('#df-6c51f306-71b6-4171-8e3d-24c6ea17d3fc');\n",
              "          const dataTable =\n",
              "            await google.colab.kernel.invokeFunction('convertToInteractive',\n",
              "                                                     [key], {});\n",
              "          if (!dataTable) return;\n",
              "\n",
              "          const docLinkHtml = 'Like what you see? Visit the ' +\n",
              "            '<a target=\"_blank\" href=https://colab.research.google.com/notebooks/data_table.ipynb>data table notebook</a>'\n",
              "            + ' to learn more about interactive tables.';\n",
              "          element.innerHTML = '';\n",
              "          dataTable['output_type'] = 'display_data';\n",
              "          await google.colab.output.renderOutput(dataTable, element);\n",
              "          const docLink = document.createElement('div');\n",
              "          docLink.innerHTML = docLinkHtml;\n",
              "          element.appendChild(docLink);\n",
              "        }\n",
              "      </script>\n",
              "    </div>\n",
              "  </div>\n",
              "  "
            ],
            "text/plain": [
              "     KFX    KFY    KFZ    Yaw  Label\n",
              "0 -0.006  0.011  0.006  2.928      0\n",
              "1 -0.020 -0.014 -0.007 -2.787      1\n",
              "2 -0.031  0.001 -0.001  1.778      1\n",
              "3 -0.035 -0.015  0.003  0.106      2\n",
              "4  0.001 -0.036 -0.002  0.415      0"
            ]
          },
          "metadata": {},
          "execution_count": 65
        }
      ]
    },
    {
      "cell_type": "code",
      "source": [
        "# normalization\n",
        "from sklearn import preprocessing\n",
        "\n",
        "scaler = preprocessing.StandardScaler()\n",
        "test_df[[\"ScaledKFX\"]] = scaler.fit_transform(test_df[[\"KFX\"]])\n",
        "test_df[[\"ScaledKFY\"]] = scaler.fit_transform(test_df[[\"KFY\"]])\n",
        "test_df[[\"ScaledKFZ\"]] = scaler.fit_transform(test_df[[\"KFZ\"]])\n",
        "test_df[[\"ScaledYaw\"]] = scaler.fit_transform(test_df[[\"Yaw\"]]) \n",
        "\n",
        "test_df.drop(['KFX','KFY','KFZ','Yaw'], axis=1, inplace=True)"
      ],
      "metadata": {
        "id": "lO6F_VakT1ev"
      },
      "execution_count": null,
      "outputs": []
    },
    {
      "cell_type": "code",
      "source": [
        "num_col=['ScaledKFX','ScaledKFY','ScaledKFZ','ScaledYaw']\n",
        "\n",
        "for col in num_col:\n",
        "    print(test_df[col],'\\n')"
      ],
      "metadata": {
        "colab": {
          "base_uri": "https://localhost:8080/"
        },
        "id": "6wzdM6KeSQ4G",
        "outputId": "45a5e7c2-8fff-485a-b129-9405e822757c"
      },
      "execution_count": null,
      "outputs": [
        {
          "output_type": "stream",
          "name": "stdout",
          "text": [
            "0        0.390684\n",
            "1       -0.022379\n",
            "2       -0.346928\n",
            "3       -0.464946\n",
            "4        0.597215\n",
            "           ...   \n",
            "53126   -0.996026\n",
            "53127    0.125144\n",
            "53128    0.715233\n",
            "53129    0.331675\n",
            "53130   -0.346928\n",
            "Name: ScaledKFX, Length: 53131, dtype: float64 \n",
            "\n",
            "0        0.396155\n",
            "1        0.194545\n",
            "2        0.315511\n",
            "3        0.186481\n",
            "4        0.017128\n",
            "           ...   \n",
            "53126    0.355833\n",
            "53127    0.259061\n",
            "53128    0.347769\n",
            "53129    0.347769\n",
            "53130    0.331640\n",
            "Name: ScaledKFY, Length: 53131, dtype: float64 \n",
            "\n",
            "0        0.302230\n",
            "1       -0.072287\n",
            "2        0.100567\n",
            "3        0.215803\n",
            "4        0.071758\n",
            "           ...   \n",
            "53126    0.302230\n",
            "53127    0.042949\n",
            "53128    0.388658\n",
            "53129    1.252928\n",
            "53130    0.705557\n",
            "Name: ScaledKFZ, Length: 53131, dtype: float64 \n",
            "\n",
            "0        1.869948\n",
            "1       -1.661460\n",
            "2        1.159341\n",
            "3        0.126180\n",
            "4        0.317117\n",
            "           ...   \n",
            "53126   -1.623767\n",
            "53127   -0.329226\n",
            "53128    1.918146\n",
            "53129   -0.593078\n",
            "53130    1.886632\n",
            "Name: ScaledYaw, Length: 53131, dtype: float64 \n",
            "\n"
          ]
        }
      ]
    },
    {
      "cell_type": "code",
      "source": [
        "# Model-1: AdaBoost\n",
        "from sklearn.ensemble import AdaBoostClassifier\n",
        "\n",
        "clf = AdaBoostClassifier(n_estimators=1500, random_state=0).fit(result.drop('Label', axis=1), result.Label)\n",
        "clf.score(test_df.drop('Label', axis=1),test_df.Label)"
      ],
      "metadata": {
        "id": "z_0V7L3wWseb",
        "colab": {
          "base_uri": "https://localhost:8080/"
        },
        "outputId": "ca5f3a0c-f343-400d-edce-c91ceaa4416b"
      },
      "execution_count": null,
      "outputs": [
        {
          "output_type": "execute_result",
          "data": {
            "text/plain": [
              "0.41503077299505"
            ]
          },
          "metadata": {},
          "execution_count": 75
        }
      ]
    },
    {
      "cell_type": "code",
      "source": [
        "# Model-2: Gradient Boost\n",
        "from sklearn.ensemble import GradientBoostingClassifier\n",
        "\n",
        "clf = GradientBoostingClassifier(n_estimators=500, learning_rate=0.45, max_depth=4, random_state=0).fit(result.drop('Label', axis=1), result.Label)\n",
        "clf.score(test_df.drop('Label', axis=1),test_df.Label)"
      ],
      "metadata": {
        "colab": {
          "base_uri": "https://localhost:8080/"
        },
        "id": "stkzbQ9WZtfK",
        "outputId": "9cfe1a9d-6a9b-4240-a9ff-e312ccf5230c"
      },
      "execution_count": null,
      "outputs": [
        {
          "output_type": "execute_result",
          "data": {
            "text/plain": [
              "0.42818693418155124"
            ]
          },
          "metadata": {},
          "execution_count": 82
        }
      ]
    },
    {
      "cell_type": "code",
      "source": [
        "# Model-3: Gaussian Naive Bayes\n",
        "from sklearn.naive_bayes import GaussianNB\n",
        "\n",
        "clf = GaussianNB().fit(result.drop('Label', axis=1), result.Label)\n",
        "clf.score(test_df.drop('Label', axis=1),test_df.Label)"
      ],
      "metadata": {
        "id": "UCR5l6KwWgCZ",
        "colab": {
          "base_uri": "https://localhost:8080/"
        },
        "outputId": "cab324c9-95a9-48a3-e9c6-534cc63dae47"
      },
      "execution_count": null,
      "outputs": [
        {
          "output_type": "execute_result",
          "data": {
            "text/plain": [
              "0.436731851461482"
            ]
          },
          "metadata": {},
          "execution_count": 74
        }
      ]
    },
    {
      "cell_type": "code",
      "source": [
        "# Model-4: Random Forest\n",
        "from sklearn.ensemble import RandomForestClassifier\n",
        "\n",
        "clf = RandomForestClassifier(max_depth=16, random_state=0).fit(result.drop('Label', axis=1), result.Label)\n",
        "clf.score(test_df.drop('Label', axis=1),test_df.Label)"
      ],
      "metadata": {
        "id": "zUutmj2uWzqi",
        "colab": {
          "base_uri": "https://localhost:8080/"
        },
        "outputId": "4b94104a-ee8e-4854-c7b3-7919d15f598d"
      },
      "execution_count": null,
      "outputs": [
        {
          "output_type": "execute_result",
          "data": {
            "text/plain": [
              "0.4492480849221735"
            ]
          },
          "metadata": {},
          "execution_count": 79
        }
      ]
    }
  ]
}